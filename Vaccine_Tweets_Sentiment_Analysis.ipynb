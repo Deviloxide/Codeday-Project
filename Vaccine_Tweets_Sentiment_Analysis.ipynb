{
  "nbformat": 4,
  "nbformat_minor": 0,
  "metadata": {
    "colab": {
      "name": "Vaccine Tweets Sentiment Analysis.ipynb",
      "provenance": [],
      "authorship_tag": "ABX9TyM4YytvAwoyVeS0nu3b7x8E",
      "include_colab_link": true
    },
    "kernelspec": {
      "name": "python3",
      "display_name": "Python 3"
    },
    "language_info": {
      "name": "python"
    },
    "accelerator": "GPU",
    "gpuClass": "standard",
    "widgets": {
      "application/vnd.jupyter.widget-state+json": {
        "5f65e855bc994f4e87a742883e6afe36": {
          "model_module": "@jupyter-widgets/controls",
          "model_name": "HBoxModel",
          "model_module_version": "1.5.0",
          "state": {
            "_dom_classes": [],
            "_model_module": "@jupyter-widgets/controls",
            "_model_module_version": "1.5.0",
            "_model_name": "HBoxModel",
            "_view_count": null,
            "_view_module": "@jupyter-widgets/controls",
            "_view_module_version": "1.5.0",
            "_view_name": "HBoxView",
            "box_style": "",
            "children": [
              "IPY_MODEL_0749ebbe93e642d486e417e06604329a",
              "IPY_MODEL_03e9efc7f29145f7a7d035435e92fd7b",
              "IPY_MODEL_ffa9897fa2ef4526b23ab170d89560aa"
            ],
            "layout": "IPY_MODEL_bfd3c44a93e74dab81ab3b77ae7f8392"
          }
        },
        "0749ebbe93e642d486e417e06604329a": {
          "model_module": "@jupyter-widgets/controls",
          "model_name": "HTMLModel",
          "model_module_version": "1.5.0",
          "state": {
            "_dom_classes": [],
            "_model_module": "@jupyter-widgets/controls",
            "_model_module_version": "1.5.0",
            "_model_name": "HTMLModel",
            "_view_count": null,
            "_view_module": "@jupyter-widgets/controls",
            "_view_module_version": "1.5.0",
            "_view_name": "HTMLView",
            "description": "",
            "description_tooltip": null,
            "layout": "IPY_MODEL_c5ef5d2f92e5468186df4d7854ae955a",
            "placeholder": "​",
            "style": "IPY_MODEL_2fb3c3e36a21483db06f57d9e9f5bcef",
            "value": "Downloading vocab.txt: 100%"
          }
        },
        "03e9efc7f29145f7a7d035435e92fd7b": {
          "model_module": "@jupyter-widgets/controls",
          "model_name": "FloatProgressModel",
          "model_module_version": "1.5.0",
          "state": {
            "_dom_classes": [],
            "_model_module": "@jupyter-widgets/controls",
            "_model_module_version": "1.5.0",
            "_model_name": "FloatProgressModel",
            "_view_count": null,
            "_view_module": "@jupyter-widgets/controls",
            "_view_module_version": "1.5.0",
            "_view_name": "ProgressView",
            "bar_style": "success",
            "description": "",
            "description_tooltip": null,
            "layout": "IPY_MODEL_94708323b0b24331bc9021de81dab08b",
            "max": 213450,
            "min": 0,
            "orientation": "horizontal",
            "style": "IPY_MODEL_a2a1610e41a74d39999c0c634b529ee5",
            "value": 213450
          }
        },
        "ffa9897fa2ef4526b23ab170d89560aa": {
          "model_module": "@jupyter-widgets/controls",
          "model_name": "HTMLModel",
          "model_module_version": "1.5.0",
          "state": {
            "_dom_classes": [],
            "_model_module": "@jupyter-widgets/controls",
            "_model_module_version": "1.5.0",
            "_model_name": "HTMLModel",
            "_view_count": null,
            "_view_module": "@jupyter-widgets/controls",
            "_view_module_version": "1.5.0",
            "_view_name": "HTMLView",
            "description": "",
            "description_tooltip": null,
            "layout": "IPY_MODEL_63f7e0fb3f97418589d58b04b096ce62",
            "placeholder": "​",
            "style": "IPY_MODEL_2cd56ae4183a40aea13d017b6634acba",
            "value": " 208k/208k [00:00&lt;00:00, 692kB/s]"
          }
        },
        "bfd3c44a93e74dab81ab3b77ae7f8392": {
          "model_module": "@jupyter-widgets/base",
          "model_name": "LayoutModel",
          "model_module_version": "1.2.0",
          "state": {
            "_model_module": "@jupyter-widgets/base",
            "_model_module_version": "1.2.0",
            "_model_name": "LayoutModel",
            "_view_count": null,
            "_view_module": "@jupyter-widgets/base",
            "_view_module_version": "1.2.0",
            "_view_name": "LayoutView",
            "align_content": null,
            "align_items": null,
            "align_self": null,
            "border": null,
            "bottom": null,
            "display": null,
            "flex": null,
            "flex_flow": null,
            "grid_area": null,
            "grid_auto_columns": null,
            "grid_auto_flow": null,
            "grid_auto_rows": null,
            "grid_column": null,
            "grid_gap": null,
            "grid_row": null,
            "grid_template_areas": null,
            "grid_template_columns": null,
            "grid_template_rows": null,
            "height": null,
            "justify_content": null,
            "justify_items": null,
            "left": null,
            "margin": null,
            "max_height": null,
            "max_width": null,
            "min_height": null,
            "min_width": null,
            "object_fit": null,
            "object_position": null,
            "order": null,
            "overflow": null,
            "overflow_x": null,
            "overflow_y": null,
            "padding": null,
            "right": null,
            "top": null,
            "visibility": null,
            "width": null
          }
        },
        "c5ef5d2f92e5468186df4d7854ae955a": {
          "model_module": "@jupyter-widgets/base",
          "model_name": "LayoutModel",
          "model_module_version": "1.2.0",
          "state": {
            "_model_module": "@jupyter-widgets/base",
            "_model_module_version": "1.2.0",
            "_model_name": "LayoutModel",
            "_view_count": null,
            "_view_module": "@jupyter-widgets/base",
            "_view_module_version": "1.2.0",
            "_view_name": "LayoutView",
            "align_content": null,
            "align_items": null,
            "align_self": null,
            "border": null,
            "bottom": null,
            "display": null,
            "flex": null,
            "flex_flow": null,
            "grid_area": null,
            "grid_auto_columns": null,
            "grid_auto_flow": null,
            "grid_auto_rows": null,
            "grid_column": null,
            "grid_gap": null,
            "grid_row": null,
            "grid_template_areas": null,
            "grid_template_columns": null,
            "grid_template_rows": null,
            "height": null,
            "justify_content": null,
            "justify_items": null,
            "left": null,
            "margin": null,
            "max_height": null,
            "max_width": null,
            "min_height": null,
            "min_width": null,
            "object_fit": null,
            "object_position": null,
            "order": null,
            "overflow": null,
            "overflow_x": null,
            "overflow_y": null,
            "padding": null,
            "right": null,
            "top": null,
            "visibility": null,
            "width": null
          }
        },
        "2fb3c3e36a21483db06f57d9e9f5bcef": {
          "model_module": "@jupyter-widgets/controls",
          "model_name": "DescriptionStyleModel",
          "model_module_version": "1.5.0",
          "state": {
            "_model_module": "@jupyter-widgets/controls",
            "_model_module_version": "1.5.0",
            "_model_name": "DescriptionStyleModel",
            "_view_count": null,
            "_view_module": "@jupyter-widgets/base",
            "_view_module_version": "1.2.0",
            "_view_name": "StyleView",
            "description_width": ""
          }
        },
        "94708323b0b24331bc9021de81dab08b": {
          "model_module": "@jupyter-widgets/base",
          "model_name": "LayoutModel",
          "model_module_version": "1.2.0",
          "state": {
            "_model_module": "@jupyter-widgets/base",
            "_model_module_version": "1.2.0",
            "_model_name": "LayoutModel",
            "_view_count": null,
            "_view_module": "@jupyter-widgets/base",
            "_view_module_version": "1.2.0",
            "_view_name": "LayoutView",
            "align_content": null,
            "align_items": null,
            "align_self": null,
            "border": null,
            "bottom": null,
            "display": null,
            "flex": null,
            "flex_flow": null,
            "grid_area": null,
            "grid_auto_columns": null,
            "grid_auto_flow": null,
            "grid_auto_rows": null,
            "grid_column": null,
            "grid_gap": null,
            "grid_row": null,
            "grid_template_areas": null,
            "grid_template_columns": null,
            "grid_template_rows": null,
            "height": null,
            "justify_content": null,
            "justify_items": null,
            "left": null,
            "margin": null,
            "max_height": null,
            "max_width": null,
            "min_height": null,
            "min_width": null,
            "object_fit": null,
            "object_position": null,
            "order": null,
            "overflow": null,
            "overflow_x": null,
            "overflow_y": null,
            "padding": null,
            "right": null,
            "top": null,
            "visibility": null,
            "width": null
          }
        },
        "a2a1610e41a74d39999c0c634b529ee5": {
          "model_module": "@jupyter-widgets/controls",
          "model_name": "ProgressStyleModel",
          "model_module_version": "1.5.0",
          "state": {
            "_model_module": "@jupyter-widgets/controls",
            "_model_module_version": "1.5.0",
            "_model_name": "ProgressStyleModel",
            "_view_count": null,
            "_view_module": "@jupyter-widgets/base",
            "_view_module_version": "1.2.0",
            "_view_name": "StyleView",
            "bar_color": null,
            "description_width": ""
          }
        },
        "63f7e0fb3f97418589d58b04b096ce62": {
          "model_module": "@jupyter-widgets/base",
          "model_name": "LayoutModel",
          "model_module_version": "1.2.0",
          "state": {
            "_model_module": "@jupyter-widgets/base",
            "_model_module_version": "1.2.0",
            "_model_name": "LayoutModel",
            "_view_count": null,
            "_view_module": "@jupyter-widgets/base",
            "_view_module_version": "1.2.0",
            "_view_name": "LayoutView",
            "align_content": null,
            "align_items": null,
            "align_self": null,
            "border": null,
            "bottom": null,
            "display": null,
            "flex": null,
            "flex_flow": null,
            "grid_area": null,
            "grid_auto_columns": null,
            "grid_auto_flow": null,
            "grid_auto_rows": null,
            "grid_column": null,
            "grid_gap": null,
            "grid_row": null,
            "grid_template_areas": null,
            "grid_template_columns": null,
            "grid_template_rows": null,
            "height": null,
            "justify_content": null,
            "justify_items": null,
            "left": null,
            "margin": null,
            "max_height": null,
            "max_width": null,
            "min_height": null,
            "min_width": null,
            "object_fit": null,
            "object_position": null,
            "order": null,
            "overflow": null,
            "overflow_x": null,
            "overflow_y": null,
            "padding": null,
            "right": null,
            "top": null,
            "visibility": null,
            "width": null
          }
        },
        "2cd56ae4183a40aea13d017b6634acba": {
          "model_module": "@jupyter-widgets/controls",
          "model_name": "DescriptionStyleModel",
          "model_module_version": "1.5.0",
          "state": {
            "_model_module": "@jupyter-widgets/controls",
            "_model_module_version": "1.5.0",
            "_model_name": "DescriptionStyleModel",
            "_view_count": null,
            "_view_module": "@jupyter-widgets/base",
            "_view_module_version": "1.2.0",
            "_view_name": "StyleView",
            "description_width": ""
          }
        },
        "06a3e4e59c544ee4b465ce4a9728163c": {
          "model_module": "@jupyter-widgets/controls",
          "model_name": "HBoxModel",
          "model_module_version": "1.5.0",
          "state": {
            "_dom_classes": [],
            "_model_module": "@jupyter-widgets/controls",
            "_model_module_version": "1.5.0",
            "_model_name": "HBoxModel",
            "_view_count": null,
            "_view_module": "@jupyter-widgets/controls",
            "_view_module_version": "1.5.0",
            "_view_name": "HBoxView",
            "box_style": "",
            "children": [
              "IPY_MODEL_52dae12283814024ab87a873571d4a88",
              "IPY_MODEL_588f08e891c34b859f9f19e3a5b9f852",
              "IPY_MODEL_f351910f1efd4400b3d4f36af43ee3b7"
            ],
            "layout": "IPY_MODEL_8717acb901c94583989cfaedd364fa9c"
          }
        },
        "52dae12283814024ab87a873571d4a88": {
          "model_module": "@jupyter-widgets/controls",
          "model_name": "HTMLModel",
          "model_module_version": "1.5.0",
          "state": {
            "_dom_classes": [],
            "_model_module": "@jupyter-widgets/controls",
            "_model_module_version": "1.5.0",
            "_model_name": "HTMLModel",
            "_view_count": null,
            "_view_module": "@jupyter-widgets/controls",
            "_view_module_version": "1.5.0",
            "_view_name": "HTMLView",
            "description": "",
            "description_tooltip": null,
            "layout": "IPY_MODEL_a460d43fd79f4e7ca23ecf8a57a139eb",
            "placeholder": "​",
            "style": "IPY_MODEL_c44ec7ac26e447168ff95ee151ccbdd8",
            "value": "Downloading tokenizer_config.json: 100%"
          }
        },
        "588f08e891c34b859f9f19e3a5b9f852": {
          "model_module": "@jupyter-widgets/controls",
          "model_name": "FloatProgressModel",
          "model_module_version": "1.5.0",
          "state": {
            "_dom_classes": [],
            "_model_module": "@jupyter-widgets/controls",
            "_model_module_version": "1.5.0",
            "_model_name": "FloatProgressModel",
            "_view_count": null,
            "_view_module": "@jupyter-widgets/controls",
            "_view_module_version": "1.5.0",
            "_view_name": "ProgressView",
            "bar_style": "success",
            "description": "",
            "description_tooltip": null,
            "layout": "IPY_MODEL_b88b5ec766ad4e21a6b3453800e0c4ce",
            "max": 29,
            "min": 0,
            "orientation": "horizontal",
            "style": "IPY_MODEL_a855b54efc6b4404857e5a89c9dea115",
            "value": 29
          }
        },
        "f351910f1efd4400b3d4f36af43ee3b7": {
          "model_module": "@jupyter-widgets/controls",
          "model_name": "HTMLModel",
          "model_module_version": "1.5.0",
          "state": {
            "_dom_classes": [],
            "_model_module": "@jupyter-widgets/controls",
            "_model_module_version": "1.5.0",
            "_model_name": "HTMLModel",
            "_view_count": null,
            "_view_module": "@jupyter-widgets/controls",
            "_view_module_version": "1.5.0",
            "_view_name": "HTMLView",
            "description": "",
            "description_tooltip": null,
            "layout": "IPY_MODEL_4c92a111889d401cba4e61abbd02557a",
            "placeholder": "​",
            "style": "IPY_MODEL_14d56259f08042679fe8676f04f60806",
            "value": " 29.0/29.0 [00:00&lt;00:00, 830B/s]"
          }
        },
        "8717acb901c94583989cfaedd364fa9c": {
          "model_module": "@jupyter-widgets/base",
          "model_name": "LayoutModel",
          "model_module_version": "1.2.0",
          "state": {
            "_model_module": "@jupyter-widgets/base",
            "_model_module_version": "1.2.0",
            "_model_name": "LayoutModel",
            "_view_count": null,
            "_view_module": "@jupyter-widgets/base",
            "_view_module_version": "1.2.0",
            "_view_name": "LayoutView",
            "align_content": null,
            "align_items": null,
            "align_self": null,
            "border": null,
            "bottom": null,
            "display": null,
            "flex": null,
            "flex_flow": null,
            "grid_area": null,
            "grid_auto_columns": null,
            "grid_auto_flow": null,
            "grid_auto_rows": null,
            "grid_column": null,
            "grid_gap": null,
            "grid_row": null,
            "grid_template_areas": null,
            "grid_template_columns": null,
            "grid_template_rows": null,
            "height": null,
            "justify_content": null,
            "justify_items": null,
            "left": null,
            "margin": null,
            "max_height": null,
            "max_width": null,
            "min_height": null,
            "min_width": null,
            "object_fit": null,
            "object_position": null,
            "order": null,
            "overflow": null,
            "overflow_x": null,
            "overflow_y": null,
            "padding": null,
            "right": null,
            "top": null,
            "visibility": null,
            "width": null
          }
        },
        "a460d43fd79f4e7ca23ecf8a57a139eb": {
          "model_module": "@jupyter-widgets/base",
          "model_name": "LayoutModel",
          "model_module_version": "1.2.0",
          "state": {
            "_model_module": "@jupyter-widgets/base",
            "_model_module_version": "1.2.0",
            "_model_name": "LayoutModel",
            "_view_count": null,
            "_view_module": "@jupyter-widgets/base",
            "_view_module_version": "1.2.0",
            "_view_name": "LayoutView",
            "align_content": null,
            "align_items": null,
            "align_self": null,
            "border": null,
            "bottom": null,
            "display": null,
            "flex": null,
            "flex_flow": null,
            "grid_area": null,
            "grid_auto_columns": null,
            "grid_auto_flow": null,
            "grid_auto_rows": null,
            "grid_column": null,
            "grid_gap": null,
            "grid_row": null,
            "grid_template_areas": null,
            "grid_template_columns": null,
            "grid_template_rows": null,
            "height": null,
            "justify_content": null,
            "justify_items": null,
            "left": null,
            "margin": null,
            "max_height": null,
            "max_width": null,
            "min_height": null,
            "min_width": null,
            "object_fit": null,
            "object_position": null,
            "order": null,
            "overflow": null,
            "overflow_x": null,
            "overflow_y": null,
            "padding": null,
            "right": null,
            "top": null,
            "visibility": null,
            "width": null
          }
        },
        "c44ec7ac26e447168ff95ee151ccbdd8": {
          "model_module": "@jupyter-widgets/controls",
          "model_name": "DescriptionStyleModel",
          "model_module_version": "1.5.0",
          "state": {
            "_model_module": "@jupyter-widgets/controls",
            "_model_module_version": "1.5.0",
            "_model_name": "DescriptionStyleModel",
            "_view_count": null,
            "_view_module": "@jupyter-widgets/base",
            "_view_module_version": "1.2.0",
            "_view_name": "StyleView",
            "description_width": ""
          }
        },
        "b88b5ec766ad4e21a6b3453800e0c4ce": {
          "model_module": "@jupyter-widgets/base",
          "model_name": "LayoutModel",
          "model_module_version": "1.2.0",
          "state": {
            "_model_module": "@jupyter-widgets/base",
            "_model_module_version": "1.2.0",
            "_model_name": "LayoutModel",
            "_view_count": null,
            "_view_module": "@jupyter-widgets/base",
            "_view_module_version": "1.2.0",
            "_view_name": "LayoutView",
            "align_content": null,
            "align_items": null,
            "align_self": null,
            "border": null,
            "bottom": null,
            "display": null,
            "flex": null,
            "flex_flow": null,
            "grid_area": null,
            "grid_auto_columns": null,
            "grid_auto_flow": null,
            "grid_auto_rows": null,
            "grid_column": null,
            "grid_gap": null,
            "grid_row": null,
            "grid_template_areas": null,
            "grid_template_columns": null,
            "grid_template_rows": null,
            "height": null,
            "justify_content": null,
            "justify_items": null,
            "left": null,
            "margin": null,
            "max_height": null,
            "max_width": null,
            "min_height": null,
            "min_width": null,
            "object_fit": null,
            "object_position": null,
            "order": null,
            "overflow": null,
            "overflow_x": null,
            "overflow_y": null,
            "padding": null,
            "right": null,
            "top": null,
            "visibility": null,
            "width": null
          }
        },
        "a855b54efc6b4404857e5a89c9dea115": {
          "model_module": "@jupyter-widgets/controls",
          "model_name": "ProgressStyleModel",
          "model_module_version": "1.5.0",
          "state": {
            "_model_module": "@jupyter-widgets/controls",
            "_model_module_version": "1.5.0",
            "_model_name": "ProgressStyleModel",
            "_view_count": null,
            "_view_module": "@jupyter-widgets/base",
            "_view_module_version": "1.2.0",
            "_view_name": "StyleView",
            "bar_color": null,
            "description_width": ""
          }
        },
        "4c92a111889d401cba4e61abbd02557a": {
          "model_module": "@jupyter-widgets/base",
          "model_name": "LayoutModel",
          "model_module_version": "1.2.0",
          "state": {
            "_model_module": "@jupyter-widgets/base",
            "_model_module_version": "1.2.0",
            "_model_name": "LayoutModel",
            "_view_count": null,
            "_view_module": "@jupyter-widgets/base",
            "_view_module_version": "1.2.0",
            "_view_name": "LayoutView",
            "align_content": null,
            "align_items": null,
            "align_self": null,
            "border": null,
            "bottom": null,
            "display": null,
            "flex": null,
            "flex_flow": null,
            "grid_area": null,
            "grid_auto_columns": null,
            "grid_auto_flow": null,
            "grid_auto_rows": null,
            "grid_column": null,
            "grid_gap": null,
            "grid_row": null,
            "grid_template_areas": null,
            "grid_template_columns": null,
            "grid_template_rows": null,
            "height": null,
            "justify_content": null,
            "justify_items": null,
            "left": null,
            "margin": null,
            "max_height": null,
            "max_width": null,
            "min_height": null,
            "min_width": null,
            "object_fit": null,
            "object_position": null,
            "order": null,
            "overflow": null,
            "overflow_x": null,
            "overflow_y": null,
            "padding": null,
            "right": null,
            "top": null,
            "visibility": null,
            "width": null
          }
        },
        "14d56259f08042679fe8676f04f60806": {
          "model_module": "@jupyter-widgets/controls",
          "model_name": "DescriptionStyleModel",
          "model_module_version": "1.5.0",
          "state": {
            "_model_module": "@jupyter-widgets/controls",
            "_model_module_version": "1.5.0",
            "_model_name": "DescriptionStyleModel",
            "_view_count": null,
            "_view_module": "@jupyter-widgets/base",
            "_view_module_version": "1.2.0",
            "_view_name": "StyleView",
            "description_width": ""
          }
        },
        "f7453b27c5064476a8005482fa4e28c1": {
          "model_module": "@jupyter-widgets/controls",
          "model_name": "HBoxModel",
          "model_module_version": "1.5.0",
          "state": {
            "_dom_classes": [],
            "_model_module": "@jupyter-widgets/controls",
            "_model_module_version": "1.5.0",
            "_model_name": "HBoxModel",
            "_view_count": null,
            "_view_module": "@jupyter-widgets/controls",
            "_view_module_version": "1.5.0",
            "_view_name": "HBoxView",
            "box_style": "",
            "children": [
              "IPY_MODEL_06eba0cfe7fb4d5f89101c9ac0b0ceeb",
              "IPY_MODEL_a835d3d7c9424d30a5a601ea5fcc111e",
              "IPY_MODEL_b4d238a2a72a46f6bc6ef024d9528c70"
            ],
            "layout": "IPY_MODEL_964d19c63e454a85b5e72d504234f9aa"
          }
        },
        "06eba0cfe7fb4d5f89101c9ac0b0ceeb": {
          "model_module": "@jupyter-widgets/controls",
          "model_name": "HTMLModel",
          "model_module_version": "1.5.0",
          "state": {
            "_dom_classes": [],
            "_model_module": "@jupyter-widgets/controls",
            "_model_module_version": "1.5.0",
            "_model_name": "HTMLModel",
            "_view_count": null,
            "_view_module": "@jupyter-widgets/controls",
            "_view_module_version": "1.5.0",
            "_view_name": "HTMLView",
            "description": "",
            "description_tooltip": null,
            "layout": "IPY_MODEL_367f1ad6afb347fdbe8912b00250f657",
            "placeholder": "​",
            "style": "IPY_MODEL_179e933c3a8a489da7275ff32dc756fd",
            "value": "Downloading config.json: 100%"
          }
        },
        "a835d3d7c9424d30a5a601ea5fcc111e": {
          "model_module": "@jupyter-widgets/controls",
          "model_name": "FloatProgressModel",
          "model_module_version": "1.5.0",
          "state": {
            "_dom_classes": [],
            "_model_module": "@jupyter-widgets/controls",
            "_model_module_version": "1.5.0",
            "_model_name": "FloatProgressModel",
            "_view_count": null,
            "_view_module": "@jupyter-widgets/controls",
            "_view_module_version": "1.5.0",
            "_view_name": "ProgressView",
            "bar_style": "success",
            "description": "",
            "description_tooltip": null,
            "layout": "IPY_MODEL_ce3f6171a8c043859dd3aa4a78de55a3",
            "max": 570,
            "min": 0,
            "orientation": "horizontal",
            "style": "IPY_MODEL_740e184fe7304046bcb5c160655230bc",
            "value": 570
          }
        },
        "b4d238a2a72a46f6bc6ef024d9528c70": {
          "model_module": "@jupyter-widgets/controls",
          "model_name": "HTMLModel",
          "model_module_version": "1.5.0",
          "state": {
            "_dom_classes": [],
            "_model_module": "@jupyter-widgets/controls",
            "_model_module_version": "1.5.0",
            "_model_name": "HTMLModel",
            "_view_count": null,
            "_view_module": "@jupyter-widgets/controls",
            "_view_module_version": "1.5.0",
            "_view_name": "HTMLView",
            "description": "",
            "description_tooltip": null,
            "layout": "IPY_MODEL_f7e8be8cde2648d3b4089e086cdbed26",
            "placeholder": "​",
            "style": "IPY_MODEL_91a25c4ce4464b4c9212222a67b7daea",
            "value": " 570/570 [00:00&lt;00:00, 15.1kB/s]"
          }
        },
        "964d19c63e454a85b5e72d504234f9aa": {
          "model_module": "@jupyter-widgets/base",
          "model_name": "LayoutModel",
          "model_module_version": "1.2.0",
          "state": {
            "_model_module": "@jupyter-widgets/base",
            "_model_module_version": "1.2.0",
            "_model_name": "LayoutModel",
            "_view_count": null,
            "_view_module": "@jupyter-widgets/base",
            "_view_module_version": "1.2.0",
            "_view_name": "LayoutView",
            "align_content": null,
            "align_items": null,
            "align_self": null,
            "border": null,
            "bottom": null,
            "display": null,
            "flex": null,
            "flex_flow": null,
            "grid_area": null,
            "grid_auto_columns": null,
            "grid_auto_flow": null,
            "grid_auto_rows": null,
            "grid_column": null,
            "grid_gap": null,
            "grid_row": null,
            "grid_template_areas": null,
            "grid_template_columns": null,
            "grid_template_rows": null,
            "height": null,
            "justify_content": null,
            "justify_items": null,
            "left": null,
            "margin": null,
            "max_height": null,
            "max_width": null,
            "min_height": null,
            "min_width": null,
            "object_fit": null,
            "object_position": null,
            "order": null,
            "overflow": null,
            "overflow_x": null,
            "overflow_y": null,
            "padding": null,
            "right": null,
            "top": null,
            "visibility": null,
            "width": null
          }
        },
        "367f1ad6afb347fdbe8912b00250f657": {
          "model_module": "@jupyter-widgets/base",
          "model_name": "LayoutModel",
          "model_module_version": "1.2.0",
          "state": {
            "_model_module": "@jupyter-widgets/base",
            "_model_module_version": "1.2.0",
            "_model_name": "LayoutModel",
            "_view_count": null,
            "_view_module": "@jupyter-widgets/base",
            "_view_module_version": "1.2.0",
            "_view_name": "LayoutView",
            "align_content": null,
            "align_items": null,
            "align_self": null,
            "border": null,
            "bottom": null,
            "display": null,
            "flex": null,
            "flex_flow": null,
            "grid_area": null,
            "grid_auto_columns": null,
            "grid_auto_flow": null,
            "grid_auto_rows": null,
            "grid_column": null,
            "grid_gap": null,
            "grid_row": null,
            "grid_template_areas": null,
            "grid_template_columns": null,
            "grid_template_rows": null,
            "height": null,
            "justify_content": null,
            "justify_items": null,
            "left": null,
            "margin": null,
            "max_height": null,
            "max_width": null,
            "min_height": null,
            "min_width": null,
            "object_fit": null,
            "object_position": null,
            "order": null,
            "overflow": null,
            "overflow_x": null,
            "overflow_y": null,
            "padding": null,
            "right": null,
            "top": null,
            "visibility": null,
            "width": null
          }
        },
        "179e933c3a8a489da7275ff32dc756fd": {
          "model_module": "@jupyter-widgets/controls",
          "model_name": "DescriptionStyleModel",
          "model_module_version": "1.5.0",
          "state": {
            "_model_module": "@jupyter-widgets/controls",
            "_model_module_version": "1.5.0",
            "_model_name": "DescriptionStyleModel",
            "_view_count": null,
            "_view_module": "@jupyter-widgets/base",
            "_view_module_version": "1.2.0",
            "_view_name": "StyleView",
            "description_width": ""
          }
        },
        "ce3f6171a8c043859dd3aa4a78de55a3": {
          "model_module": "@jupyter-widgets/base",
          "model_name": "LayoutModel",
          "model_module_version": "1.2.0",
          "state": {
            "_model_module": "@jupyter-widgets/base",
            "_model_module_version": "1.2.0",
            "_model_name": "LayoutModel",
            "_view_count": null,
            "_view_module": "@jupyter-widgets/base",
            "_view_module_version": "1.2.0",
            "_view_name": "LayoutView",
            "align_content": null,
            "align_items": null,
            "align_self": null,
            "border": null,
            "bottom": null,
            "display": null,
            "flex": null,
            "flex_flow": null,
            "grid_area": null,
            "grid_auto_columns": null,
            "grid_auto_flow": null,
            "grid_auto_rows": null,
            "grid_column": null,
            "grid_gap": null,
            "grid_row": null,
            "grid_template_areas": null,
            "grid_template_columns": null,
            "grid_template_rows": null,
            "height": null,
            "justify_content": null,
            "justify_items": null,
            "left": null,
            "margin": null,
            "max_height": null,
            "max_width": null,
            "min_height": null,
            "min_width": null,
            "object_fit": null,
            "object_position": null,
            "order": null,
            "overflow": null,
            "overflow_x": null,
            "overflow_y": null,
            "padding": null,
            "right": null,
            "top": null,
            "visibility": null,
            "width": null
          }
        },
        "740e184fe7304046bcb5c160655230bc": {
          "model_module": "@jupyter-widgets/controls",
          "model_name": "ProgressStyleModel",
          "model_module_version": "1.5.0",
          "state": {
            "_model_module": "@jupyter-widgets/controls",
            "_model_module_version": "1.5.0",
            "_model_name": "ProgressStyleModel",
            "_view_count": null,
            "_view_module": "@jupyter-widgets/base",
            "_view_module_version": "1.2.0",
            "_view_name": "StyleView",
            "bar_color": null,
            "description_width": ""
          }
        },
        "f7e8be8cde2648d3b4089e086cdbed26": {
          "model_module": "@jupyter-widgets/base",
          "model_name": "LayoutModel",
          "model_module_version": "1.2.0",
          "state": {
            "_model_module": "@jupyter-widgets/base",
            "_model_module_version": "1.2.0",
            "_model_name": "LayoutModel",
            "_view_count": null,
            "_view_module": "@jupyter-widgets/base",
            "_view_module_version": "1.2.0",
            "_view_name": "LayoutView",
            "align_content": null,
            "align_items": null,
            "align_self": null,
            "border": null,
            "bottom": null,
            "display": null,
            "flex": null,
            "flex_flow": null,
            "grid_area": null,
            "grid_auto_columns": null,
            "grid_auto_flow": null,
            "grid_auto_rows": null,
            "grid_column": null,
            "grid_gap": null,
            "grid_row": null,
            "grid_template_areas": null,
            "grid_template_columns": null,
            "grid_template_rows": null,
            "height": null,
            "justify_content": null,
            "justify_items": null,
            "left": null,
            "margin": null,
            "max_height": null,
            "max_width": null,
            "min_height": null,
            "min_width": null,
            "object_fit": null,
            "object_position": null,
            "order": null,
            "overflow": null,
            "overflow_x": null,
            "overflow_y": null,
            "padding": null,
            "right": null,
            "top": null,
            "visibility": null,
            "width": null
          }
        },
        "91a25c4ce4464b4c9212222a67b7daea": {
          "model_module": "@jupyter-widgets/controls",
          "model_name": "DescriptionStyleModel",
          "model_module_version": "1.5.0",
          "state": {
            "_model_module": "@jupyter-widgets/controls",
            "_model_module_version": "1.5.0",
            "_model_name": "DescriptionStyleModel",
            "_view_count": null,
            "_view_module": "@jupyter-widgets/base",
            "_view_module_version": "1.2.0",
            "_view_name": "StyleView",
            "description_width": ""
          }
        },
        "6c7bbbee1d684e75a8b7f981962259e2": {
          "model_module": "@jupyter-widgets/controls",
          "model_name": "HBoxModel",
          "model_module_version": "1.5.0",
          "state": {
            "_dom_classes": [],
            "_model_module": "@jupyter-widgets/controls",
            "_model_module_version": "1.5.0",
            "_model_name": "HBoxModel",
            "_view_count": null,
            "_view_module": "@jupyter-widgets/controls",
            "_view_module_version": "1.5.0",
            "_view_name": "HBoxView",
            "box_style": "",
            "children": [
              "IPY_MODEL_c10fb7e24f1e49d0bdf947cfa86fc80d",
              "IPY_MODEL_31ff5ef215f44c99a23596975c28e34b",
              "IPY_MODEL_aef6225cee3944fea08306a3c674e08d"
            ],
            "layout": "IPY_MODEL_30df42abeb7047aaabe3884a6cd50c88"
          }
        },
        "c10fb7e24f1e49d0bdf947cfa86fc80d": {
          "model_module": "@jupyter-widgets/controls",
          "model_name": "HTMLModel",
          "model_module_version": "1.5.0",
          "state": {
            "_dom_classes": [],
            "_model_module": "@jupyter-widgets/controls",
            "_model_module_version": "1.5.0",
            "_model_name": "HTMLModel",
            "_view_count": null,
            "_view_module": "@jupyter-widgets/controls",
            "_view_module_version": "1.5.0",
            "_view_name": "HTMLView",
            "description": "",
            "description_tooltip": null,
            "layout": "IPY_MODEL_8cbe471db756450d90235849850b6bb0",
            "placeholder": "​",
            "style": "IPY_MODEL_f9dfc8dfa72347628e22628d6ec5cdaf",
            "value": "Downloading pytorch_model.bin: 100%"
          }
        },
        "31ff5ef215f44c99a23596975c28e34b": {
          "model_module": "@jupyter-widgets/controls",
          "model_name": "FloatProgressModel",
          "model_module_version": "1.5.0",
          "state": {
            "_dom_classes": [],
            "_model_module": "@jupyter-widgets/controls",
            "_model_module_version": "1.5.0",
            "_model_name": "FloatProgressModel",
            "_view_count": null,
            "_view_module": "@jupyter-widgets/controls",
            "_view_module_version": "1.5.0",
            "_view_name": "ProgressView",
            "bar_style": "success",
            "description": "",
            "description_tooltip": null,
            "layout": "IPY_MODEL_ac6adc3f31444d618482e07d075525a3",
            "max": 435779157,
            "min": 0,
            "orientation": "horizontal",
            "style": "IPY_MODEL_dba8004b91b1439798113ff250954706",
            "value": 435779157
          }
        },
        "aef6225cee3944fea08306a3c674e08d": {
          "model_module": "@jupyter-widgets/controls",
          "model_name": "HTMLModel",
          "model_module_version": "1.5.0",
          "state": {
            "_dom_classes": [],
            "_model_module": "@jupyter-widgets/controls",
            "_model_module_version": "1.5.0",
            "_model_name": "HTMLModel",
            "_view_count": null,
            "_view_module": "@jupyter-widgets/controls",
            "_view_module_version": "1.5.0",
            "_view_name": "HTMLView",
            "description": "",
            "description_tooltip": null,
            "layout": "IPY_MODEL_d93376fd47794aebb65df6d576115e94",
            "placeholder": "​",
            "style": "IPY_MODEL_0394cd6700e64aa7bcdd798fece34ebd",
            "value": " 416M/416M [00:08&lt;00:00, 54.9MB/s]"
          }
        },
        "30df42abeb7047aaabe3884a6cd50c88": {
          "model_module": "@jupyter-widgets/base",
          "model_name": "LayoutModel",
          "model_module_version": "1.2.0",
          "state": {
            "_model_module": "@jupyter-widgets/base",
            "_model_module_version": "1.2.0",
            "_model_name": "LayoutModel",
            "_view_count": null,
            "_view_module": "@jupyter-widgets/base",
            "_view_module_version": "1.2.0",
            "_view_name": "LayoutView",
            "align_content": null,
            "align_items": null,
            "align_self": null,
            "border": null,
            "bottom": null,
            "display": null,
            "flex": null,
            "flex_flow": null,
            "grid_area": null,
            "grid_auto_columns": null,
            "grid_auto_flow": null,
            "grid_auto_rows": null,
            "grid_column": null,
            "grid_gap": null,
            "grid_row": null,
            "grid_template_areas": null,
            "grid_template_columns": null,
            "grid_template_rows": null,
            "height": null,
            "justify_content": null,
            "justify_items": null,
            "left": null,
            "margin": null,
            "max_height": null,
            "max_width": null,
            "min_height": null,
            "min_width": null,
            "object_fit": null,
            "object_position": null,
            "order": null,
            "overflow": null,
            "overflow_x": null,
            "overflow_y": null,
            "padding": null,
            "right": null,
            "top": null,
            "visibility": null,
            "width": null
          }
        },
        "8cbe471db756450d90235849850b6bb0": {
          "model_module": "@jupyter-widgets/base",
          "model_name": "LayoutModel",
          "model_module_version": "1.2.0",
          "state": {
            "_model_module": "@jupyter-widgets/base",
            "_model_module_version": "1.2.0",
            "_model_name": "LayoutModel",
            "_view_count": null,
            "_view_module": "@jupyter-widgets/base",
            "_view_module_version": "1.2.0",
            "_view_name": "LayoutView",
            "align_content": null,
            "align_items": null,
            "align_self": null,
            "border": null,
            "bottom": null,
            "display": null,
            "flex": null,
            "flex_flow": null,
            "grid_area": null,
            "grid_auto_columns": null,
            "grid_auto_flow": null,
            "grid_auto_rows": null,
            "grid_column": null,
            "grid_gap": null,
            "grid_row": null,
            "grid_template_areas": null,
            "grid_template_columns": null,
            "grid_template_rows": null,
            "height": null,
            "justify_content": null,
            "justify_items": null,
            "left": null,
            "margin": null,
            "max_height": null,
            "max_width": null,
            "min_height": null,
            "min_width": null,
            "object_fit": null,
            "object_position": null,
            "order": null,
            "overflow": null,
            "overflow_x": null,
            "overflow_y": null,
            "padding": null,
            "right": null,
            "top": null,
            "visibility": null,
            "width": null
          }
        },
        "f9dfc8dfa72347628e22628d6ec5cdaf": {
          "model_module": "@jupyter-widgets/controls",
          "model_name": "DescriptionStyleModel",
          "model_module_version": "1.5.0",
          "state": {
            "_model_module": "@jupyter-widgets/controls",
            "_model_module_version": "1.5.0",
            "_model_name": "DescriptionStyleModel",
            "_view_count": null,
            "_view_module": "@jupyter-widgets/base",
            "_view_module_version": "1.2.0",
            "_view_name": "StyleView",
            "description_width": ""
          }
        },
        "ac6adc3f31444d618482e07d075525a3": {
          "model_module": "@jupyter-widgets/base",
          "model_name": "LayoutModel",
          "model_module_version": "1.2.0",
          "state": {
            "_model_module": "@jupyter-widgets/base",
            "_model_module_version": "1.2.0",
            "_model_name": "LayoutModel",
            "_view_count": null,
            "_view_module": "@jupyter-widgets/base",
            "_view_module_version": "1.2.0",
            "_view_name": "LayoutView",
            "align_content": null,
            "align_items": null,
            "align_self": null,
            "border": null,
            "bottom": null,
            "display": null,
            "flex": null,
            "flex_flow": null,
            "grid_area": null,
            "grid_auto_columns": null,
            "grid_auto_flow": null,
            "grid_auto_rows": null,
            "grid_column": null,
            "grid_gap": null,
            "grid_row": null,
            "grid_template_areas": null,
            "grid_template_columns": null,
            "grid_template_rows": null,
            "height": null,
            "justify_content": null,
            "justify_items": null,
            "left": null,
            "margin": null,
            "max_height": null,
            "max_width": null,
            "min_height": null,
            "min_width": null,
            "object_fit": null,
            "object_position": null,
            "order": null,
            "overflow": null,
            "overflow_x": null,
            "overflow_y": null,
            "padding": null,
            "right": null,
            "top": null,
            "visibility": null,
            "width": null
          }
        },
        "dba8004b91b1439798113ff250954706": {
          "model_module": "@jupyter-widgets/controls",
          "model_name": "ProgressStyleModel",
          "model_module_version": "1.5.0",
          "state": {
            "_model_module": "@jupyter-widgets/controls",
            "_model_module_version": "1.5.0",
            "_model_name": "ProgressStyleModel",
            "_view_count": null,
            "_view_module": "@jupyter-widgets/base",
            "_view_module_version": "1.2.0",
            "_view_name": "StyleView",
            "bar_color": null,
            "description_width": ""
          }
        },
        "d93376fd47794aebb65df6d576115e94": {
          "model_module": "@jupyter-widgets/base",
          "model_name": "LayoutModel",
          "model_module_version": "1.2.0",
          "state": {
            "_model_module": "@jupyter-widgets/base",
            "_model_module_version": "1.2.0",
            "_model_name": "LayoutModel",
            "_view_count": null,
            "_view_module": "@jupyter-widgets/base",
            "_view_module_version": "1.2.0",
            "_view_name": "LayoutView",
            "align_content": null,
            "align_items": null,
            "align_self": null,
            "border": null,
            "bottom": null,
            "display": null,
            "flex": null,
            "flex_flow": null,
            "grid_area": null,
            "grid_auto_columns": null,
            "grid_auto_flow": null,
            "grid_auto_rows": null,
            "grid_column": null,
            "grid_gap": null,
            "grid_row": null,
            "grid_template_areas": null,
            "grid_template_columns": null,
            "grid_template_rows": null,
            "height": null,
            "justify_content": null,
            "justify_items": null,
            "left": null,
            "margin": null,
            "max_height": null,
            "max_width": null,
            "min_height": null,
            "min_width": null,
            "object_fit": null,
            "object_position": null,
            "order": null,
            "overflow": null,
            "overflow_x": null,
            "overflow_y": null,
            "padding": null,
            "right": null,
            "top": null,
            "visibility": null,
            "width": null
          }
        },
        "0394cd6700e64aa7bcdd798fece34ebd": {
          "model_module": "@jupyter-widgets/controls",
          "model_name": "DescriptionStyleModel",
          "model_module_version": "1.5.0",
          "state": {
            "_model_module": "@jupyter-widgets/controls",
            "_model_module_version": "1.5.0",
            "_model_name": "DescriptionStyleModel",
            "_view_count": null,
            "_view_module": "@jupyter-widgets/base",
            "_view_module_version": "1.2.0",
            "_view_name": "StyleView",
            "description_width": ""
          }
        }
      }
    }
  },
  "cells": [
    {
      "cell_type": "markdown",
      "metadata": {
        "id": "view-in-github",
        "colab_type": "text"
      },
      "source": [
        "<a href=\"https://colab.research.google.com/github/Deviloxide/Codeday-Project/blob/sentiment-notebook/Vaccine_Tweets_Sentiment_Analysis.ipynb\" target=\"_parent\"><img src=\"https://colab.research.google.com/assets/colab-badge.svg\" alt=\"Open In Colab\"/></a>"
      ]
    },
    {
      "cell_type": "markdown",
      "source": [
        "## Installation"
      ],
      "metadata": {
        "id": "0-43w_Xnpgdd"
      }
    },
    {
      "cell_type": "markdown",
      "source": [
        "Added GPU to speed up the training process\n"
      ],
      "metadata": {
        "id": "x8Z077tJndDE"
      }
    },
    {
      "cell_type": "code",
      "execution_count": 1,
      "metadata": {
        "colab": {
          "base_uri": "https://localhost:8080/"
        },
        "id": "Vfl3Hb8bUOyB",
        "outputId": "296ff353-c273-4285-9a64-2ebb1460a420"
      },
      "outputs": [
        {
          "output_type": "stream",
          "name": "stdout",
          "text": [
            "Thu Jul 28 05:14:31 2022       \n",
            "+-----------------------------------------------------------------------------+\n",
            "| NVIDIA-SMI 460.32.03    Driver Version: 460.32.03    CUDA Version: 11.2     |\n",
            "|-------------------------------+----------------------+----------------------+\n",
            "| GPU  Name        Persistence-M| Bus-Id        Disp.A | Volatile Uncorr. ECC |\n",
            "| Fan  Temp  Perf  Pwr:Usage/Cap|         Memory-Usage | GPU-Util  Compute M. |\n",
            "|                               |                      |               MIG M. |\n",
            "|===============================+======================+======================|\n",
            "|   0  Tesla T4            Off  | 00000000:00:04.0 Off |                    0 |\n",
            "| N/A   45C    P8    10W /  70W |      0MiB / 15109MiB |      0%      Default |\n",
            "|                               |                      |                  N/A |\n",
            "+-------------------------------+----------------------+----------------------+\n",
            "                                                                               \n",
            "+-----------------------------------------------------------------------------+\n",
            "| Processes:                                                                  |\n",
            "|  GPU   GI   CI        PID   Type   Process name                  GPU Memory |\n",
            "|        ID   ID                                                   Usage      |\n",
            "|=============================================================================|\n",
            "|  No running processes found                                                 |\n",
            "+-----------------------------------------------------------------------------+\n"
          ]
        }
      ],
      "source": [
        "!nvidia-smi"
      ]
    },
    {
      "cell_type": "markdown",
      "source": [
        "All the required libraries and dependiencies can be installed using:"
      ],
      "metadata": {
        "id": "vYm-BiQLntuE"
      }
    },
    {
      "cell_type": "code",
      "source": [
        "pip install -r requirements.txt"
      ],
      "metadata": {
        "colab": {
          "base_uri": "https://localhost:8080/"
        },
        "id": "hJBYUsDMVaD3",
        "outputId": "c408c014-8227-47db-dfdc-57c00a69b655"
      },
      "execution_count": 2,
      "outputs": [
        {
          "output_type": "stream",
          "name": "stdout",
          "text": [
            "Looking in indexes: https://pypi.org/simple, https://us-python.pkg.dev/colab-wheels/public/simple/\n",
            "Requirement already satisfied: numpy in /usr/local/lib/python3.7/dist-packages (from -r requirements.txt (line 1)) (1.21.6)\n",
            "Requirement already satisfied: pandas in /usr/local/lib/python3.7/dist-packages (from -r requirements.txt (line 2)) (1.3.5)\n",
            "Requirement already satisfied: torch in /usr/local/lib/python3.7/dist-packages (from -r requirements.txt (line 3)) (1.12.0+cu113)\n",
            "Collecting transformers\n",
            "  Downloading transformers-4.21.0-py3-none-any.whl (4.7 MB)\n",
            "\u001b[K     |████████████████████████████████| 4.7 MB 7.1 MB/s \n",
            "\u001b[?25hRequirement already satisfied: textblob in /usr/local/lib/python3.7/dist-packages (from -r requirements.txt (line 5)) (0.15.3)\n",
            "Requirement already satisfied: seaborn in /usr/local/lib/python3.7/dist-packages (from -r requirements.txt (line 6)) (0.11.2)\n",
            "Requirement already satisfied: scikit-learn in /usr/local/lib/python3.7/dist-packages (from -r requirements.txt (line 7)) (1.0.2)\n",
            "Requirement already satisfied: python-dateutil>=2.7.3 in /usr/local/lib/python3.7/dist-packages (from pandas->-r requirements.txt (line 2)) (2.8.2)\n",
            "Requirement already satisfied: pytz>=2017.3 in /usr/local/lib/python3.7/dist-packages (from pandas->-r requirements.txt (line 2)) (2022.1)\n",
            "Requirement already satisfied: six>=1.5 in /usr/local/lib/python3.7/dist-packages (from python-dateutil>=2.7.3->pandas->-r requirements.txt (line 2)) (1.15.0)\n",
            "Requirement already satisfied: typing-extensions in /usr/local/lib/python3.7/dist-packages (from torch->-r requirements.txt (line 3)) (4.1.1)\n",
            "Collecting pyyaml>=5.1\n",
            "  Downloading PyYAML-6.0-cp37-cp37m-manylinux_2_5_x86_64.manylinux1_x86_64.manylinux_2_12_x86_64.manylinux2010_x86_64.whl (596 kB)\n",
            "\u001b[K     |████████████████████████████████| 596 kB 52.8 MB/s \n",
            "\u001b[?25hRequirement already satisfied: regex!=2019.12.17 in /usr/local/lib/python3.7/dist-packages (from transformers->-r requirements.txt (line 4)) (2022.6.2)\n",
            "Requirement already satisfied: importlib-metadata in /usr/local/lib/python3.7/dist-packages (from transformers->-r requirements.txt (line 4)) (4.12.0)\n",
            "Requirement already satisfied: requests in /usr/local/lib/python3.7/dist-packages (from transformers->-r requirements.txt (line 4)) (2.23.0)\n",
            "Collecting tokenizers!=0.11.3,<0.13,>=0.11.1\n",
            "  Downloading tokenizers-0.12.1-cp37-cp37m-manylinux_2_12_x86_64.manylinux2010_x86_64.whl (6.6 MB)\n",
            "\u001b[K     |████████████████████████████████| 6.6 MB 50.9 MB/s \n",
            "\u001b[?25hRequirement already satisfied: packaging>=20.0 in /usr/local/lib/python3.7/dist-packages (from transformers->-r requirements.txt (line 4)) (21.3)\n",
            "Requirement already satisfied: tqdm>=4.27 in /usr/local/lib/python3.7/dist-packages (from transformers->-r requirements.txt (line 4)) (4.64.0)\n",
            "Requirement already satisfied: filelock in /usr/local/lib/python3.7/dist-packages (from transformers->-r requirements.txt (line 4)) (3.7.1)\n",
            "Collecting huggingface-hub<1.0,>=0.1.0\n",
            "  Downloading huggingface_hub-0.8.1-py3-none-any.whl (101 kB)\n",
            "\u001b[K     |████████████████████████████████| 101 kB 11.9 MB/s \n",
            "\u001b[?25hRequirement already satisfied: pyparsing!=3.0.5,>=2.0.2 in /usr/local/lib/python3.7/dist-packages (from packaging>=20.0->transformers->-r requirements.txt (line 4)) (3.0.9)\n",
            "Requirement already satisfied: nltk>=3.1 in /usr/local/lib/python3.7/dist-packages (from textblob->-r requirements.txt (line 5)) (3.7)\n",
            "Requirement already satisfied: click in /usr/local/lib/python3.7/dist-packages (from nltk>=3.1->textblob->-r requirements.txt (line 5)) (7.1.2)\n",
            "Requirement already satisfied: joblib in /usr/local/lib/python3.7/dist-packages (from nltk>=3.1->textblob->-r requirements.txt (line 5)) (1.1.0)\n",
            "Requirement already satisfied: matplotlib>=2.2 in /usr/local/lib/python3.7/dist-packages (from seaborn->-r requirements.txt (line 6)) (3.2.2)\n",
            "Requirement already satisfied: scipy>=1.0 in /usr/local/lib/python3.7/dist-packages (from seaborn->-r requirements.txt (line 6)) (1.7.3)\n",
            "Requirement already satisfied: cycler>=0.10 in /usr/local/lib/python3.7/dist-packages (from matplotlib>=2.2->seaborn->-r requirements.txt (line 6)) (0.11.0)\n",
            "Requirement already satisfied: kiwisolver>=1.0.1 in /usr/local/lib/python3.7/dist-packages (from matplotlib>=2.2->seaborn->-r requirements.txt (line 6)) (1.4.4)\n",
            "Requirement already satisfied: threadpoolctl>=2.0.0 in /usr/local/lib/python3.7/dist-packages (from scikit-learn->-r requirements.txt (line 7)) (3.1.0)\n",
            "Requirement already satisfied: zipp>=0.5 in /usr/local/lib/python3.7/dist-packages (from importlib-metadata->transformers->-r requirements.txt (line 4)) (3.8.1)\n",
            "Requirement already satisfied: chardet<4,>=3.0.2 in /usr/local/lib/python3.7/dist-packages (from requests->transformers->-r requirements.txt (line 4)) (3.0.4)\n",
            "Requirement already satisfied: urllib3!=1.25.0,!=1.25.1,<1.26,>=1.21.1 in /usr/local/lib/python3.7/dist-packages (from requests->transformers->-r requirements.txt (line 4)) (1.24.3)\n",
            "Requirement already satisfied: certifi>=2017.4.17 in /usr/local/lib/python3.7/dist-packages (from requests->transformers->-r requirements.txt (line 4)) (2022.6.15)\n",
            "Requirement already satisfied: idna<3,>=2.5 in /usr/local/lib/python3.7/dist-packages (from requests->transformers->-r requirements.txt (line 4)) (2.10)\n",
            "Installing collected packages: pyyaml, tokenizers, huggingface-hub, transformers\n",
            "  Attempting uninstall: pyyaml\n",
            "    Found existing installation: PyYAML 3.13\n",
            "    Uninstalling PyYAML-3.13:\n",
            "      Successfully uninstalled PyYAML-3.13\n",
            "Successfully installed huggingface-hub-0.8.1 pyyaml-6.0 tokenizers-0.12.1 transformers-4.21.0\n"
          ]
        }
      ]
    },
    {
      "cell_type": "markdown",
      "source": [
        "Imported all the neccessary modules and set the formating of the graphs\n",
        "\n",
        "Also checks to make sure that the device is using GPU if it is available \n",
        "\n",
        "Two key modules used in this project is the TextBlob library and the transformers library.\n",
        "\n",
        "The TextBlob library is used in the intial anaylsis of the sentiment of the the tweets\n",
        "\n",
        "Then the transformers library from huggingface is used to access the BERT model used to train a model to analyze the sentiments of any new tweets"
      ],
      "metadata": {
        "id": "Zvn4cFQ0n_yq"
      }
    },
    {
      "cell_type": "code",
      "source": [
        "#@title Setup & Config\n",
        "import transformers\n",
        "from transformers import BertModel, BertTokenizer, AdamW, get_linear_schedule_with_warmup\n",
        "import torch\n",
        "import re\n",
        "from textblob import TextBlob\n",
        "\n",
        "import numpy as np\n",
        "import pandas as pd\n",
        "import seaborn as sns\n",
        "from pylab import rcParams\n",
        "import matplotlib.pyplot as plt\n",
        "from matplotlib import rc\n",
        "from sklearn.model_selection import train_test_split\n",
        "from sklearn.metrics import confusion_matrix, classification_report\n",
        "from collections import defaultdict\n",
        "from textwrap import wrap\n",
        "\n",
        "from torch import nn, optim\n",
        "from torch.utils.data import Dataset, DataLoader\n",
        "import torch.nn.functional as F\n",
        "\n",
        "%matplotlib inline\n",
        "%config InlineBackend.figure_format='retina'\n",
        "\n",
        "sns.set(style='whitegrid', palette='muted', font_scale=1.2)\n",
        "\n",
        "HAPPY_COLORS_PALETTE = [\"#01BEFE\", \"#FFDD00\", \"#FF7D00\", \"#FF006D\", \"#ADFF02\", \"#8F00FF\"]\n",
        "\n",
        "sns.set_palette(sns.color_palette(HAPPY_COLORS_PALETTE))\n",
        "\n",
        "rcParams['figure.figsize'] = 12, 8\n",
        "\n",
        "RANDOM_SEED = 42\n",
        "np.random.seed(RANDOM_SEED)\n",
        "torch.manual_seed(RANDOM_SEED)\n",
        "\n",
        "device = torch.device(\"cuda:0\" if torch.cuda.is_available() else \"cpu\")\n",
        "device"
      ],
      "metadata": {
        "colab": {
          "base_uri": "https://localhost:8080/"
        },
        "id": "-VIy3_waUfUP",
        "outputId": "df4014f1-92d7-4770-a652-2376fdbfabba"
      },
      "execution_count": 3,
      "outputs": [
        {
          "output_type": "execute_result",
          "data": {
            "text/plain": [
              "device(type='cuda', index=0)"
            ]
          },
          "metadata": {},
          "execution_count": 3
        }
      ]
    },
    {
      "cell_type": "markdown",
      "source": [
        "# Data "
      ],
      "metadata": {
        "id": "NtqhvNjCprA9"
      }
    },
    {
      "cell_type": "markdown",
      "source": [
        "The dataset used is located in a csv file. Here we are formating all the column names so that data visualization can be done more easily in the future, and checking the fist few values to make sure everything looks good."
      ],
      "metadata": {
        "id": "5PFyezvhomW3"
      }
    },
    {
      "cell_type": "code",
      "source": [
        "DATASET_ENCODING = \"ISO-8859-1\"\n",
        "df = pd.read_csv(\"covid_vaccine_tweets.csv\",encoding=DATASET_ENCODING)\n",
        "df.head() "
      ],
      "metadata": {
        "colab": {
          "base_uri": "https://localhost:8080/",
          "height": 582
        },
        "id": "IHisVLrFWVny",
        "outputId": "f0463f5b-5343-4070-c933-498e40d1f39e"
      },
      "execution_count": 4,
      "outputs": [
        {
          "output_type": "execute_result",
          "data": {
            "text/plain": [
              "   Unnamed: 0                  ids  \\\n",
              "0          14  1337809196453081088   \n",
              "1          20  1337776763384958976   \n",
              "2          30  1337761915087560707   \n",
              "3          44  1337728701820268544   \n",
              "4          49  1339891037712637952   \n",
              "\n",
              "                                         name            location  \\\n",
              "0                         Dr.Krutika Kuppalli                 NaN   \n",
              "1                                    Alex Vie     Los Angeles, CA   \n",
              "2  Ã°ÂÂ¦ÂDr. Kraken-Elect Lipstick Ã°ÂÂÂ          Not Today    \n",
              "3                                   City A.M.     London, England   \n",
              "4                                Euranet Plus  The European Union   \n",
              "\n",
              "                                           user_desc         user_created  \\\n",
              "0  ID, Global Health, VHF, Pandemic Prep, Emergin...  2019-03-25 04:14:29   \n",
              "1  Marine vet. Yogi. Krav Maga. Runner. Climber. ...  2010-01-24 04:43:57   \n",
              "2  Married. National news investigative/independe...  2011-06-01 17:10:58   \n",
              "3  London's business newspaper - News, Opinion, a...  2009-06-09 13:53:06   \n",
              "4              The leading radio network for EU news  2013-03-29 13:30:06   \n",
              "\n",
              "   follow  friends  likes  verified                 date  \\\n",
              "0   21924      593   7815      True  2020-12-12 17:19:02   \n",
              "1     125      442   5401     False  2020-12-12 15:10:09   \n",
              "2    5166     5228  19389     False  2020-12-12 14:11:09   \n",
              "3   66224      603    771      True  2020-12-12 11:59:10   \n",
              "4    6006     3551   3954     False  2020-12-18 11:11:32   \n",
              "\n",
              "                                                text  \\\n",
              "0  For all the women and healthcare providers who...   \n",
              "1  The trump administration failed to deliver on ...   \n",
              "2  Ã°ÂÂÂ #Vaccine #TrumpVaccine #AstraZeneca #...   \n",
              "3  Trump announces #vaccine rollout 'in less than...   \n",
              "4  As @EMA_News gets set to approve #PfizerBioNTe...   \n",
              "\n",
              "                                             hashtag              source  \\\n",
              "0                                 ['PfizerBioNTech']  Twitter for iPhone   \n",
              "1       ['COVIDIOTS', 'coronavirus', 'CovidVaccine']  Twitter for iPhone   \n",
              "2  ['Vaccine', 'TrumpVaccine', 'AstraZeneca', 'Pf...  Twitter for iPhone   \n",
              "3                                        ['vaccine']     Twitter Web App   \n",
              "4                ['PfizerBioNTech', 'vaccine', 'EU']     Twitter Web App   \n",
              "\n",
              "   retweets  favourites  is_retweeted  \n",
              "0        48          82         False  \n",
              "1         0           0         False  \n",
              "2         0           0         False  \n",
              "3         0           2         False  \n",
              "4         2           0         False  "
            ],
            "text/html": [
              "\n",
              "  <div id=\"df-2399c83d-5ed3-455d-9025-f9315d16a02b\">\n",
              "    <div class=\"colab-df-container\">\n",
              "      <div>\n",
              "<style scoped>\n",
              "    .dataframe tbody tr th:only-of-type {\n",
              "        vertical-align: middle;\n",
              "    }\n",
              "\n",
              "    .dataframe tbody tr th {\n",
              "        vertical-align: top;\n",
              "    }\n",
              "\n",
              "    .dataframe thead th {\n",
              "        text-align: right;\n",
              "    }\n",
              "</style>\n",
              "<table border=\"1\" class=\"dataframe\">\n",
              "  <thead>\n",
              "    <tr style=\"text-align: right;\">\n",
              "      <th></th>\n",
              "      <th>Unnamed: 0</th>\n",
              "      <th>ids</th>\n",
              "      <th>name</th>\n",
              "      <th>location</th>\n",
              "      <th>user_desc</th>\n",
              "      <th>user_created</th>\n",
              "      <th>follow</th>\n",
              "      <th>friends</th>\n",
              "      <th>likes</th>\n",
              "      <th>verified</th>\n",
              "      <th>date</th>\n",
              "      <th>text</th>\n",
              "      <th>hashtag</th>\n",
              "      <th>source</th>\n",
              "      <th>retweets</th>\n",
              "      <th>favourites</th>\n",
              "      <th>is_retweeted</th>\n",
              "    </tr>\n",
              "  </thead>\n",
              "  <tbody>\n",
              "    <tr>\n",
              "      <th>0</th>\n",
              "      <td>14</td>\n",
              "      <td>1337809196453081088</td>\n",
              "      <td>Dr.Krutika Kuppalli</td>\n",
              "      <td>NaN</td>\n",
              "      <td>ID, Global Health, VHF, Pandemic Prep, Emergin...</td>\n",
              "      <td>2019-03-25 04:14:29</td>\n",
              "      <td>21924</td>\n",
              "      <td>593</td>\n",
              "      <td>7815</td>\n",
              "      <td>True</td>\n",
              "      <td>2020-12-12 17:19:02</td>\n",
              "      <td>For all the women and healthcare providers who...</td>\n",
              "      <td>['PfizerBioNTech']</td>\n",
              "      <td>Twitter for iPhone</td>\n",
              "      <td>48</td>\n",
              "      <td>82</td>\n",
              "      <td>False</td>\n",
              "    </tr>\n",
              "    <tr>\n",
              "      <th>1</th>\n",
              "      <td>20</td>\n",
              "      <td>1337776763384958976</td>\n",
              "      <td>Alex Vie</td>\n",
              "      <td>Los Angeles, CA</td>\n",
              "      <td>Marine vet. Yogi. Krav Maga. Runner. Climber. ...</td>\n",
              "      <td>2010-01-24 04:43:57</td>\n",
              "      <td>125</td>\n",
              "      <td>442</td>\n",
              "      <td>5401</td>\n",
              "      <td>False</td>\n",
              "      <td>2020-12-12 15:10:09</td>\n",
              "      <td>The trump administration failed to deliver on ...</td>\n",
              "      <td>['COVIDIOTS', 'coronavirus', 'CovidVaccine']</td>\n",
              "      <td>Twitter for iPhone</td>\n",
              "      <td>0</td>\n",
              "      <td>0</td>\n",
              "      <td>False</td>\n",
              "    </tr>\n",
              "    <tr>\n",
              "      <th>2</th>\n",
              "      <td>30</td>\n",
              "      <td>1337761915087560707</td>\n",
              "      <td>Ã°ÂÂ¦ÂDr. Kraken-Elect Lipstick Ã°ÂÂÂ</td>\n",
              "      <td>Not Today</td>\n",
              "      <td>Married. National news investigative/independe...</td>\n",
              "      <td>2011-06-01 17:10:58</td>\n",
              "      <td>5166</td>\n",
              "      <td>5228</td>\n",
              "      <td>19389</td>\n",
              "      <td>False</td>\n",
              "      <td>2020-12-12 14:11:09</td>\n",
              "      <td>Ã°ÂÂÂ #Vaccine #TrumpVaccine #AstraZeneca #...</td>\n",
              "      <td>['Vaccine', 'TrumpVaccine', 'AstraZeneca', 'Pf...</td>\n",
              "      <td>Twitter for iPhone</td>\n",
              "      <td>0</td>\n",
              "      <td>0</td>\n",
              "      <td>False</td>\n",
              "    </tr>\n",
              "    <tr>\n",
              "      <th>3</th>\n",
              "      <td>44</td>\n",
              "      <td>1337728701820268544</td>\n",
              "      <td>City A.M.</td>\n",
              "      <td>London, England</td>\n",
              "      <td>London's business newspaper - News, Opinion, a...</td>\n",
              "      <td>2009-06-09 13:53:06</td>\n",
              "      <td>66224</td>\n",
              "      <td>603</td>\n",
              "      <td>771</td>\n",
              "      <td>True</td>\n",
              "      <td>2020-12-12 11:59:10</td>\n",
              "      <td>Trump announces #vaccine rollout 'in less than...</td>\n",
              "      <td>['vaccine']</td>\n",
              "      <td>Twitter Web App</td>\n",
              "      <td>0</td>\n",
              "      <td>2</td>\n",
              "      <td>False</td>\n",
              "    </tr>\n",
              "    <tr>\n",
              "      <th>4</th>\n",
              "      <td>49</td>\n",
              "      <td>1339891037712637952</td>\n",
              "      <td>Euranet Plus</td>\n",
              "      <td>The European Union</td>\n",
              "      <td>The leading radio network for EU news</td>\n",
              "      <td>2013-03-29 13:30:06</td>\n",
              "      <td>6006</td>\n",
              "      <td>3551</td>\n",
              "      <td>3954</td>\n",
              "      <td>False</td>\n",
              "      <td>2020-12-18 11:11:32</td>\n",
              "      <td>As @EMA_News gets set to approve #PfizerBioNTe...</td>\n",
              "      <td>['PfizerBioNTech', 'vaccine', 'EU']</td>\n",
              "      <td>Twitter Web App</td>\n",
              "      <td>2</td>\n",
              "      <td>0</td>\n",
              "      <td>False</td>\n",
              "    </tr>\n",
              "  </tbody>\n",
              "</table>\n",
              "</div>\n",
              "      <button class=\"colab-df-convert\" onclick=\"convertToInteractive('df-2399c83d-5ed3-455d-9025-f9315d16a02b')\"\n",
              "              title=\"Convert this dataframe to an interactive table.\"\n",
              "              style=\"display:none;\">\n",
              "        \n",
              "  <svg xmlns=\"http://www.w3.org/2000/svg\" height=\"24px\"viewBox=\"0 0 24 24\"\n",
              "       width=\"24px\">\n",
              "    <path d=\"M0 0h24v24H0V0z\" fill=\"none\"/>\n",
              "    <path d=\"M18.56 5.44l.94 2.06.94-2.06 2.06-.94-2.06-.94-.94-2.06-.94 2.06-2.06.94zm-11 1L8.5 8.5l.94-2.06 2.06-.94-2.06-.94L8.5 2.5l-.94 2.06-2.06.94zm10 10l.94 2.06.94-2.06 2.06-.94-2.06-.94-.94-2.06-.94 2.06-2.06.94z\"/><path d=\"M17.41 7.96l-1.37-1.37c-.4-.4-.92-.59-1.43-.59-.52 0-1.04.2-1.43.59L10.3 9.45l-7.72 7.72c-.78.78-.78 2.05 0 2.83L4 21.41c.39.39.9.59 1.41.59.51 0 1.02-.2 1.41-.59l7.78-7.78 2.81-2.81c.8-.78.8-2.07 0-2.86zM5.41 20L4 18.59l7.72-7.72 1.47 1.35L5.41 20z\"/>\n",
              "  </svg>\n",
              "      </button>\n",
              "      \n",
              "  <style>\n",
              "    .colab-df-container {\n",
              "      display:flex;\n",
              "      flex-wrap:wrap;\n",
              "      gap: 12px;\n",
              "    }\n",
              "\n",
              "    .colab-df-convert {\n",
              "      background-color: #E8F0FE;\n",
              "      border: none;\n",
              "      border-radius: 50%;\n",
              "      cursor: pointer;\n",
              "      display: none;\n",
              "      fill: #1967D2;\n",
              "      height: 32px;\n",
              "      padding: 0 0 0 0;\n",
              "      width: 32px;\n",
              "    }\n",
              "\n",
              "    .colab-df-convert:hover {\n",
              "      background-color: #E2EBFA;\n",
              "      box-shadow: 0px 1px 2px rgba(60, 64, 67, 0.3), 0px 1px 3px 1px rgba(60, 64, 67, 0.15);\n",
              "      fill: #174EA6;\n",
              "    }\n",
              "\n",
              "    [theme=dark] .colab-df-convert {\n",
              "      background-color: #3B4455;\n",
              "      fill: #D2E3FC;\n",
              "    }\n",
              "\n",
              "    [theme=dark] .colab-df-convert:hover {\n",
              "      background-color: #434B5C;\n",
              "      box-shadow: 0px 1px 3px 1px rgba(0, 0, 0, 0.15);\n",
              "      filter: drop-shadow(0px 1px 2px rgba(0, 0, 0, 0.3));\n",
              "      fill: #FFFFFF;\n",
              "    }\n",
              "  </style>\n",
              "\n",
              "      <script>\n",
              "        const buttonEl =\n",
              "          document.querySelector('#df-2399c83d-5ed3-455d-9025-f9315d16a02b button.colab-df-convert');\n",
              "        buttonEl.style.display =\n",
              "          google.colab.kernel.accessAllowed ? 'block' : 'none';\n",
              "\n",
              "        async function convertToInteractive(key) {\n",
              "          const element = document.querySelector('#df-2399c83d-5ed3-455d-9025-f9315d16a02b');\n",
              "          const dataTable =\n",
              "            await google.colab.kernel.invokeFunction('convertToInteractive',\n",
              "                                                     [key], {});\n",
              "          if (!dataTable) return;\n",
              "\n",
              "          const docLinkHtml = 'Like what you see? Visit the ' +\n",
              "            '<a target=\"_blank\" href=https://colab.research.google.com/notebooks/data_table.ipynb>data table notebook</a>'\n",
              "            + ' to learn more about interactive tables.';\n",
              "          element.innerHTML = '';\n",
              "          dataTable['output_type'] = 'display_data';\n",
              "          await google.colab.output.renderOutput(dataTable, element);\n",
              "          const docLink = document.createElement('div');\n",
              "          docLink.innerHTML = docLinkHtml;\n",
              "          element.appendChild(docLink);\n",
              "        }\n",
              "      </script>\n",
              "    </div>\n",
              "  </div>\n",
              "  "
            ]
          },
          "metadata": {},
          "execution_count": 4
        }
      ]
    },
    {
      "cell_type": "markdown",
      "source": [
        "The intial dataset is a collection of over 800,000 COVID-19 vaccine tweets. This is a small sample of that and currently holds 60 thousand tweets, and after removing any null values the size reduces down to around 31 thousand."
      ],
      "metadata": {
        "id": "Em5sdZajtDCF"
      }
    },
    {
      "cell_type": "code",
      "source": [
        "df.shape"
      ],
      "metadata": {
        "colab": {
          "base_uri": "https://localhost:8080/"
        },
        "id": "SQZX_JonWmBw",
        "outputId": "57b65038-6d7f-4f61-acdb-8ba9e3e9db3a"
      },
      "execution_count": 5,
      "outputs": [
        {
          "output_type": "execute_result",
          "data": {
            "text/plain": [
              "(61616, 17)"
            ]
          },
          "metadata": {},
          "execution_count": 5
        }
      ]
    },
    {
      "cell_type": "code",
      "source": [
        "df = df.dropna() #Removes null values"
      ],
      "metadata": {
        "id": "pbqQ8-l-Wq5e"
      },
      "execution_count": 6,
      "outputs": []
    },
    {
      "cell_type": "code",
      "source": [
        "df.shape"
      ],
      "metadata": {
        "colab": {
          "base_uri": "https://localhost:8080/"
        },
        "id": "upijIQVrWtqC",
        "outputId": "ba8adf39-87b8-4997-a378-ca1e148c4777"
      },
      "execution_count": 7,
      "outputs": [
        {
          "output_type": "execute_result",
          "data": {
            "text/plain": [
              "(31447, 17)"
            ]
          },
          "metadata": {},
          "execution_count": 7
        }
      ]
    },
    {
      "cell_type": "markdown",
      "source": [
        "The tweets are cleaned up to remove any @ symbols, hyper links,punctuation and retweets, so that the sentiment analysis can be more accurate.\n"
      ],
      "metadata": {
        "id": "w1Mw3azPtZsn"
      }
    },
    {
      "cell_type": "code",
      "source": [
        "from string import punctuation\n",
        "def cleanTxt(text):\n",
        "    text = re.sub(r'@[A-Za-z0-9]+','',text) #Removes @mentions\n",
        "    text = re.sub(r'#','', text) #Removing the '#' symbol\n",
        "    text = re.sub(r'RT[\\s]+', '', text) #Removing RT\n",
        "    text = re.sub(r'https?:\\/\\/\\S+','', text) #Remove the hyper link\n",
        "    text = \"\".join([ch for ch in text if ch not in punctuation])\n",
        "    return text\n",
        "\n",
        "#Cleaning text\n",
        "df['text'] = df['text'].apply(cleanTxt)\n",
        "\n",
        "#Show the cleaned text\n",
        "df.head(10)"
      ],
      "metadata": {
        "colab": {
          "base_uri": "https://localhost:8080/",
          "height": 809
        },
        "id": "BXmZ3eCgWvnO",
        "outputId": "959fb8b3-1c6a-42e6-ea1d-5481da91d1b6"
      },
      "execution_count": 8,
      "outputs": [
        {
          "output_type": "execute_result",
          "data": {
            "text/plain": [
              "    Unnamed: 0                  ids  \\\n",
              "1           20  1337776763384958976   \n",
              "2           30  1337761915087560707   \n",
              "3           44  1337728701820268544   \n",
              "4           49  1339891037712637952   \n",
              "6           52  1338631874814619653   \n",
              "7           54  1338623197390852100   \n",
              "9           68  1338590172523470848   \n",
              "15          85  1338565957866778624   \n",
              "16          87  1338565238082265089   \n",
              "17          88  1338564311518769152   \n",
              "\n",
              "                                          name            location  \\\n",
              "1                                     Alex Vie     Los Angeles, CA   \n",
              "2   Ã°ÂÂ¦ÂDr. Kraken-Elect Lipstick Ã°ÂÂÂ          Not Today    \n",
              "3                                    City A.M.     London, England   \n",
              "4                                 Euranet Plus  The European Union   \n",
              "6                                Dr. Taha Khan         India | USA   \n",
              "7                                      theDove         Medford, OR   \n",
              "9                                 Joanbeam3000   La Belle Province   \n",
              "15                            Genevieve Reaume         Oregon, USA   \n",
              "16                            Genevieve Reaume         Oregon, USA   \n",
              "17                                Joanbeam3000   La Belle Province   \n",
              "\n",
              "                                            user_desc         user_created  \\\n",
              "1   Marine vet. Yogi. Krav Maga. Runner. Climber. ...  2010-01-24 04:43:57   \n",
              "2   Married. National news investigative/independe...  2011-06-01 17:10:58   \n",
              "3   London's business newspaper - News, Opinion, a...  2009-06-09 13:53:06   \n",
              "4               The leading radio network for EU news  2013-03-29 13:30:06   \n",
              "6   MD/MPH Ã¢ÂÂ¢ PGY1 Peds/Child Neurology @theBC...  2013-12-30 08:51:23   \n",
              "7   theDove | Radio | TV | Online | Mobile Providi...  2009-11-24 18:02:18   \n",
              "9   Be yourself, everyone else is already taken. ~...  2014-10-06 04:28:08   \n",
              "15  Emmy-award winning @KATUnews reporter Ã¢ÂÂ¢ s...  2015-06-22 18:41:01   \n",
              "16  Emmy-award winning @KATUnews reporter Ã¢ÂÂ¢ s...  2015-06-22 18:41:01   \n",
              "17  Be yourself, everyone else is already taken. ~...  2014-10-06 04:28:08   \n",
              "\n",
              "    follow  friends   likes  verified                 date  \\\n",
              "1      125      442    5401     False  2020-12-12 15:10:09   \n",
              "2     5166     5228   19389     False  2020-12-12 14:11:09   \n",
              "3    66224      603     771      True  2020-12-12 11:59:10   \n",
              "4     6006     3551    3954     False  2020-12-18 11:11:32   \n",
              "6      855     3046    8236     False  2020-12-14 23:48:04   \n",
              "7      649      439     342     False  2020-12-14 23:13:35   \n",
              "9     2597     4988  338282     False  2020-12-14 21:02:21   \n",
              "15    4276     1704    5877      True  2020-12-14 19:26:08   \n",
              "16    4276     1704    5877      True  2020-12-14 19:23:16   \n",
              "17    2597     4988  338282     False  2020-12-14 19:19:35   \n",
              "\n",
              "                                                 text  \\\n",
              "1   The trump administration failed to deliver on ...   \n",
              "2   Ã°ÂÂÂ Vaccine TrumpVaccine AstraZeneca Pfiz...   \n",
              "3   Trump announces vaccine rollout in less than 2...   \n",
              "4   As News gets set to approve PfizerBioNTech vac...   \n",
              "6   IÃ¢ÂÂve never been so excited to get a vacci...   \n",
              "7   The first COVID19 vaccine doses have arrived i...   \n",
              "9       Screenshot 2 of that QP exchange \\n\\nUnfor...   \n",
              "15  The state is supposed to get 35100 doses total...   \n",
              "16  BREAKING  just in from  on COVID19 vaccine\\nLe...   \n",
              "17    Ã°ÂÂÂÃ°ÂÂÂ¼Ã¢ÂÂÃ¢ÂÂÃ¯Â¸Â Ruhroh An...   \n",
              "\n",
              "                                              hashtag              source  \\\n",
              "1        ['COVIDIOTS', 'coronavirus', 'CovidVaccine']  Twitter for iPhone   \n",
              "2   ['Vaccine', 'TrumpVaccine', 'AstraZeneca', 'Pf...  Twitter for iPhone   \n",
              "3                                         ['vaccine']     Twitter Web App   \n",
              "4                 ['PfizerBioNTech', 'vaccine', 'EU']     Twitter Web App   \n",
              "6   ['CovidVaccine', 'PfizerBioNTech', 'VaccinesSa...  Twitter for iPhone   \n",
              "7                               ['MorningsontheDove']           TweetDeck   \n",
              "9                                              ['QP']     Twitter Web App   \n",
              "15                                 ['PfizerBioNTech']     Twitter Web App   \n",
              "16                 ['BREAKING', 'COVID19', 'vaccine']     Twitter Web App   \n",
              "17                                             ['QP']     Twitter Web App   \n",
              "\n",
              "    retweets  favourites  is_retweeted  \n",
              "1          0           0         False  \n",
              "2          0           0         False  \n",
              "3          0           2         False  \n",
              "4          2           0         False  \n",
              "6          1          10         False  \n",
              "7          1           0         False  \n",
              "9          1           5         False  \n",
              "15         0           0         False  \n",
              "16         1           6         False  \n",
              "17         3          16         False  "
            ],
            "text/html": [
              "\n",
              "  <div id=\"df-941f74d9-faa4-4918-9bb5-f19d0464aeba\">\n",
              "    <div class=\"colab-df-container\">\n",
              "      <div>\n",
              "<style scoped>\n",
              "    .dataframe tbody tr th:only-of-type {\n",
              "        vertical-align: middle;\n",
              "    }\n",
              "\n",
              "    .dataframe tbody tr th {\n",
              "        vertical-align: top;\n",
              "    }\n",
              "\n",
              "    .dataframe thead th {\n",
              "        text-align: right;\n",
              "    }\n",
              "</style>\n",
              "<table border=\"1\" class=\"dataframe\">\n",
              "  <thead>\n",
              "    <tr style=\"text-align: right;\">\n",
              "      <th></th>\n",
              "      <th>Unnamed: 0</th>\n",
              "      <th>ids</th>\n",
              "      <th>name</th>\n",
              "      <th>location</th>\n",
              "      <th>user_desc</th>\n",
              "      <th>user_created</th>\n",
              "      <th>follow</th>\n",
              "      <th>friends</th>\n",
              "      <th>likes</th>\n",
              "      <th>verified</th>\n",
              "      <th>date</th>\n",
              "      <th>text</th>\n",
              "      <th>hashtag</th>\n",
              "      <th>source</th>\n",
              "      <th>retweets</th>\n",
              "      <th>favourites</th>\n",
              "      <th>is_retweeted</th>\n",
              "    </tr>\n",
              "  </thead>\n",
              "  <tbody>\n",
              "    <tr>\n",
              "      <th>1</th>\n",
              "      <td>20</td>\n",
              "      <td>1337776763384958976</td>\n",
              "      <td>Alex Vie</td>\n",
              "      <td>Los Angeles, CA</td>\n",
              "      <td>Marine vet. Yogi. Krav Maga. Runner. Climber. ...</td>\n",
              "      <td>2010-01-24 04:43:57</td>\n",
              "      <td>125</td>\n",
              "      <td>442</td>\n",
              "      <td>5401</td>\n",
              "      <td>False</td>\n",
              "      <td>2020-12-12 15:10:09</td>\n",
              "      <td>The trump administration failed to deliver on ...</td>\n",
              "      <td>['COVIDIOTS', 'coronavirus', 'CovidVaccine']</td>\n",
              "      <td>Twitter for iPhone</td>\n",
              "      <td>0</td>\n",
              "      <td>0</td>\n",
              "      <td>False</td>\n",
              "    </tr>\n",
              "    <tr>\n",
              "      <th>2</th>\n",
              "      <td>30</td>\n",
              "      <td>1337761915087560707</td>\n",
              "      <td>Ã°ÂÂ¦ÂDr. Kraken-Elect Lipstick Ã°ÂÂÂ</td>\n",
              "      <td>Not Today</td>\n",
              "      <td>Married. National news investigative/independe...</td>\n",
              "      <td>2011-06-01 17:10:58</td>\n",
              "      <td>5166</td>\n",
              "      <td>5228</td>\n",
              "      <td>19389</td>\n",
              "      <td>False</td>\n",
              "      <td>2020-12-12 14:11:09</td>\n",
              "      <td>Ã°ÂÂÂ Vaccine TrumpVaccine AstraZeneca Pfiz...</td>\n",
              "      <td>['Vaccine', 'TrumpVaccine', 'AstraZeneca', 'Pf...</td>\n",
              "      <td>Twitter for iPhone</td>\n",
              "      <td>0</td>\n",
              "      <td>0</td>\n",
              "      <td>False</td>\n",
              "    </tr>\n",
              "    <tr>\n",
              "      <th>3</th>\n",
              "      <td>44</td>\n",
              "      <td>1337728701820268544</td>\n",
              "      <td>City A.M.</td>\n",
              "      <td>London, England</td>\n",
              "      <td>London's business newspaper - News, Opinion, a...</td>\n",
              "      <td>2009-06-09 13:53:06</td>\n",
              "      <td>66224</td>\n",
              "      <td>603</td>\n",
              "      <td>771</td>\n",
              "      <td>True</td>\n",
              "      <td>2020-12-12 11:59:10</td>\n",
              "      <td>Trump announces vaccine rollout in less than 2...</td>\n",
              "      <td>['vaccine']</td>\n",
              "      <td>Twitter Web App</td>\n",
              "      <td>0</td>\n",
              "      <td>2</td>\n",
              "      <td>False</td>\n",
              "    </tr>\n",
              "    <tr>\n",
              "      <th>4</th>\n",
              "      <td>49</td>\n",
              "      <td>1339891037712637952</td>\n",
              "      <td>Euranet Plus</td>\n",
              "      <td>The European Union</td>\n",
              "      <td>The leading radio network for EU news</td>\n",
              "      <td>2013-03-29 13:30:06</td>\n",
              "      <td>6006</td>\n",
              "      <td>3551</td>\n",
              "      <td>3954</td>\n",
              "      <td>False</td>\n",
              "      <td>2020-12-18 11:11:32</td>\n",
              "      <td>As News gets set to approve PfizerBioNTech vac...</td>\n",
              "      <td>['PfizerBioNTech', 'vaccine', 'EU']</td>\n",
              "      <td>Twitter Web App</td>\n",
              "      <td>2</td>\n",
              "      <td>0</td>\n",
              "      <td>False</td>\n",
              "    </tr>\n",
              "    <tr>\n",
              "      <th>6</th>\n",
              "      <td>52</td>\n",
              "      <td>1338631874814619653</td>\n",
              "      <td>Dr. Taha Khan</td>\n",
              "      <td>India | USA</td>\n",
              "      <td>MD/MPH Ã¢ÂÂ¢ PGY1 Peds/Child Neurology @theBC...</td>\n",
              "      <td>2013-12-30 08:51:23</td>\n",
              "      <td>855</td>\n",
              "      <td>3046</td>\n",
              "      <td>8236</td>\n",
              "      <td>False</td>\n",
              "      <td>2020-12-14 23:48:04</td>\n",
              "      <td>IÃ¢ÂÂve never been so excited to get a vacci...</td>\n",
              "      <td>['CovidVaccine', 'PfizerBioNTech', 'VaccinesSa...</td>\n",
              "      <td>Twitter for iPhone</td>\n",
              "      <td>1</td>\n",
              "      <td>10</td>\n",
              "      <td>False</td>\n",
              "    </tr>\n",
              "    <tr>\n",
              "      <th>7</th>\n",
              "      <td>54</td>\n",
              "      <td>1338623197390852100</td>\n",
              "      <td>theDove</td>\n",
              "      <td>Medford, OR</td>\n",
              "      <td>theDove | Radio | TV | Online | Mobile Providi...</td>\n",
              "      <td>2009-11-24 18:02:18</td>\n",
              "      <td>649</td>\n",
              "      <td>439</td>\n",
              "      <td>342</td>\n",
              "      <td>False</td>\n",
              "      <td>2020-12-14 23:13:35</td>\n",
              "      <td>The first COVID19 vaccine doses have arrived i...</td>\n",
              "      <td>['MorningsontheDove']</td>\n",
              "      <td>TweetDeck</td>\n",
              "      <td>1</td>\n",
              "      <td>0</td>\n",
              "      <td>False</td>\n",
              "    </tr>\n",
              "    <tr>\n",
              "      <th>9</th>\n",
              "      <td>68</td>\n",
              "      <td>1338590172523470848</td>\n",
              "      <td>Joanbeam3000</td>\n",
              "      <td>La Belle Province</td>\n",
              "      <td>Be yourself, everyone else is already taken. ~...</td>\n",
              "      <td>2014-10-06 04:28:08</td>\n",
              "      <td>2597</td>\n",
              "      <td>4988</td>\n",
              "      <td>338282</td>\n",
              "      <td>False</td>\n",
              "      <td>2020-12-14 21:02:21</td>\n",
              "      <td>Screenshot 2 of that QP exchange \\n\\nUnfor...</td>\n",
              "      <td>['QP']</td>\n",
              "      <td>Twitter Web App</td>\n",
              "      <td>1</td>\n",
              "      <td>5</td>\n",
              "      <td>False</td>\n",
              "    </tr>\n",
              "    <tr>\n",
              "      <th>15</th>\n",
              "      <td>85</td>\n",
              "      <td>1338565957866778624</td>\n",
              "      <td>Genevieve Reaume</td>\n",
              "      <td>Oregon, USA</td>\n",
              "      <td>Emmy-award winning @KATUnews reporter Ã¢ÂÂ¢ s...</td>\n",
              "      <td>2015-06-22 18:41:01</td>\n",
              "      <td>4276</td>\n",
              "      <td>1704</td>\n",
              "      <td>5877</td>\n",
              "      <td>True</td>\n",
              "      <td>2020-12-14 19:26:08</td>\n",
              "      <td>The state is supposed to get 35100 doses total...</td>\n",
              "      <td>['PfizerBioNTech']</td>\n",
              "      <td>Twitter Web App</td>\n",
              "      <td>0</td>\n",
              "      <td>0</td>\n",
              "      <td>False</td>\n",
              "    </tr>\n",
              "    <tr>\n",
              "      <th>16</th>\n",
              "      <td>87</td>\n",
              "      <td>1338565238082265089</td>\n",
              "      <td>Genevieve Reaume</td>\n",
              "      <td>Oregon, USA</td>\n",
              "      <td>Emmy-award winning @KATUnews reporter Ã¢ÂÂ¢ s...</td>\n",
              "      <td>2015-06-22 18:41:01</td>\n",
              "      <td>4276</td>\n",
              "      <td>1704</td>\n",
              "      <td>5877</td>\n",
              "      <td>True</td>\n",
              "      <td>2020-12-14 19:23:16</td>\n",
              "      <td>BREAKING  just in from  on COVID19 vaccine\\nLe...</td>\n",
              "      <td>['BREAKING', 'COVID19', 'vaccine']</td>\n",
              "      <td>Twitter Web App</td>\n",
              "      <td>1</td>\n",
              "      <td>6</td>\n",
              "      <td>False</td>\n",
              "    </tr>\n",
              "    <tr>\n",
              "      <th>17</th>\n",
              "      <td>88</td>\n",
              "      <td>1338564311518769152</td>\n",
              "      <td>Joanbeam3000</td>\n",
              "      <td>La Belle Province</td>\n",
              "      <td>Be yourself, everyone else is already taken. ~...</td>\n",
              "      <td>2014-10-06 04:28:08</td>\n",
              "      <td>2597</td>\n",
              "      <td>4988</td>\n",
              "      <td>338282</td>\n",
              "      <td>False</td>\n",
              "      <td>2020-12-14 19:19:35</td>\n",
              "      <td>Ã°ÂÂÂÃ°ÂÂÂ¼Ã¢ÂÂÃ¢ÂÂÃ¯Â¸Â Ruhroh An...</td>\n",
              "      <td>['QP']</td>\n",
              "      <td>Twitter Web App</td>\n",
              "      <td>3</td>\n",
              "      <td>16</td>\n",
              "      <td>False</td>\n",
              "    </tr>\n",
              "  </tbody>\n",
              "</table>\n",
              "</div>\n",
              "      <button class=\"colab-df-convert\" onclick=\"convertToInteractive('df-941f74d9-faa4-4918-9bb5-f19d0464aeba')\"\n",
              "              title=\"Convert this dataframe to an interactive table.\"\n",
              "              style=\"display:none;\">\n",
              "        \n",
              "  <svg xmlns=\"http://www.w3.org/2000/svg\" height=\"24px\"viewBox=\"0 0 24 24\"\n",
              "       width=\"24px\">\n",
              "    <path d=\"M0 0h24v24H0V0z\" fill=\"none\"/>\n",
              "    <path d=\"M18.56 5.44l.94 2.06.94-2.06 2.06-.94-2.06-.94-.94-2.06-.94 2.06-2.06.94zm-11 1L8.5 8.5l.94-2.06 2.06-.94-2.06-.94L8.5 2.5l-.94 2.06-2.06.94zm10 10l.94 2.06.94-2.06 2.06-.94-2.06-.94-.94-2.06-.94 2.06-2.06.94z\"/><path d=\"M17.41 7.96l-1.37-1.37c-.4-.4-.92-.59-1.43-.59-.52 0-1.04.2-1.43.59L10.3 9.45l-7.72 7.72c-.78.78-.78 2.05 0 2.83L4 21.41c.39.39.9.59 1.41.59.51 0 1.02-.2 1.41-.59l7.78-7.78 2.81-2.81c.8-.78.8-2.07 0-2.86zM5.41 20L4 18.59l7.72-7.72 1.47 1.35L5.41 20z\"/>\n",
              "  </svg>\n",
              "      </button>\n",
              "      \n",
              "  <style>\n",
              "    .colab-df-container {\n",
              "      display:flex;\n",
              "      flex-wrap:wrap;\n",
              "      gap: 12px;\n",
              "    }\n",
              "\n",
              "    .colab-df-convert {\n",
              "      background-color: #E8F0FE;\n",
              "      border: none;\n",
              "      border-radius: 50%;\n",
              "      cursor: pointer;\n",
              "      display: none;\n",
              "      fill: #1967D2;\n",
              "      height: 32px;\n",
              "      padding: 0 0 0 0;\n",
              "      width: 32px;\n",
              "    }\n",
              "\n",
              "    .colab-df-convert:hover {\n",
              "      background-color: #E2EBFA;\n",
              "      box-shadow: 0px 1px 2px rgba(60, 64, 67, 0.3), 0px 1px 3px 1px rgba(60, 64, 67, 0.15);\n",
              "      fill: #174EA6;\n",
              "    }\n",
              "\n",
              "    [theme=dark] .colab-df-convert {\n",
              "      background-color: #3B4455;\n",
              "      fill: #D2E3FC;\n",
              "    }\n",
              "\n",
              "    [theme=dark] .colab-df-convert:hover {\n",
              "      background-color: #434B5C;\n",
              "      box-shadow: 0px 1px 3px 1px rgba(0, 0, 0, 0.15);\n",
              "      filter: drop-shadow(0px 1px 2px rgba(0, 0, 0, 0.3));\n",
              "      fill: #FFFFFF;\n",
              "    }\n",
              "  </style>\n",
              "\n",
              "      <script>\n",
              "        const buttonEl =\n",
              "          document.querySelector('#df-941f74d9-faa4-4918-9bb5-f19d0464aeba button.colab-df-convert');\n",
              "        buttonEl.style.display =\n",
              "          google.colab.kernel.accessAllowed ? 'block' : 'none';\n",
              "\n",
              "        async function convertToInteractive(key) {\n",
              "          const element = document.querySelector('#df-941f74d9-faa4-4918-9bb5-f19d0464aeba');\n",
              "          const dataTable =\n",
              "            await google.colab.kernel.invokeFunction('convertToInteractive',\n",
              "                                                     [key], {});\n",
              "          if (!dataTable) return;\n",
              "\n",
              "          const docLinkHtml = 'Like what you see? Visit the ' +\n",
              "            '<a target=\"_blank\" href=https://colab.research.google.com/notebooks/data_table.ipynb>data table notebook</a>'\n",
              "            + ' to learn more about interactive tables.';\n",
              "          element.innerHTML = '';\n",
              "          dataTable['output_type'] = 'display_data';\n",
              "          await google.colab.output.renderOutput(dataTable, element);\n",
              "          const docLink = document.createElement('div');\n",
              "          docLink.innerHTML = docLinkHtml;\n",
              "          element.appendChild(docLink);\n",
              "        }\n",
              "      </script>\n",
              "    </div>\n",
              "  </div>\n",
              "  "
            ]
          },
          "metadata": {},
          "execution_count": 8
        }
      ]
    },
    {
      "cell_type": "markdown",
      "source": [
        "Using the TextBlob library, the subjectivity and polarity of the text can be analyzed."
      ],
      "metadata": {
        "id": "BE_MEdCbuFVP"
      }
    },
    {
      "cell_type": "code",
      "source": [
        "# Create a function to get the subjectivity \n",
        "def getSubjectivity(text):\n",
        "    return TextBlob(text).sentiment.subjectivity\n",
        "\n",
        "#Create a function to get the polarity\n",
        "def getPolarity(text):\n",
        "    return TextBlob(text).sentiment.polarity\n",
        "\n",
        "#Create two new columns\n",
        "df['Subjectivity'] = df['text'].apply(getSubjectivity)\n",
        "df['Polarity'] = df['text'].apply(getPolarity)\n",
        "\n",
        "#Show the new dataframe with the new columns\n",
        "df.head(10)"
      ],
      "metadata": {
        "colab": {
          "base_uri": "https://localhost:8080/",
          "height": 809
        },
        "id": "iptSr6JtXMuu",
        "outputId": "05440d41-50d9-4a7b-986a-7d4f14d9b27d"
      },
      "execution_count": 9,
      "outputs": [
        {
          "output_type": "execute_result",
          "data": {
            "text/plain": [
              "    Unnamed: 0                  ids  \\\n",
              "1           20  1337776763384958976   \n",
              "2           30  1337761915087560707   \n",
              "3           44  1337728701820268544   \n",
              "4           49  1339891037712637952   \n",
              "6           52  1338631874814619653   \n",
              "7           54  1338623197390852100   \n",
              "9           68  1338590172523470848   \n",
              "15          85  1338565957866778624   \n",
              "16          87  1338565238082265089   \n",
              "17          88  1338564311518769152   \n",
              "\n",
              "                                          name            location  \\\n",
              "1                                     Alex Vie     Los Angeles, CA   \n",
              "2   Ã°ÂÂ¦ÂDr. Kraken-Elect Lipstick Ã°ÂÂÂ          Not Today    \n",
              "3                                    City A.M.     London, England   \n",
              "4                                 Euranet Plus  The European Union   \n",
              "6                                Dr. Taha Khan         India | USA   \n",
              "7                                      theDove         Medford, OR   \n",
              "9                                 Joanbeam3000   La Belle Province   \n",
              "15                            Genevieve Reaume         Oregon, USA   \n",
              "16                            Genevieve Reaume         Oregon, USA   \n",
              "17                                Joanbeam3000   La Belle Province   \n",
              "\n",
              "                                            user_desc         user_created  \\\n",
              "1   Marine vet. Yogi. Krav Maga. Runner. Climber. ...  2010-01-24 04:43:57   \n",
              "2   Married. National news investigative/independe...  2011-06-01 17:10:58   \n",
              "3   London's business newspaper - News, Opinion, a...  2009-06-09 13:53:06   \n",
              "4               The leading radio network for EU news  2013-03-29 13:30:06   \n",
              "6   MD/MPH Ã¢ÂÂ¢ PGY1 Peds/Child Neurology @theBC...  2013-12-30 08:51:23   \n",
              "7   theDove | Radio | TV | Online | Mobile Providi...  2009-11-24 18:02:18   \n",
              "9   Be yourself, everyone else is already taken. ~...  2014-10-06 04:28:08   \n",
              "15  Emmy-award winning @KATUnews reporter Ã¢ÂÂ¢ s...  2015-06-22 18:41:01   \n",
              "16  Emmy-award winning @KATUnews reporter Ã¢ÂÂ¢ s...  2015-06-22 18:41:01   \n",
              "17  Be yourself, everyone else is already taken. ~...  2014-10-06 04:28:08   \n",
              "\n",
              "    follow  friends   likes  verified                 date  \\\n",
              "1      125      442    5401     False  2020-12-12 15:10:09   \n",
              "2     5166     5228   19389     False  2020-12-12 14:11:09   \n",
              "3    66224      603     771      True  2020-12-12 11:59:10   \n",
              "4     6006     3551    3954     False  2020-12-18 11:11:32   \n",
              "6      855     3046    8236     False  2020-12-14 23:48:04   \n",
              "7      649      439     342     False  2020-12-14 23:13:35   \n",
              "9     2597     4988  338282     False  2020-12-14 21:02:21   \n",
              "15    4276     1704    5877      True  2020-12-14 19:26:08   \n",
              "16    4276     1704    5877      True  2020-12-14 19:23:16   \n",
              "17    2597     4988  338282     False  2020-12-14 19:19:35   \n",
              "\n",
              "                                                 text  \\\n",
              "1   The trump administration failed to deliver on ...   \n",
              "2   Ã°ÂÂÂ Vaccine TrumpVaccine AstraZeneca Pfiz...   \n",
              "3   Trump announces vaccine rollout in less than 2...   \n",
              "4   As News gets set to approve PfizerBioNTech vac...   \n",
              "6   IÃ¢ÂÂve never been so excited to get a vacci...   \n",
              "7   The first COVID19 vaccine doses have arrived i...   \n",
              "9       Screenshot 2 of that QP exchange \\n\\nUnfor...   \n",
              "15  The state is supposed to get 35100 doses total...   \n",
              "16  BREAKING  just in from  on COVID19 vaccine\\nLe...   \n",
              "17    Ã°ÂÂÂÃ°ÂÂÂ¼Ã¢ÂÂÃ¢ÂÂÃ¯Â¸Â Ruhroh An...   \n",
              "\n",
              "                                              hashtag              source  \\\n",
              "1        ['COVIDIOTS', 'coronavirus', 'CovidVaccine']  Twitter for iPhone   \n",
              "2   ['Vaccine', 'TrumpVaccine', 'AstraZeneca', 'Pf...  Twitter for iPhone   \n",
              "3                                         ['vaccine']     Twitter Web App   \n",
              "4                 ['PfizerBioNTech', 'vaccine', 'EU']     Twitter Web App   \n",
              "6   ['CovidVaccine', 'PfizerBioNTech', 'VaccinesSa...  Twitter for iPhone   \n",
              "7                               ['MorningsontheDove']           TweetDeck   \n",
              "9                                              ['QP']     Twitter Web App   \n",
              "15                                 ['PfizerBioNTech']     Twitter Web App   \n",
              "16                 ['BREAKING', 'COVID19', 'vaccine']     Twitter Web App   \n",
              "17                                             ['QP']     Twitter Web App   \n",
              "\n",
              "    retweets  favourites  is_retweeted  Subjectivity  Polarity  \n",
              "1          0           0         False      0.300000 -0.500000  \n",
              "2          0           0         False      0.000000  0.000000  \n",
              "3          0           2         False      0.200000  0.041667  \n",
              "4          2           0         False      0.000000  0.000000  \n",
              "6          1          10         False      0.750000  0.375000  \n",
              "7          1           0         False      0.333333  0.250000  \n",
              "9          1           5         False      1.000000 -0.500000  \n",
              "15         0           0         False      0.750000  0.000000  \n",
              "16         1           6         False      0.333333  0.250000  \n",
              "17         3          16         False      0.000000  0.000000  "
            ],
            "text/html": [
              "\n",
              "  <div id=\"df-32bc4db2-4a90-410f-a67a-e139ecb3d494\">\n",
              "    <div class=\"colab-df-container\">\n",
              "      <div>\n",
              "<style scoped>\n",
              "    .dataframe tbody tr th:only-of-type {\n",
              "        vertical-align: middle;\n",
              "    }\n",
              "\n",
              "    .dataframe tbody tr th {\n",
              "        vertical-align: top;\n",
              "    }\n",
              "\n",
              "    .dataframe thead th {\n",
              "        text-align: right;\n",
              "    }\n",
              "</style>\n",
              "<table border=\"1\" class=\"dataframe\">\n",
              "  <thead>\n",
              "    <tr style=\"text-align: right;\">\n",
              "      <th></th>\n",
              "      <th>Unnamed: 0</th>\n",
              "      <th>ids</th>\n",
              "      <th>name</th>\n",
              "      <th>location</th>\n",
              "      <th>user_desc</th>\n",
              "      <th>user_created</th>\n",
              "      <th>follow</th>\n",
              "      <th>friends</th>\n",
              "      <th>likes</th>\n",
              "      <th>verified</th>\n",
              "      <th>date</th>\n",
              "      <th>text</th>\n",
              "      <th>hashtag</th>\n",
              "      <th>source</th>\n",
              "      <th>retweets</th>\n",
              "      <th>favourites</th>\n",
              "      <th>is_retweeted</th>\n",
              "      <th>Subjectivity</th>\n",
              "      <th>Polarity</th>\n",
              "    </tr>\n",
              "  </thead>\n",
              "  <tbody>\n",
              "    <tr>\n",
              "      <th>1</th>\n",
              "      <td>20</td>\n",
              "      <td>1337776763384958976</td>\n",
              "      <td>Alex Vie</td>\n",
              "      <td>Los Angeles, CA</td>\n",
              "      <td>Marine vet. Yogi. Krav Maga. Runner. Climber. ...</td>\n",
              "      <td>2010-01-24 04:43:57</td>\n",
              "      <td>125</td>\n",
              "      <td>442</td>\n",
              "      <td>5401</td>\n",
              "      <td>False</td>\n",
              "      <td>2020-12-12 15:10:09</td>\n",
              "      <td>The trump administration failed to deliver on ...</td>\n",
              "      <td>['COVIDIOTS', 'coronavirus', 'CovidVaccine']</td>\n",
              "      <td>Twitter for iPhone</td>\n",
              "      <td>0</td>\n",
              "      <td>0</td>\n",
              "      <td>False</td>\n",
              "      <td>0.300000</td>\n",
              "      <td>-0.500000</td>\n",
              "    </tr>\n",
              "    <tr>\n",
              "      <th>2</th>\n",
              "      <td>30</td>\n",
              "      <td>1337761915087560707</td>\n",
              "      <td>Ã°ÂÂ¦ÂDr. Kraken-Elect Lipstick Ã°ÂÂÂ</td>\n",
              "      <td>Not Today</td>\n",
              "      <td>Married. National news investigative/independe...</td>\n",
              "      <td>2011-06-01 17:10:58</td>\n",
              "      <td>5166</td>\n",
              "      <td>5228</td>\n",
              "      <td>19389</td>\n",
              "      <td>False</td>\n",
              "      <td>2020-12-12 14:11:09</td>\n",
              "      <td>Ã°ÂÂÂ Vaccine TrumpVaccine AstraZeneca Pfiz...</td>\n",
              "      <td>['Vaccine', 'TrumpVaccine', 'AstraZeneca', 'Pf...</td>\n",
              "      <td>Twitter for iPhone</td>\n",
              "      <td>0</td>\n",
              "      <td>0</td>\n",
              "      <td>False</td>\n",
              "      <td>0.000000</td>\n",
              "      <td>0.000000</td>\n",
              "    </tr>\n",
              "    <tr>\n",
              "      <th>3</th>\n",
              "      <td>44</td>\n",
              "      <td>1337728701820268544</td>\n",
              "      <td>City A.M.</td>\n",
              "      <td>London, England</td>\n",
              "      <td>London's business newspaper - News, Opinion, a...</td>\n",
              "      <td>2009-06-09 13:53:06</td>\n",
              "      <td>66224</td>\n",
              "      <td>603</td>\n",
              "      <td>771</td>\n",
              "      <td>True</td>\n",
              "      <td>2020-12-12 11:59:10</td>\n",
              "      <td>Trump announces vaccine rollout in less than 2...</td>\n",
              "      <td>['vaccine']</td>\n",
              "      <td>Twitter Web App</td>\n",
              "      <td>0</td>\n",
              "      <td>2</td>\n",
              "      <td>False</td>\n",
              "      <td>0.200000</td>\n",
              "      <td>0.041667</td>\n",
              "    </tr>\n",
              "    <tr>\n",
              "      <th>4</th>\n",
              "      <td>49</td>\n",
              "      <td>1339891037712637952</td>\n",
              "      <td>Euranet Plus</td>\n",
              "      <td>The European Union</td>\n",
              "      <td>The leading radio network for EU news</td>\n",
              "      <td>2013-03-29 13:30:06</td>\n",
              "      <td>6006</td>\n",
              "      <td>3551</td>\n",
              "      <td>3954</td>\n",
              "      <td>False</td>\n",
              "      <td>2020-12-18 11:11:32</td>\n",
              "      <td>As News gets set to approve PfizerBioNTech vac...</td>\n",
              "      <td>['PfizerBioNTech', 'vaccine', 'EU']</td>\n",
              "      <td>Twitter Web App</td>\n",
              "      <td>2</td>\n",
              "      <td>0</td>\n",
              "      <td>False</td>\n",
              "      <td>0.000000</td>\n",
              "      <td>0.000000</td>\n",
              "    </tr>\n",
              "    <tr>\n",
              "      <th>6</th>\n",
              "      <td>52</td>\n",
              "      <td>1338631874814619653</td>\n",
              "      <td>Dr. Taha Khan</td>\n",
              "      <td>India | USA</td>\n",
              "      <td>MD/MPH Ã¢ÂÂ¢ PGY1 Peds/Child Neurology @theBC...</td>\n",
              "      <td>2013-12-30 08:51:23</td>\n",
              "      <td>855</td>\n",
              "      <td>3046</td>\n",
              "      <td>8236</td>\n",
              "      <td>False</td>\n",
              "      <td>2020-12-14 23:48:04</td>\n",
              "      <td>IÃ¢ÂÂve never been so excited to get a vacci...</td>\n",
              "      <td>['CovidVaccine', 'PfizerBioNTech', 'VaccinesSa...</td>\n",
              "      <td>Twitter for iPhone</td>\n",
              "      <td>1</td>\n",
              "      <td>10</td>\n",
              "      <td>False</td>\n",
              "      <td>0.750000</td>\n",
              "      <td>0.375000</td>\n",
              "    </tr>\n",
              "    <tr>\n",
              "      <th>7</th>\n",
              "      <td>54</td>\n",
              "      <td>1338623197390852100</td>\n",
              "      <td>theDove</td>\n",
              "      <td>Medford, OR</td>\n",
              "      <td>theDove | Radio | TV | Online | Mobile Providi...</td>\n",
              "      <td>2009-11-24 18:02:18</td>\n",
              "      <td>649</td>\n",
              "      <td>439</td>\n",
              "      <td>342</td>\n",
              "      <td>False</td>\n",
              "      <td>2020-12-14 23:13:35</td>\n",
              "      <td>The first COVID19 vaccine doses have arrived i...</td>\n",
              "      <td>['MorningsontheDove']</td>\n",
              "      <td>TweetDeck</td>\n",
              "      <td>1</td>\n",
              "      <td>0</td>\n",
              "      <td>False</td>\n",
              "      <td>0.333333</td>\n",
              "      <td>0.250000</td>\n",
              "    </tr>\n",
              "    <tr>\n",
              "      <th>9</th>\n",
              "      <td>68</td>\n",
              "      <td>1338590172523470848</td>\n",
              "      <td>Joanbeam3000</td>\n",
              "      <td>La Belle Province</td>\n",
              "      <td>Be yourself, everyone else is already taken. ~...</td>\n",
              "      <td>2014-10-06 04:28:08</td>\n",
              "      <td>2597</td>\n",
              "      <td>4988</td>\n",
              "      <td>338282</td>\n",
              "      <td>False</td>\n",
              "      <td>2020-12-14 21:02:21</td>\n",
              "      <td>Screenshot 2 of that QP exchange \\n\\nUnfor...</td>\n",
              "      <td>['QP']</td>\n",
              "      <td>Twitter Web App</td>\n",
              "      <td>1</td>\n",
              "      <td>5</td>\n",
              "      <td>False</td>\n",
              "      <td>1.000000</td>\n",
              "      <td>-0.500000</td>\n",
              "    </tr>\n",
              "    <tr>\n",
              "      <th>15</th>\n",
              "      <td>85</td>\n",
              "      <td>1338565957866778624</td>\n",
              "      <td>Genevieve Reaume</td>\n",
              "      <td>Oregon, USA</td>\n",
              "      <td>Emmy-award winning @KATUnews reporter Ã¢ÂÂ¢ s...</td>\n",
              "      <td>2015-06-22 18:41:01</td>\n",
              "      <td>4276</td>\n",
              "      <td>1704</td>\n",
              "      <td>5877</td>\n",
              "      <td>True</td>\n",
              "      <td>2020-12-14 19:26:08</td>\n",
              "      <td>The state is supposed to get 35100 doses total...</td>\n",
              "      <td>['PfizerBioNTech']</td>\n",
              "      <td>Twitter Web App</td>\n",
              "      <td>0</td>\n",
              "      <td>0</td>\n",
              "      <td>False</td>\n",
              "      <td>0.750000</td>\n",
              "      <td>0.000000</td>\n",
              "    </tr>\n",
              "    <tr>\n",
              "      <th>16</th>\n",
              "      <td>87</td>\n",
              "      <td>1338565238082265089</td>\n",
              "      <td>Genevieve Reaume</td>\n",
              "      <td>Oregon, USA</td>\n",
              "      <td>Emmy-award winning @KATUnews reporter Ã¢ÂÂ¢ s...</td>\n",
              "      <td>2015-06-22 18:41:01</td>\n",
              "      <td>4276</td>\n",
              "      <td>1704</td>\n",
              "      <td>5877</td>\n",
              "      <td>True</td>\n",
              "      <td>2020-12-14 19:23:16</td>\n",
              "      <td>BREAKING  just in from  on COVID19 vaccine\\nLe...</td>\n",
              "      <td>['BREAKING', 'COVID19', 'vaccine']</td>\n",
              "      <td>Twitter Web App</td>\n",
              "      <td>1</td>\n",
              "      <td>6</td>\n",
              "      <td>False</td>\n",
              "      <td>0.333333</td>\n",
              "      <td>0.250000</td>\n",
              "    </tr>\n",
              "    <tr>\n",
              "      <th>17</th>\n",
              "      <td>88</td>\n",
              "      <td>1338564311518769152</td>\n",
              "      <td>Joanbeam3000</td>\n",
              "      <td>La Belle Province</td>\n",
              "      <td>Be yourself, everyone else is already taken. ~...</td>\n",
              "      <td>2014-10-06 04:28:08</td>\n",
              "      <td>2597</td>\n",
              "      <td>4988</td>\n",
              "      <td>338282</td>\n",
              "      <td>False</td>\n",
              "      <td>2020-12-14 19:19:35</td>\n",
              "      <td>Ã°ÂÂÂÃ°ÂÂÂ¼Ã¢ÂÂÃ¢ÂÂÃ¯Â¸Â Ruhroh An...</td>\n",
              "      <td>['QP']</td>\n",
              "      <td>Twitter Web App</td>\n",
              "      <td>3</td>\n",
              "      <td>16</td>\n",
              "      <td>False</td>\n",
              "      <td>0.000000</td>\n",
              "      <td>0.000000</td>\n",
              "    </tr>\n",
              "  </tbody>\n",
              "</table>\n",
              "</div>\n",
              "      <button class=\"colab-df-convert\" onclick=\"convertToInteractive('df-32bc4db2-4a90-410f-a67a-e139ecb3d494')\"\n",
              "              title=\"Convert this dataframe to an interactive table.\"\n",
              "              style=\"display:none;\">\n",
              "        \n",
              "  <svg xmlns=\"http://www.w3.org/2000/svg\" height=\"24px\"viewBox=\"0 0 24 24\"\n",
              "       width=\"24px\">\n",
              "    <path d=\"M0 0h24v24H0V0z\" fill=\"none\"/>\n",
              "    <path d=\"M18.56 5.44l.94 2.06.94-2.06 2.06-.94-2.06-.94-.94-2.06-.94 2.06-2.06.94zm-11 1L8.5 8.5l.94-2.06 2.06-.94-2.06-.94L8.5 2.5l-.94 2.06-2.06.94zm10 10l.94 2.06.94-2.06 2.06-.94-2.06-.94-.94-2.06-.94 2.06-2.06.94z\"/><path d=\"M17.41 7.96l-1.37-1.37c-.4-.4-.92-.59-1.43-.59-.52 0-1.04.2-1.43.59L10.3 9.45l-7.72 7.72c-.78.78-.78 2.05 0 2.83L4 21.41c.39.39.9.59 1.41.59.51 0 1.02-.2 1.41-.59l7.78-7.78 2.81-2.81c.8-.78.8-2.07 0-2.86zM5.41 20L4 18.59l7.72-7.72 1.47 1.35L5.41 20z\"/>\n",
              "  </svg>\n",
              "      </button>\n",
              "      \n",
              "  <style>\n",
              "    .colab-df-container {\n",
              "      display:flex;\n",
              "      flex-wrap:wrap;\n",
              "      gap: 12px;\n",
              "    }\n",
              "\n",
              "    .colab-df-convert {\n",
              "      background-color: #E8F0FE;\n",
              "      border: none;\n",
              "      border-radius: 50%;\n",
              "      cursor: pointer;\n",
              "      display: none;\n",
              "      fill: #1967D2;\n",
              "      height: 32px;\n",
              "      padding: 0 0 0 0;\n",
              "      width: 32px;\n",
              "    }\n",
              "\n",
              "    .colab-df-convert:hover {\n",
              "      background-color: #E2EBFA;\n",
              "      box-shadow: 0px 1px 2px rgba(60, 64, 67, 0.3), 0px 1px 3px 1px rgba(60, 64, 67, 0.15);\n",
              "      fill: #174EA6;\n",
              "    }\n",
              "\n",
              "    [theme=dark] .colab-df-convert {\n",
              "      background-color: #3B4455;\n",
              "      fill: #D2E3FC;\n",
              "    }\n",
              "\n",
              "    [theme=dark] .colab-df-convert:hover {\n",
              "      background-color: #434B5C;\n",
              "      box-shadow: 0px 1px 3px 1px rgba(0, 0, 0, 0.15);\n",
              "      filter: drop-shadow(0px 1px 2px rgba(0, 0, 0, 0.3));\n",
              "      fill: #FFFFFF;\n",
              "    }\n",
              "  </style>\n",
              "\n",
              "      <script>\n",
              "        const buttonEl =\n",
              "          document.querySelector('#df-32bc4db2-4a90-410f-a67a-e139ecb3d494 button.colab-df-convert');\n",
              "        buttonEl.style.display =\n",
              "          google.colab.kernel.accessAllowed ? 'block' : 'none';\n",
              "\n",
              "        async function convertToInteractive(key) {\n",
              "          const element = document.querySelector('#df-32bc4db2-4a90-410f-a67a-e139ecb3d494');\n",
              "          const dataTable =\n",
              "            await google.colab.kernel.invokeFunction('convertToInteractive',\n",
              "                                                     [key], {});\n",
              "          if (!dataTable) return;\n",
              "\n",
              "          const docLinkHtml = 'Like what you see? Visit the ' +\n",
              "            '<a target=\"_blank\" href=https://colab.research.google.com/notebooks/data_table.ipynb>data table notebook</a>'\n",
              "            + ' to learn more about interactive tables.';\n",
              "          element.innerHTML = '';\n",
              "          dataTable['output_type'] = 'display_data';\n",
              "          await google.colab.output.renderOutput(dataTable, element);\n",
              "          const docLink = document.createElement('div');\n",
              "          docLink.innerHTML = docLinkHtml;\n",
              "          element.appendChild(docLink);\n",
              "        }\n",
              "      </script>\n",
              "    </div>\n",
              "  </div>\n",
              "  "
            ]
          },
          "metadata": {},
          "execution_count": 9
        }
      ]
    },
    {
      "cell_type": "markdown",
      "source": [
        "The TextBlob polarity scales ranges from -1 to 1. If the score is less than 0, it's an negative sentiment, if it's zero it's a neutral sentiment, and if it's more than 0, it's a positve sentiment"
      ],
      "metadata": {
        "id": "XOBqWIQgwqlx"
      }
    },
    {
      "cell_type": "code",
      "source": [
        "def getAnalysis(score):\n",
        "    if score < 0:\n",
        "        return 0\n",
        "    elif score == 0:\n",
        "        return 1\n",
        "    else:\n",
        "        return 2\n",
        "\n",
        "df['sentiment'] = df['Polarity'].apply(getAnalysis)\n",
        "\n",
        "df.head(20)"
      ],
      "metadata": {
        "colab": {
          "base_uri": "https://localhost:8080/",
          "height": 1000
        },
        "id": "OaBGN4OGXsLq",
        "outputId": "03ac6637-f4af-4e94-b114-138e906a226b"
      },
      "execution_count": 10,
      "outputs": [
        {
          "output_type": "execute_result",
          "data": {
            "text/plain": [
              "    Unnamed: 0                  ids  \\\n",
              "1           20  1337776763384958976   \n",
              "2           30  1337761915087560707   \n",
              "3           44  1337728701820268544   \n",
              "4           49  1339891037712637952   \n",
              "6           52  1338631874814619653   \n",
              "7           54  1338623197390852100   \n",
              "9           68  1338590172523470848   \n",
              "15          85  1338565957866778624   \n",
              "16          87  1338565238082265089   \n",
              "17          88  1338564311518769152   \n",
              "18          92  1338555267244584969   \n",
              "19          95  1338551175587786752   \n",
              "20          97  1338546341404930050   \n",
              "22         102  1338539742888079360   \n",
              "23         112  1338501064878854150   \n",
              "26         118  1338491398379753480   \n",
              "27         123  1338483026905411586   \n",
              "28         126  1338476299216695296   \n",
              "32         146  1338440713189593088   \n",
              "33         147  1338436351964962817   \n",
              "\n",
              "                                          name            location  \\\n",
              "1                                     Alex Vie     Los Angeles, CA   \n",
              "2   Ã°ÂÂ¦ÂDr. Kraken-Elect Lipstick Ã°ÂÂÂ          Not Today    \n",
              "3                                    City A.M.     London, England   \n",
              "4                                 Euranet Plus  The European Union   \n",
              "6                                Dr. Taha Khan         India | USA   \n",
              "7                                      theDove         Medford, OR   \n",
              "9                                 Joanbeam3000   La Belle Province   \n",
              "15                            Genevieve Reaume         Oregon, USA   \n",
              "16                            Genevieve Reaume         Oregon, USA   \n",
              "17                                Joanbeam3000   La Belle Province   \n",
              "18                                    Meghna W        New York, NY   \n",
              "19                                India Blooms               India   \n",
              "20                                   Human_9.0          Madchester   \n",
              "22                             Julie Dzerowicz  Davenport, Toronto   \n",
              "23                        Florida Man Ã°ÂÂÂ        Lakeland, FL   \n",
              "26                                 Can OZDEMIR       Alert,Nunavut   \n",
              "27                       Kristen Rogers MD MPH     New Orleans, LA   \n",
              "28   ÃÂ¹ÃÂ\n",
              "ÃÂ§ÃÂ¯ ÃÂ§ÃÂÃÂµÃÂ§ÃÂÃÂ­           Al Khobar   \n",
              "32                             Brian McDonough   Philadelphia, Pa.   \n",
              "33                             Digital Journal              Global   \n",
              "\n",
              "                                            user_desc         user_created  \\\n",
              "1   Marine vet. Yogi. Krav Maga. Runner. Climber. ...  2010-01-24 04:43:57   \n",
              "2   Married. National news investigative/independe...  2011-06-01 17:10:58   \n",
              "3   London's business newspaper - News, Opinion, a...  2009-06-09 13:53:06   \n",
              "4               The leading radio network for EU news  2013-03-29 13:30:06   \n",
              "6   MD/MPH Ã¢ÂÂ¢ PGY1 Peds/Child Neurology @theBC...  2013-12-30 08:51:23   \n",
              "7   theDove | Radio | TV | Online | Mobile Providi...  2009-11-24 18:02:18   \n",
              "9   Be yourself, everyone else is already taken. ~...  2014-10-06 04:28:08   \n",
              "15  Emmy-award winning @KATUnews reporter Ã¢ÂÂ¢ s...  2015-06-22 18:41:01   \n",
              "16  Emmy-award winning @KATUnews reporter Ã¢ÂÂ¢ s...  2015-06-22 18:41:01   \n",
              "17  Be yourself, everyone else is already taken. ~...  2014-10-06 04:28:08   \n",
              "18  Bougainvillea, pop art, sign boards and breakf...  2011-06-10 11:54:58   \n",
              "19  A news and reference portal on India and a 24X...  2009-10-10 11:19:34   \n",
              "20  Fighting For Freedom Ã°ÂÂÂ¬Ã°ÂÂÂ§ Ã°ÂÂÂº...  2020-10-07 20:38:10   \n",
              "22  Your Member of Parliament for Davenport. #Dave...  2013-10-06 21:34:47   \n",
              "23  Father, Husband, Gamer, Food connoisseur, Ã°Â...  2013-01-31 05:43:17   \n",
              "26  A world where no one hates,hurts or murders an...  2010-01-30 15:11:47   \n",
              "27  Internal Medicine Hospitalist @OchsnerHealth A...  2017-12-15 19:16:58   \n",
              "28  Ã¢ÂÂÃ¢ÂÂÃÂÃÂ ÃÂ¹ÃÂÃÂÃÂÃÂ ÃÂ±...  2012-01-28 10:34:55   \n",
              "32           Talent perceive difference; Genius unity  2011-08-06 16:18:19   \n",
              "33  A global digital media and news network. Onlin...  2008-06-16 16:10:04   \n",
              "\n",
              "    follow  friends   likes  verified                 date  \\\n",
              "1      125      442    5401     False  2020-12-12 15:10:09   \n",
              "2     5166     5228   19389     False  2020-12-12 14:11:09   \n",
              "3    66224      603     771      True  2020-12-12 11:59:10   \n",
              "4     6006     3551    3954     False  2020-12-18 11:11:32   \n",
              "6      855     3046    8236     False  2020-12-14 23:48:04   \n",
              "7      649      439     342     False  2020-12-14 23:13:35   \n",
              "9     2597     4988  338282     False  2020-12-14 21:02:21   \n",
              "15    4276     1704    5877      True  2020-12-14 19:26:08   \n",
              "16    4276     1704    5877      True  2020-12-14 19:23:16   \n",
              "17    2597     4988  338282     False  2020-12-14 19:19:35   \n",
              "18     234      212     462     False  2020-12-14 18:43:39   \n",
              "19   16816     2448      20     False  2020-12-14 18:27:23   \n",
              "20     590      987    7609     False  2020-12-14 18:08:11   \n",
              "22    8131      685    3066      True  2020-12-14 17:41:58   \n",
              "23      85      430    4683     False  2020-12-14 15:08:16   \n",
              "26    1742     1755      48     False  2020-12-14 14:29:51   \n",
              "27     258      226     804     False  2020-12-14 13:56:36   \n",
              "28     171      574    1091     False  2020-12-14 13:29:52   \n",
              "32     669       56    1874     False  2020-12-14 11:08:27   \n",
              "33   18756     8809   24697     False  2020-12-14 10:51:07   \n",
              "\n",
              "                                                 text  \\\n",
              "1   The trump administration failed to deliver on ...   \n",
              "2   Ã°ÂÂÂ Vaccine TrumpVaccine AstraZeneca Pfiz...   \n",
              "3   Trump announces vaccine rollout in less than 2...   \n",
              "4   As News gets set to approve PfizerBioNTech vac...   \n",
              "6   IÃ¢ÂÂve never been so excited to get a vacci...   \n",
              "7   The first COVID19 vaccine doses have arrived i...   \n",
              "9       Screenshot 2 of that QP exchange \\n\\nUnfor...   \n",
              "15  The state is supposed to get 35100 doses total...   \n",
              "16  BREAKING  just in from  on COVID19 vaccine\\nLe...   \n",
              "17    Ã°ÂÂÂÃ°ÂÂÂ¼Ã¢ÂÂÃ¢ÂÂÃ¯Â¸Â Ruhroh An...   \n",
              "18  One of the first vaccines receivers in the US ...   \n",
              "19  Toronto to receive Ontarios 1st doses of Pfize...   \n",
              "20  WHERE IS THE PANDEMIC  PCRGATE Condemic BillGa...   \n",
              "22  Last night the first COVID19Vaccines arrived i...   \n",
              "23  ItÃ¢ÂÂs kind of surreal that the vaccine is ...   \n",
              "26  1st doses of PfizerBioNTechs COVID19 vaccine a...   \n",
              "27  The end is in sight many of my coworkers and I...   \n",
              "28  WELL DONE USA Ã°ÂÂÂºÃ°ÂÂÂ²Ã°ÂÂÂ PfizerB...   \n",
              "32  Who should not get vaccine yet  via  vaccine M...   \n",
              "33  Canada to begin PfizerBioNTech Covid19Vaccine ...   \n",
              "\n",
              "                                              hashtag               source  \\\n",
              "1        ['COVIDIOTS', 'coronavirus', 'CovidVaccine']   Twitter for iPhone   \n",
              "2   ['Vaccine', 'TrumpVaccine', 'AstraZeneca', 'Pf...   Twitter for iPhone   \n",
              "3                                         ['vaccine']      Twitter Web App   \n",
              "4                 ['PfizerBioNTech', 'vaccine', 'EU']      Twitter Web App   \n",
              "6   ['CovidVaccine', 'PfizerBioNTech', 'VaccinesSa...   Twitter for iPhone   \n",
              "7                               ['MorningsontheDove']            TweetDeck   \n",
              "9                                              ['QP']      Twitter Web App   \n",
              "15                                 ['PfizerBioNTech']      Twitter Web App   \n",
              "16                 ['BREAKING', 'COVID19', 'vaccine']      Twitter Web App   \n",
              "17                                             ['QP']      Twitter Web App   \n",
              "18                        ['COVID19', 'CovidVaccine']      Twitter Web App   \n",
              "19                                        ['Ontario']      Twitter Web App   \n",
              "20  ['PCRGATE', 'Condemic', 'BillGatesIsNotADoctor...      Twitter Web App   \n",
              "22                                ['COVID19Vaccines']            TweetDeck   \n",
              "23                                 ['PfizerBioNTech']   Twitter for iPhone   \n",
              "26            ['PfizerBioNTech', 'COVID19', 'Canada']      Twitter Web App   \n",
              "27                 ['PfizerBioNTech', 'CovidVaccine']   Twitter for iPhone   \n",
              "28     ['PfizerBioNTech', 'Pfizervaccine', 'COVID19']  Twitter for Android   \n",
              "32  ['vaccine', 'MaskUp', 'Pfizer', 'Pfizervaccine...      Twitter Web App   \n",
              "33  ['Canada', 'PfizerBioNTech', 'Covid19Vaccine',...      Twitter Web App   \n",
              "\n",
              "    retweets  favourites  is_retweeted  Subjectivity  Polarity  sentiment  \n",
              "1          0           0         False      0.300000 -0.500000          0  \n",
              "2          0           0         False      0.000000  0.000000          1  \n",
              "3          0           2         False      0.200000  0.041667          2  \n",
              "4          2           0         False      0.000000  0.000000          1  \n",
              "6          1          10         False      0.750000  0.375000          2  \n",
              "7          1           0         False      0.333333  0.250000          2  \n",
              "9          1           5         False      1.000000 -0.500000          0  \n",
              "15         0           0         False      0.750000  0.000000          1  \n",
              "16         1           6         False      0.333333  0.250000          2  \n",
              "17         3          16         False      0.000000  0.000000          1  \n",
              "18         0           0         False      0.333333  0.250000          2  \n",
              "19         0           0         False      0.000000  0.000000          1  \n",
              "20         0           2         False      0.000000  0.000000          1  \n",
              "22         4          15         False      0.244444  0.166667          2  \n",
              "23         0           1         False      0.950000  0.425000          2  \n",
              "26         0           0         False      0.000000  0.000000          1  \n",
              "27         6          24         False      0.416667  0.375000          2  \n",
              "28         0           0         False      0.000000  0.000000          1  \n",
              "32         0           0         False      0.000000  0.000000          1  \n",
              "33         0           1         False      0.000000  0.000000          1  "
            ],
            "text/html": [
              "\n",
              "  <div id=\"df-39ca4265-d2e6-4790-907b-813bb638d614\">\n",
              "    <div class=\"colab-df-container\">\n",
              "      <div>\n",
              "<style scoped>\n",
              "    .dataframe tbody tr th:only-of-type {\n",
              "        vertical-align: middle;\n",
              "    }\n",
              "\n",
              "    .dataframe tbody tr th {\n",
              "        vertical-align: top;\n",
              "    }\n",
              "\n",
              "    .dataframe thead th {\n",
              "        text-align: right;\n",
              "    }\n",
              "</style>\n",
              "<table border=\"1\" class=\"dataframe\">\n",
              "  <thead>\n",
              "    <tr style=\"text-align: right;\">\n",
              "      <th></th>\n",
              "      <th>Unnamed: 0</th>\n",
              "      <th>ids</th>\n",
              "      <th>name</th>\n",
              "      <th>location</th>\n",
              "      <th>user_desc</th>\n",
              "      <th>user_created</th>\n",
              "      <th>follow</th>\n",
              "      <th>friends</th>\n",
              "      <th>likes</th>\n",
              "      <th>verified</th>\n",
              "      <th>date</th>\n",
              "      <th>text</th>\n",
              "      <th>hashtag</th>\n",
              "      <th>source</th>\n",
              "      <th>retweets</th>\n",
              "      <th>favourites</th>\n",
              "      <th>is_retweeted</th>\n",
              "      <th>Subjectivity</th>\n",
              "      <th>Polarity</th>\n",
              "      <th>sentiment</th>\n",
              "    </tr>\n",
              "  </thead>\n",
              "  <tbody>\n",
              "    <tr>\n",
              "      <th>1</th>\n",
              "      <td>20</td>\n",
              "      <td>1337776763384958976</td>\n",
              "      <td>Alex Vie</td>\n",
              "      <td>Los Angeles, CA</td>\n",
              "      <td>Marine vet. Yogi. Krav Maga. Runner. Climber. ...</td>\n",
              "      <td>2010-01-24 04:43:57</td>\n",
              "      <td>125</td>\n",
              "      <td>442</td>\n",
              "      <td>5401</td>\n",
              "      <td>False</td>\n",
              "      <td>2020-12-12 15:10:09</td>\n",
              "      <td>The trump administration failed to deliver on ...</td>\n",
              "      <td>['COVIDIOTS', 'coronavirus', 'CovidVaccine']</td>\n",
              "      <td>Twitter for iPhone</td>\n",
              "      <td>0</td>\n",
              "      <td>0</td>\n",
              "      <td>False</td>\n",
              "      <td>0.300000</td>\n",
              "      <td>-0.500000</td>\n",
              "      <td>0</td>\n",
              "    </tr>\n",
              "    <tr>\n",
              "      <th>2</th>\n",
              "      <td>30</td>\n",
              "      <td>1337761915087560707</td>\n",
              "      <td>Ã°ÂÂ¦ÂDr. Kraken-Elect Lipstick Ã°ÂÂÂ</td>\n",
              "      <td>Not Today</td>\n",
              "      <td>Married. National news investigative/independe...</td>\n",
              "      <td>2011-06-01 17:10:58</td>\n",
              "      <td>5166</td>\n",
              "      <td>5228</td>\n",
              "      <td>19389</td>\n",
              "      <td>False</td>\n",
              "      <td>2020-12-12 14:11:09</td>\n",
              "      <td>Ã°ÂÂÂ Vaccine TrumpVaccine AstraZeneca Pfiz...</td>\n",
              "      <td>['Vaccine', 'TrumpVaccine', 'AstraZeneca', 'Pf...</td>\n",
              "      <td>Twitter for iPhone</td>\n",
              "      <td>0</td>\n",
              "      <td>0</td>\n",
              "      <td>False</td>\n",
              "      <td>0.000000</td>\n",
              "      <td>0.000000</td>\n",
              "      <td>1</td>\n",
              "    </tr>\n",
              "    <tr>\n",
              "      <th>3</th>\n",
              "      <td>44</td>\n",
              "      <td>1337728701820268544</td>\n",
              "      <td>City A.M.</td>\n",
              "      <td>London, England</td>\n",
              "      <td>London's business newspaper - News, Opinion, a...</td>\n",
              "      <td>2009-06-09 13:53:06</td>\n",
              "      <td>66224</td>\n",
              "      <td>603</td>\n",
              "      <td>771</td>\n",
              "      <td>True</td>\n",
              "      <td>2020-12-12 11:59:10</td>\n",
              "      <td>Trump announces vaccine rollout in less than 2...</td>\n",
              "      <td>['vaccine']</td>\n",
              "      <td>Twitter Web App</td>\n",
              "      <td>0</td>\n",
              "      <td>2</td>\n",
              "      <td>False</td>\n",
              "      <td>0.200000</td>\n",
              "      <td>0.041667</td>\n",
              "      <td>2</td>\n",
              "    </tr>\n",
              "    <tr>\n",
              "      <th>4</th>\n",
              "      <td>49</td>\n",
              "      <td>1339891037712637952</td>\n",
              "      <td>Euranet Plus</td>\n",
              "      <td>The European Union</td>\n",
              "      <td>The leading radio network for EU news</td>\n",
              "      <td>2013-03-29 13:30:06</td>\n",
              "      <td>6006</td>\n",
              "      <td>3551</td>\n",
              "      <td>3954</td>\n",
              "      <td>False</td>\n",
              "      <td>2020-12-18 11:11:32</td>\n",
              "      <td>As News gets set to approve PfizerBioNTech vac...</td>\n",
              "      <td>['PfizerBioNTech', 'vaccine', 'EU']</td>\n",
              "      <td>Twitter Web App</td>\n",
              "      <td>2</td>\n",
              "      <td>0</td>\n",
              "      <td>False</td>\n",
              "      <td>0.000000</td>\n",
              "      <td>0.000000</td>\n",
              "      <td>1</td>\n",
              "    </tr>\n",
              "    <tr>\n",
              "      <th>6</th>\n",
              "      <td>52</td>\n",
              "      <td>1338631874814619653</td>\n",
              "      <td>Dr. Taha Khan</td>\n",
              "      <td>India | USA</td>\n",
              "      <td>MD/MPH Ã¢ÂÂ¢ PGY1 Peds/Child Neurology @theBC...</td>\n",
              "      <td>2013-12-30 08:51:23</td>\n",
              "      <td>855</td>\n",
              "      <td>3046</td>\n",
              "      <td>8236</td>\n",
              "      <td>False</td>\n",
              "      <td>2020-12-14 23:48:04</td>\n",
              "      <td>IÃ¢ÂÂve never been so excited to get a vacci...</td>\n",
              "      <td>['CovidVaccine', 'PfizerBioNTech', 'VaccinesSa...</td>\n",
              "      <td>Twitter for iPhone</td>\n",
              "      <td>1</td>\n",
              "      <td>10</td>\n",
              "      <td>False</td>\n",
              "      <td>0.750000</td>\n",
              "      <td>0.375000</td>\n",
              "      <td>2</td>\n",
              "    </tr>\n",
              "    <tr>\n",
              "      <th>7</th>\n",
              "      <td>54</td>\n",
              "      <td>1338623197390852100</td>\n",
              "      <td>theDove</td>\n",
              "      <td>Medford, OR</td>\n",
              "      <td>theDove | Radio | TV | Online | Mobile Providi...</td>\n",
              "      <td>2009-11-24 18:02:18</td>\n",
              "      <td>649</td>\n",
              "      <td>439</td>\n",
              "      <td>342</td>\n",
              "      <td>False</td>\n",
              "      <td>2020-12-14 23:13:35</td>\n",
              "      <td>The first COVID19 vaccine doses have arrived i...</td>\n",
              "      <td>['MorningsontheDove']</td>\n",
              "      <td>TweetDeck</td>\n",
              "      <td>1</td>\n",
              "      <td>0</td>\n",
              "      <td>False</td>\n",
              "      <td>0.333333</td>\n",
              "      <td>0.250000</td>\n",
              "      <td>2</td>\n",
              "    </tr>\n",
              "    <tr>\n",
              "      <th>9</th>\n",
              "      <td>68</td>\n",
              "      <td>1338590172523470848</td>\n",
              "      <td>Joanbeam3000</td>\n",
              "      <td>La Belle Province</td>\n",
              "      <td>Be yourself, everyone else is already taken. ~...</td>\n",
              "      <td>2014-10-06 04:28:08</td>\n",
              "      <td>2597</td>\n",
              "      <td>4988</td>\n",
              "      <td>338282</td>\n",
              "      <td>False</td>\n",
              "      <td>2020-12-14 21:02:21</td>\n",
              "      <td>Screenshot 2 of that QP exchange \\n\\nUnfor...</td>\n",
              "      <td>['QP']</td>\n",
              "      <td>Twitter Web App</td>\n",
              "      <td>1</td>\n",
              "      <td>5</td>\n",
              "      <td>False</td>\n",
              "      <td>1.000000</td>\n",
              "      <td>-0.500000</td>\n",
              "      <td>0</td>\n",
              "    </tr>\n",
              "    <tr>\n",
              "      <th>15</th>\n",
              "      <td>85</td>\n",
              "      <td>1338565957866778624</td>\n",
              "      <td>Genevieve Reaume</td>\n",
              "      <td>Oregon, USA</td>\n",
              "      <td>Emmy-award winning @KATUnews reporter Ã¢ÂÂ¢ s...</td>\n",
              "      <td>2015-06-22 18:41:01</td>\n",
              "      <td>4276</td>\n",
              "      <td>1704</td>\n",
              "      <td>5877</td>\n",
              "      <td>True</td>\n",
              "      <td>2020-12-14 19:26:08</td>\n",
              "      <td>The state is supposed to get 35100 doses total...</td>\n",
              "      <td>['PfizerBioNTech']</td>\n",
              "      <td>Twitter Web App</td>\n",
              "      <td>0</td>\n",
              "      <td>0</td>\n",
              "      <td>False</td>\n",
              "      <td>0.750000</td>\n",
              "      <td>0.000000</td>\n",
              "      <td>1</td>\n",
              "    </tr>\n",
              "    <tr>\n",
              "      <th>16</th>\n",
              "      <td>87</td>\n",
              "      <td>1338565238082265089</td>\n",
              "      <td>Genevieve Reaume</td>\n",
              "      <td>Oregon, USA</td>\n",
              "      <td>Emmy-award winning @KATUnews reporter Ã¢ÂÂ¢ s...</td>\n",
              "      <td>2015-06-22 18:41:01</td>\n",
              "      <td>4276</td>\n",
              "      <td>1704</td>\n",
              "      <td>5877</td>\n",
              "      <td>True</td>\n",
              "      <td>2020-12-14 19:23:16</td>\n",
              "      <td>BREAKING  just in from  on COVID19 vaccine\\nLe...</td>\n",
              "      <td>['BREAKING', 'COVID19', 'vaccine']</td>\n",
              "      <td>Twitter Web App</td>\n",
              "      <td>1</td>\n",
              "      <td>6</td>\n",
              "      <td>False</td>\n",
              "      <td>0.333333</td>\n",
              "      <td>0.250000</td>\n",
              "      <td>2</td>\n",
              "    </tr>\n",
              "    <tr>\n",
              "      <th>17</th>\n",
              "      <td>88</td>\n",
              "      <td>1338564311518769152</td>\n",
              "      <td>Joanbeam3000</td>\n",
              "      <td>La Belle Province</td>\n",
              "      <td>Be yourself, everyone else is already taken. ~...</td>\n",
              "      <td>2014-10-06 04:28:08</td>\n",
              "      <td>2597</td>\n",
              "      <td>4988</td>\n",
              "      <td>338282</td>\n",
              "      <td>False</td>\n",
              "      <td>2020-12-14 19:19:35</td>\n",
              "      <td>Ã°ÂÂÂÃ°ÂÂÂ¼Ã¢ÂÂÃ¢ÂÂÃ¯Â¸Â Ruhroh An...</td>\n",
              "      <td>['QP']</td>\n",
              "      <td>Twitter Web App</td>\n",
              "      <td>3</td>\n",
              "      <td>16</td>\n",
              "      <td>False</td>\n",
              "      <td>0.000000</td>\n",
              "      <td>0.000000</td>\n",
              "      <td>1</td>\n",
              "    </tr>\n",
              "    <tr>\n",
              "      <th>18</th>\n",
              "      <td>92</td>\n",
              "      <td>1338555267244584969</td>\n",
              "      <td>Meghna W</td>\n",
              "      <td>New York, NY</td>\n",
              "      <td>Bougainvillea, pop art, sign boards and breakf...</td>\n",
              "      <td>2011-06-10 11:54:58</td>\n",
              "      <td>234</td>\n",
              "      <td>212</td>\n",
              "      <td>462</td>\n",
              "      <td>False</td>\n",
              "      <td>2020-12-14 18:43:39</td>\n",
              "      <td>One of the first vaccines receivers in the US ...</td>\n",
              "      <td>['COVID19', 'CovidVaccine']</td>\n",
              "      <td>Twitter Web App</td>\n",
              "      <td>0</td>\n",
              "      <td>0</td>\n",
              "      <td>False</td>\n",
              "      <td>0.333333</td>\n",
              "      <td>0.250000</td>\n",
              "      <td>2</td>\n",
              "    </tr>\n",
              "    <tr>\n",
              "      <th>19</th>\n",
              "      <td>95</td>\n",
              "      <td>1338551175587786752</td>\n",
              "      <td>India Blooms</td>\n",
              "      <td>India</td>\n",
              "      <td>A news and reference portal on India and a 24X...</td>\n",
              "      <td>2009-10-10 11:19:34</td>\n",
              "      <td>16816</td>\n",
              "      <td>2448</td>\n",
              "      <td>20</td>\n",
              "      <td>False</td>\n",
              "      <td>2020-12-14 18:27:23</td>\n",
              "      <td>Toronto to receive Ontarios 1st doses of Pfize...</td>\n",
              "      <td>['Ontario']</td>\n",
              "      <td>Twitter Web App</td>\n",
              "      <td>0</td>\n",
              "      <td>0</td>\n",
              "      <td>False</td>\n",
              "      <td>0.000000</td>\n",
              "      <td>0.000000</td>\n",
              "      <td>1</td>\n",
              "    </tr>\n",
              "    <tr>\n",
              "      <th>20</th>\n",
              "      <td>97</td>\n",
              "      <td>1338546341404930050</td>\n",
              "      <td>Human_9.0</td>\n",
              "      <td>Madchester</td>\n",
              "      <td>Fighting For Freedom Ã°ÂÂÂ¬Ã°ÂÂÂ§ Ã°ÂÂÂº...</td>\n",
              "      <td>2020-10-07 20:38:10</td>\n",
              "      <td>590</td>\n",
              "      <td>987</td>\n",
              "      <td>7609</td>\n",
              "      <td>False</td>\n",
              "      <td>2020-12-14 18:08:11</td>\n",
              "      <td>WHERE IS THE PANDEMIC  PCRGATE Condemic BillGa...</td>\n",
              "      <td>['PCRGATE', 'Condemic', 'BillGatesIsNotADoctor...</td>\n",
              "      <td>Twitter Web App</td>\n",
              "      <td>0</td>\n",
              "      <td>2</td>\n",
              "      <td>False</td>\n",
              "      <td>0.000000</td>\n",
              "      <td>0.000000</td>\n",
              "      <td>1</td>\n",
              "    </tr>\n",
              "    <tr>\n",
              "      <th>22</th>\n",
              "      <td>102</td>\n",
              "      <td>1338539742888079360</td>\n",
              "      <td>Julie Dzerowicz</td>\n",
              "      <td>Davenport, Toronto</td>\n",
              "      <td>Your Member of Parliament for Davenport. #Dave...</td>\n",
              "      <td>2013-10-06 21:34:47</td>\n",
              "      <td>8131</td>\n",
              "      <td>685</td>\n",
              "      <td>3066</td>\n",
              "      <td>True</td>\n",
              "      <td>2020-12-14 17:41:58</td>\n",
              "      <td>Last night the first COVID19Vaccines arrived i...</td>\n",
              "      <td>['COVID19Vaccines']</td>\n",
              "      <td>TweetDeck</td>\n",
              "      <td>4</td>\n",
              "      <td>15</td>\n",
              "      <td>False</td>\n",
              "      <td>0.244444</td>\n",
              "      <td>0.166667</td>\n",
              "      <td>2</td>\n",
              "    </tr>\n",
              "    <tr>\n",
              "      <th>23</th>\n",
              "      <td>112</td>\n",
              "      <td>1338501064878854150</td>\n",
              "      <td>Florida Man Ã°ÂÂÂ</td>\n",
              "      <td>Lakeland, FL</td>\n",
              "      <td>Father, Husband, Gamer, Food connoisseur, Ã°Â...</td>\n",
              "      <td>2013-01-31 05:43:17</td>\n",
              "      <td>85</td>\n",
              "      <td>430</td>\n",
              "      <td>4683</td>\n",
              "      <td>False</td>\n",
              "      <td>2020-12-14 15:08:16</td>\n",
              "      <td>ItÃ¢ÂÂs kind of surreal that the vaccine is ...</td>\n",
              "      <td>['PfizerBioNTech']</td>\n",
              "      <td>Twitter for iPhone</td>\n",
              "      <td>0</td>\n",
              "      <td>1</td>\n",
              "      <td>False</td>\n",
              "      <td>0.950000</td>\n",
              "      <td>0.425000</td>\n",
              "      <td>2</td>\n",
              "    </tr>\n",
              "    <tr>\n",
              "      <th>26</th>\n",
              "      <td>118</td>\n",
              "      <td>1338491398379753480</td>\n",
              "      <td>Can OZDEMIR</td>\n",
              "      <td>Alert,Nunavut</td>\n",
              "      <td>A world where no one hates,hurts or murders an...</td>\n",
              "      <td>2010-01-30 15:11:47</td>\n",
              "      <td>1742</td>\n",
              "      <td>1755</td>\n",
              "      <td>48</td>\n",
              "      <td>False</td>\n",
              "      <td>2020-12-14 14:29:51</td>\n",
              "      <td>1st doses of PfizerBioNTechs COVID19 vaccine a...</td>\n",
              "      <td>['PfizerBioNTech', 'COVID19', 'Canada']</td>\n",
              "      <td>Twitter Web App</td>\n",
              "      <td>0</td>\n",
              "      <td>0</td>\n",
              "      <td>False</td>\n",
              "      <td>0.000000</td>\n",
              "      <td>0.000000</td>\n",
              "      <td>1</td>\n",
              "    </tr>\n",
              "    <tr>\n",
              "      <th>27</th>\n",
              "      <td>123</td>\n",
              "      <td>1338483026905411586</td>\n",
              "      <td>Kristen Rogers MD MPH</td>\n",
              "      <td>New Orleans, LA</td>\n",
              "      <td>Internal Medicine Hospitalist @OchsnerHealth A...</td>\n",
              "      <td>2017-12-15 19:16:58</td>\n",
              "      <td>258</td>\n",
              "      <td>226</td>\n",
              "      <td>804</td>\n",
              "      <td>False</td>\n",
              "      <td>2020-12-14 13:56:36</td>\n",
              "      <td>The end is in sight many of my coworkers and I...</td>\n",
              "      <td>['PfizerBioNTech', 'CovidVaccine']</td>\n",
              "      <td>Twitter for iPhone</td>\n",
              "      <td>6</td>\n",
              "      <td>24</td>\n",
              "      <td>False</td>\n",
              "      <td>0.416667</td>\n",
              "      <td>0.375000</td>\n",
              "      <td>2</td>\n",
              "    </tr>\n",
              "    <tr>\n",
              "      <th>28</th>\n",
              "      <td>126</td>\n",
              "      <td>1338476299216695296</td>\n",
              "      <td>ÃÂ¹ÃÂÃÂ§ÃÂ¯ ÃÂ§ÃÂÃÂµÃÂ§ÃÂÃÂ­</td>\n",
              "      <td>Al Khobar</td>\n",
              "      <td>Ã¢ÂÂÃ¢ÂÂÃÂÃÂ ÃÂ¹ÃÂÃÂÃÂÃÂ ÃÂ±...</td>\n",
              "      <td>2012-01-28 10:34:55</td>\n",
              "      <td>171</td>\n",
              "      <td>574</td>\n",
              "      <td>1091</td>\n",
              "      <td>False</td>\n",
              "      <td>2020-12-14 13:29:52</td>\n",
              "      <td>WELL DONE USA Ã°ÂÂÂºÃ°ÂÂÂ²Ã°ÂÂÂ PfizerB...</td>\n",
              "      <td>['PfizerBioNTech', 'Pfizervaccine', 'COVID19']</td>\n",
              "      <td>Twitter for Android</td>\n",
              "      <td>0</td>\n",
              "      <td>0</td>\n",
              "      <td>False</td>\n",
              "      <td>0.000000</td>\n",
              "      <td>0.000000</td>\n",
              "      <td>1</td>\n",
              "    </tr>\n",
              "    <tr>\n",
              "      <th>32</th>\n",
              "      <td>146</td>\n",
              "      <td>1338440713189593088</td>\n",
              "      <td>Brian McDonough</td>\n",
              "      <td>Philadelphia, Pa.</td>\n",
              "      <td>Talent perceive difference; Genius unity</td>\n",
              "      <td>2011-08-06 16:18:19</td>\n",
              "      <td>669</td>\n",
              "      <td>56</td>\n",
              "      <td>1874</td>\n",
              "      <td>False</td>\n",
              "      <td>2020-12-14 11:08:27</td>\n",
              "      <td>Who should not get vaccine yet  via  vaccine M...</td>\n",
              "      <td>['vaccine', 'MaskUp', 'Pfizer', 'Pfizervaccine...</td>\n",
              "      <td>Twitter Web App</td>\n",
              "      <td>0</td>\n",
              "      <td>0</td>\n",
              "      <td>False</td>\n",
              "      <td>0.000000</td>\n",
              "      <td>0.000000</td>\n",
              "      <td>1</td>\n",
              "    </tr>\n",
              "    <tr>\n",
              "      <th>33</th>\n",
              "      <td>147</td>\n",
              "      <td>1338436351964962817</td>\n",
              "      <td>Digital Journal</td>\n",
              "      <td>Global</td>\n",
              "      <td>A global digital media and news network. Onlin...</td>\n",
              "      <td>2008-06-16 16:10:04</td>\n",
              "      <td>18756</td>\n",
              "      <td>8809</td>\n",
              "      <td>24697</td>\n",
              "      <td>False</td>\n",
              "      <td>2020-12-14 10:51:07</td>\n",
              "      <td>Canada to begin PfizerBioNTech Covid19Vaccine ...</td>\n",
              "      <td>['Canada', 'PfizerBioNTech', 'Covid19Vaccine',...</td>\n",
              "      <td>Twitter Web App</td>\n",
              "      <td>0</td>\n",
              "      <td>1</td>\n",
              "      <td>False</td>\n",
              "      <td>0.000000</td>\n",
              "      <td>0.000000</td>\n",
              "      <td>1</td>\n",
              "    </tr>\n",
              "  </tbody>\n",
              "</table>\n",
              "</div>\n",
              "      <button class=\"colab-df-convert\" onclick=\"convertToInteractive('df-39ca4265-d2e6-4790-907b-813bb638d614')\"\n",
              "              title=\"Convert this dataframe to an interactive table.\"\n",
              "              style=\"display:none;\">\n",
              "        \n",
              "  <svg xmlns=\"http://www.w3.org/2000/svg\" height=\"24px\"viewBox=\"0 0 24 24\"\n",
              "       width=\"24px\">\n",
              "    <path d=\"M0 0h24v24H0V0z\" fill=\"none\"/>\n",
              "    <path d=\"M18.56 5.44l.94 2.06.94-2.06 2.06-.94-2.06-.94-.94-2.06-.94 2.06-2.06.94zm-11 1L8.5 8.5l.94-2.06 2.06-.94-2.06-.94L8.5 2.5l-.94 2.06-2.06.94zm10 10l.94 2.06.94-2.06 2.06-.94-2.06-.94-.94-2.06-.94 2.06-2.06.94z\"/><path d=\"M17.41 7.96l-1.37-1.37c-.4-.4-.92-.59-1.43-.59-.52 0-1.04.2-1.43.59L10.3 9.45l-7.72 7.72c-.78.78-.78 2.05 0 2.83L4 21.41c.39.39.9.59 1.41.59.51 0 1.02-.2 1.41-.59l7.78-7.78 2.81-2.81c.8-.78.8-2.07 0-2.86zM5.41 20L4 18.59l7.72-7.72 1.47 1.35L5.41 20z\"/>\n",
              "  </svg>\n",
              "      </button>\n",
              "      \n",
              "  <style>\n",
              "    .colab-df-container {\n",
              "      display:flex;\n",
              "      flex-wrap:wrap;\n",
              "      gap: 12px;\n",
              "    }\n",
              "\n",
              "    .colab-df-convert {\n",
              "      background-color: #E8F0FE;\n",
              "      border: none;\n",
              "      border-radius: 50%;\n",
              "      cursor: pointer;\n",
              "      display: none;\n",
              "      fill: #1967D2;\n",
              "      height: 32px;\n",
              "      padding: 0 0 0 0;\n",
              "      width: 32px;\n",
              "    }\n",
              "\n",
              "    .colab-df-convert:hover {\n",
              "      background-color: #E2EBFA;\n",
              "      box-shadow: 0px 1px 2px rgba(60, 64, 67, 0.3), 0px 1px 3px 1px rgba(60, 64, 67, 0.15);\n",
              "      fill: #174EA6;\n",
              "    }\n",
              "\n",
              "    [theme=dark] .colab-df-convert {\n",
              "      background-color: #3B4455;\n",
              "      fill: #D2E3FC;\n",
              "    }\n",
              "\n",
              "    [theme=dark] .colab-df-convert:hover {\n",
              "      background-color: #434B5C;\n",
              "      box-shadow: 0px 1px 3px 1px rgba(0, 0, 0, 0.15);\n",
              "      filter: drop-shadow(0px 1px 2px rgba(0, 0, 0, 0.3));\n",
              "      fill: #FFFFFF;\n",
              "    }\n",
              "  </style>\n",
              "\n",
              "      <script>\n",
              "        const buttonEl =\n",
              "          document.querySelector('#df-39ca4265-d2e6-4790-907b-813bb638d614 button.colab-df-convert');\n",
              "        buttonEl.style.display =\n",
              "          google.colab.kernel.accessAllowed ? 'block' : 'none';\n",
              "\n",
              "        async function convertToInteractive(key) {\n",
              "          const element = document.querySelector('#df-39ca4265-d2e6-4790-907b-813bb638d614');\n",
              "          const dataTable =\n",
              "            await google.colab.kernel.invokeFunction('convertToInteractive',\n",
              "                                                     [key], {});\n",
              "          if (!dataTable) return;\n",
              "\n",
              "          const docLinkHtml = 'Like what you see? Visit the ' +\n",
              "            '<a target=\"_blank\" href=https://colab.research.google.com/notebooks/data_table.ipynb>data table notebook</a>'\n",
              "            + ' to learn more about interactive tables.';\n",
              "          element.innerHTML = '';\n",
              "          dataTable['output_type'] = 'display_data';\n",
              "          await google.colab.output.renderOutput(dataTable, element);\n",
              "          const docLink = document.createElement('div');\n",
              "          docLink.innerHTML = docLinkHtml;\n",
              "          element.appendChild(docLink);\n",
              "        }\n",
              "      </script>\n",
              "    </div>\n",
              "  </div>\n",
              "  "
            ]
          },
          "metadata": {},
          "execution_count": 10
        }
      ]
    },
    {
      "cell_type": "code",
      "source": [
        "df.shape"
      ],
      "metadata": {
        "id": "XrO6XqFFI5rb",
        "colab": {
          "base_uri": "https://localhost:8080/"
        },
        "outputId": "20275001-aec8-41e1-c028-50a46e760ee7"
      },
      "execution_count": 11,
      "outputs": [
        {
          "output_type": "execute_result",
          "data": {
            "text/plain": [
              "(31447, 20)"
            ]
          },
          "metadata": {},
          "execution_count": 11
        }
      ]
    },
    {
      "cell_type": "code",
      "source": [
        "df.info()"
      ],
      "metadata": {
        "id": "JDi3nMs0I1Ml",
        "colab": {
          "base_uri": "https://localhost:8080/"
        },
        "outputId": "c5741eb3-0e56-4153-8e6a-f9016feb25b5"
      },
      "execution_count": 12,
      "outputs": [
        {
          "output_type": "stream",
          "name": "stdout",
          "text": [
            "<class 'pandas.core.frame.DataFrame'>\n",
            "Int64Index: 31447 entries, 1 to 61614\n",
            "Data columns (total 20 columns):\n",
            " #   Column        Non-Null Count  Dtype  \n",
            "---  ------        --------------  -----  \n",
            " 0   Unnamed: 0    31447 non-null  int64  \n",
            " 1   ids           31447 non-null  int64  \n",
            " 2   name          31447 non-null  object \n",
            " 3   location      31447 non-null  object \n",
            " 4   user_desc     31447 non-null  object \n",
            " 5   user_created  31447 non-null  object \n",
            " 6   follow        31447 non-null  int64  \n",
            " 7   friends       31447 non-null  int64  \n",
            " 8   likes         31447 non-null  int64  \n",
            " 9   verified      31447 non-null  bool   \n",
            " 10  date          31447 non-null  object \n",
            " 11  text          31447 non-null  object \n",
            " 12  hashtag       31447 non-null  object \n",
            " 13  source        31447 non-null  object \n",
            " 14  retweets      31447 non-null  int64  \n",
            " 15  favourites    31447 non-null  int64  \n",
            " 16  is_retweeted  31447 non-null  bool   \n",
            " 17  Subjectivity  31447 non-null  float64\n",
            " 18  Polarity      31447 non-null  float64\n",
            " 19  sentiment     31447 non-null  int64  \n",
            "dtypes: bool(2), float64(2), int64(8), object(8)\n",
            "memory usage: 4.6+ MB\n"
          ]
        }
      ]
    },
    {
      "cell_type": "markdown",
      "source": [
        "Next important thing to check if there is a imbalance between the different classes. As seen there seems to be significantly more neutral and positive values for our dataset"
      ],
      "metadata": {
        "id": "yxhhlPUevghW"
      }
    },
    {
      "cell_type": "code",
      "source": [
        "sns.countplot(df.sentiment)\n",
        "plt.xlabel('sentiment score');"
      ],
      "metadata": {
        "colab": {
          "base_uri": "https://localhost:8080/",
          "height": 563
        },
        "id": "-TOWqqnQYERn",
        "outputId": "d02bb85f-4847-4ea5-afb5-b0540dfb3976"
      },
      "execution_count": 13,
      "outputs": [
        {
          "output_type": "stream",
          "name": "stderr",
          "text": [
            "/usr/local/lib/python3.7/dist-packages/seaborn/_decorators.py:43: FutureWarning: Pass the following variable as a keyword arg: x. From version 0.12, the only valid positional argument will be `data`, and passing other arguments without an explicit keyword will result in an error or misinterpretation.\n",
            "  FutureWarning\n"
          ]
        },
        {
          "output_type": "display_data",
          "data": {
            "text/plain": [
              "<Figure size 864x576 with 1 Axes>"
            ],
            "image/png": "[encoded data removed]"
          },
          "metadata": {
            "image/png": {
              "width": 753,
              "height": 489
            }
          }
        }
      ]
    },
    {
      "cell_type": "markdown",
      "source": [
        "To balance the classes I will be undersampling the data, and reduce the neutral and postive so they have the same amount as the negative tweets."
      ],
      "metadata": {
        "id": "3jfLPw94v2rS"
      }
    },
    {
      "cell_type": "code",
      "source": [
        "#Number of negative tweets\n",
        "ntweets = df[df.sentiment == 0]\n",
        "print(ntweets.shape[0]) #we will make it so we undersample"
      ],
      "metadata": {
        "colab": {
          "base_uri": "https://localhost:8080/"
        },
        "id": "uXVgEzLaYcOe",
        "outputId": "808872a3-29fa-41e5-d7e7-1a1a66542e2e"
      },
      "execution_count": 14,
      "outputs": [
        {
          "output_type": "stream",
          "name": "stdout",
          "text": [
            "3232\n"
          ]
        }
      ]
    },
    {
      "cell_type": "code",
      "source": [
        "#Number of neutral tweets\n",
        "netweet = df[df.sentiment == 1]\n",
        "print(netweet.shape[0])"
      ],
      "metadata": {
        "colab": {
          "base_uri": "https://localhost:8080/"
        },
        "id": "NwcWJdLcYmwT",
        "outputId": "3962ec8c-e931-4402-b5f0-83fa9f42ecca"
      },
      "execution_count": 15,
      "outputs": [
        {
          "output_type": "stream",
          "name": "stdout",
          "text": [
            "15470\n"
          ]
        }
      ]
    },
    {
      "cell_type": "code",
      "source": [
        "#Number of positive tweets\n",
        "ptweet = df[df.sentiment == 2]\n",
        "print(ptweet.shape[0]) "
      ],
      "metadata": {
        "colab": {
          "base_uri": "https://localhost:8080/"
        },
        "id": "kMK_dqcxYtXX",
        "outputId": "4823c34e-462e-454b-dbbc-69ef7119e61c"
      },
      "execution_count": 16,
      "outputs": [
        {
          "output_type": "stream",
          "name": "stdout",
          "text": [
            "12745\n"
          ]
        }
      ]
    },
    {
      "cell_type": "code",
      "source": [
        "#Randomly remove tweets from the other classes so they have the same number of tweets as the negative one\n",
        "remove_pos = ptweet.shape[0] - ntweets.shape[0]\n",
        "remove_neut = netweet.shape[0] - ntweets.shape[0]\n",
        "\n",
        "neg_df = df[df[\"sentiment\"] == 0] \n",
        "\n",
        "pos_df = df[df[\"sentiment\"] == 2]\n",
        "neut_df = df[df[\"sentiment\"] == 1]\n",
        "\n",
        "pos_drop_indices = np.random.choice(pos_df.index, remove_pos, replace=False)\n",
        "neut_drop_indices = np.random.choice(neut_df.index, remove_neut, replace=False)\n",
        "\n",
        "pos_undersampled = pos_df.drop(pos_drop_indices)\n",
        "neut_undersampled = neut_df.drop(neut_drop_indices)"
      ],
      "metadata": {
        "id": "bD5oOlCcYwT1"
      },
      "execution_count": 17,
      "outputs": []
    },
    {
      "cell_type": "code",
      "source": [
        "df= pd.concat([neg_df, pos_undersampled, neut_undersampled])"
      ],
      "metadata": {
        "id": "KqojIsqSYycK"
      },
      "execution_count": 18,
      "outputs": []
    },
    {
      "cell_type": "code",
      "source": [
        "class_names = ['negative', 'neutral', 'positive']"
      ],
      "metadata": {
        "id": "MsqpgrakY3Xm"
      },
      "execution_count": 19,
      "outputs": []
    },
    {
      "cell_type": "markdown",
      "source": [
        "Now all of the sets are the same size, and the final size of our set is around a thousand."
      ],
      "metadata": {
        "id": "Mww3Te0Ox1sW"
      }
    },
    {
      "cell_type": "code",
      "source": [
        "ax = sns.countplot(df.sentiment)\n",
        "plt.xlabel('tweet sentiment')\n",
        "ax.set_xticklabels(class_names);\n",
        "df.head(10)\n",
        "print(df.shape[0])"
      ],
      "metadata": {
        "colab": {
          "base_uri": "https://localhost:8080/",
          "height": 581
        },
        "id": "lryQ456YY5Ca",
        "outputId": "c873c01e-7647-4eff-c0d1-72f652c577f1"
      },
      "execution_count": 20,
      "outputs": [
        {
          "output_type": "stream",
          "name": "stdout",
          "text": [
            "9696\n"
          ]
        },
        {
          "output_type": "stream",
          "name": "stderr",
          "text": [
            "/usr/local/lib/python3.7/dist-packages/seaborn/_decorators.py:43: FutureWarning: Pass the following variable as a keyword arg: x. From version 0.12, the only valid positional argument will be `data`, and passing other arguments without an explicit keyword will result in an error or misinterpretation.\n",
            "  FutureWarning\n"
          ]
        },
        {
          "output_type": "display_data",
          "data": {
            "text/plain": [
              "<Figure size 864x576 with 1 Axes>"
            ],
            "image/png": "[encoded data removed]"
          },
          "metadata": {
            "image/png": {
              "width": 745,
              "height": 489
            }
          }
        }
      ]
    },
    {
      "cell_type": "markdown",
      "source": [
        "#Data Preprocessing"
      ],
      "metadata": {
        "id": "S3fiqO6RyCQM"
      }
    },
    {
      "cell_type": "markdown",
      "source": [
        "The tokenizer used is from the transformers library that is the pre-trained model from huggingface."
      ],
      "metadata": {
        "id": "xYHlatR4yPnz"
      }
    },
    {
      "cell_type": "code",
      "source": [
        "PRE_TRAINED_MODEL_NAME = 'bert-base-cased'"
      ],
      "metadata": {
        "id": "iRlMbbTrZAvz"
      },
      "execution_count": 21,
      "outputs": []
    },
    {
      "cell_type": "code",
      "source": [
        "tokenizer = BertTokenizer.from_pretrained(PRE_TRAINED_MODEL_NAME)\n"
      ],
      "metadata": {
        "id": "Mcm7s-ajZpoC",
        "colab": {
          "base_uri": "https://localhost:8080/",
          "height": 113,
          "referenced_widgets": [
            "5f65e855bc994f4e87a742883e6afe36",
            "0749ebbe93e642d486e417e06604329a",
            "03e9efc7f29145f7a7d035435e92fd7b",
            "ffa9897fa2ef4526b23ab170d89560aa",
            "bfd3c44a93e74dab81ab3b77ae7f8392",
            "c5ef5d2f92e5468186df4d7854ae955a",
            "2fb3c3e36a21483db06f57d9e9f5bcef",
            "94708323b0b24331bc9021de81dab08b",
            "a2a1610e41a74d39999c0c634b529ee5",
            "63f7e0fb3f97418589d58b04b096ce62",
            "2cd56ae4183a40aea13d017b6634acba",
            "06a3e4e59c544ee4b465ce4a9728163c",
            "52dae12283814024ab87a873571d4a88",
            "588f08e891c34b859f9f19e3a5b9f852",
            "f351910f1efd4400b3d4f36af43ee3b7",
            "8717acb901c94583989cfaedd364fa9c",
            "a460d43fd79f4e7ca23ecf8a57a139eb",
            "c44ec7ac26e447168ff95ee151ccbdd8",
            "b88b5ec766ad4e21a6b3453800e0c4ce",
            "a855b54efc6b4404857e5a89c9dea115",
            "4c92a111889d401cba4e61abbd02557a",
            "14d56259f08042679fe8676f04f60806",
            "f7453b27c5064476a8005482fa4e28c1",
            "06eba0cfe7fb4d5f89101c9ac0b0ceeb",
            "a835d3d7c9424d30a5a601ea5fcc111e",
            "b4d238a2a72a46f6bc6ef024d9528c70",
            "964d19c63e454a85b5e72d504234f9aa",
            "367f1ad6afb347fdbe8912b00250f657",
            "179e933c3a8a489da7275ff32dc756fd",
            "ce3f6171a8c043859dd3aa4a78de55a3",
            "740e184fe7304046bcb5c160655230bc",
            "f7e8be8cde2648d3b4089e086cdbed26",
            "91a25c4ce4464b4c9212222a67b7daea"
          ]
        },
        "outputId": "39d42f1e-4eb5-4847-c703-9d1ad1721b44"
      },
      "execution_count": 22,
      "outputs": [
        {
          "output_type": "display_data",
          "data": {
            "text/plain": [
              "Downloading vocab.txt:   0%|          | 0.00/208k [00:00<?, ?B/s]"
            ],
            "application/vnd.jupyter.widget-view+json": {
              "version_major": 2,
              "version_minor": 0,
              "model_id": "5f65e855bc994f4e87a742883e6afe36"
            }
          },
          "metadata": {}
        },
        {
          "output_type": "display_data",
          "data": {
            "text/plain": [
              "Downloading tokenizer_config.json:   0%|          | 0.00/29.0 [00:00<?, ?B/s]"
            ],
            "application/vnd.jupyter.widget-view+json": {
              "version_major": 2,
              "version_minor": 0,
              "model_id": "06a3e4e59c544ee4b465ce4a9728163c"
            }
          },
          "metadata": {}
        },
        {
          "output_type": "display_data",
          "data": {
            "text/plain": [
              "Downloading config.json:   0%|          | 0.00/570 [00:00<?, ?B/s]"
            ],
            "application/vnd.jupyter.widget-view+json": {
              "version_major": 2,
              "version_minor": 0,
              "model_id": "f7453b27c5064476a8005482fa4e28c1"
            }
          },
          "metadata": {}
        }
      ]
    },
    {
      "cell_type": "markdown",
      "source": [
        "The BERT model requires special tokens to work on texts. Some of these prebuilt bodels include:\n",
        "\n",
        "`[CLS]` - required at the start of each text to know that the text needs to be classified\n",
        "\n",
        "`[SEP]` - marker for ending of a sentence\n",
        "\n",
        "`[PAD]` - token is used to pad the texts up to a given length\n",
        "\n",
        "Attention mask, a binary tensor, is also used so that the model knows to pay attention to the tokens that include text or markers, but not to pay attention to the padding"
      ],
      "metadata": {
        "id": "3pRcI7L6zGt6"
      }
    },
    {
      "cell_type": "markdown",
      "source": [
        "###Sample:\n",
        "This is all the preprocessing steps shown on an example text"
      ],
      "metadata": {
        "id": "dMQkOTciP9ma"
      }
    },
    {
      "cell_type": "code",
      "source": [
        "sample_txt = 'When was I last outside? I am stuck at home for 2 weeks.'"
      ],
      "metadata": {
        "id": "34cXlCdcJTiA"
      },
      "execution_count": 23,
      "outputs": []
    },
    {
      "cell_type": "code",
      "source": [
        "tokens = tokenizer.tokenize(sample_txt)\n",
        "token_ids = tokenizer.convert_tokens_to_ids(tokens)\n",
        "\n",
        "print(f' Sentence: {sample_txt}')\n",
        "print(f'   Tokens: {tokens}')\n",
        "print(f'Token IDs: {token_ids}')"
      ],
      "metadata": {
        "id": "8WYCH6NuJTZY",
        "colab": {
          "base_uri": "https://localhost:8080/"
        },
        "outputId": "76a413b3-8f72-47cf-d1d4-1a5d03ca5a59"
      },
      "execution_count": 24,
      "outputs": [
        {
          "output_type": "stream",
          "name": "stdout",
          "text": [
            " Sentence: When was I last outside? I am stuck at home for 2 weeks.\n",
            "   Tokens: ['When', 'was', 'I', 'last', 'outside', '?', 'I', 'am', 'stuck', 'at', 'home', 'for', '2', 'weeks', '.']\n",
            "Token IDs: [1332, 1108, 146, 1314, 1796, 136, 146, 1821, 5342, 1120, 1313, 1111, 123, 2277, 119]\n"
          ]
        }
      ]
    },
    {
      "cell_type": "code",
      "source": [
        "encoding = tokenizer.encode_plus(\n",
        "  sample_txt,\n",
        "  max_length=32,\n",
        "  add_special_tokens=True, # Add '[CLS]' and '[SEP]'\n",
        "  return_token_type_ids=False,\n",
        "  padding='max_length',\n",
        "  return_attention_mask=True,\n",
        "  return_tensors='pt',  # Return PyTorch tensors\n",
        ")\n",
        "\n",
        "encoding.keys()"
      ],
      "metadata": {
        "id": "g5QrUb26Ja8x",
        "colab": {
          "base_uri": "https://localhost:8080/"
        },
        "outputId": "cf8a5453-1942-4ef9-b5d0-e8e92b45e057"
      },
      "execution_count": 25,
      "outputs": [
        {
          "output_type": "execute_result",
          "data": {
            "text/plain": [
              "dict_keys(['input_ids', 'attention_mask'])"
            ]
          },
          "metadata": {},
          "execution_count": 25
        }
      ]
    },
    {
      "cell_type": "code",
      "source": [
        "print(len(encoding['input_ids'][0]))\n",
        "encoding['input_ids'][0]"
      ],
      "metadata": {
        "id": "-y1CsEZhJazY",
        "colab": {
          "base_uri": "https://localhost:8080/"
        },
        "outputId": "c424ecba-15f7-44eb-da19-75b889866d72"
      },
      "execution_count": 26,
      "outputs": [
        {
          "output_type": "stream",
          "name": "stdout",
          "text": [
            "32\n"
          ]
        },
        {
          "output_type": "execute_result",
          "data": {
            "text/plain": [
              "tensor([ 101, 1332, 1108,  146, 1314, 1796,  136,  146, 1821, 5342, 1120, 1313,\n",
              "        1111,  123, 2277,  119,  102,    0,    0,    0,    0,    0,    0,    0,\n",
              "           0,    0,    0,    0,    0,    0,    0,    0])"
            ]
          },
          "metadata": {},
          "execution_count": 26
        }
      ]
    },
    {
      "cell_type": "code",
      "source": [
        "print(len(encoding['attention_mask'][0]))\n",
        "encoding['attention_mask']"
      ],
      "metadata": {
        "id": "S0WWHseYJhWm",
        "colab": {
          "base_uri": "https://localhost:8080/"
        },
        "outputId": "629576a9-818a-42eb-f4dc-fe6b887ecac9"
      },
      "execution_count": 27,
      "outputs": [
        {
          "output_type": "stream",
          "name": "stdout",
          "text": [
            "32\n"
          ]
        },
        {
          "output_type": "execute_result",
          "data": {
            "text/plain": [
              "tensor([[1, 1, 1, 1, 1, 1, 1, 1, 1, 1, 1, 1, 1, 1, 1, 1, 1, 0, 0, 0, 0, 0, 0, 0,\n",
              "         0, 0, 0, 0, 0, 0, 0, 0]])"
            ]
          },
          "metadata": {},
          "execution_count": 27
        }
      ]
    },
    {
      "cell_type": "code",
      "source": [
        "tokenizer.convert_ids_to_tokens(encoding['input_ids'][0])"
      ],
      "metadata": {
        "id": "u9wbNFgDJkTy",
        "colab": {
          "base_uri": "https://localhost:8080/"
        },
        "outputId": "67948a91-2f4f-4cfd-f98b-93e8ea7bb3db"
      },
      "execution_count": 28,
      "outputs": [
        {
          "output_type": "execute_result",
          "data": {
            "text/plain": [
              "['[CLS]',\n",
              " 'When',\n",
              " 'was',\n",
              " 'I',\n",
              " 'last',\n",
              " 'outside',\n",
              " '?',\n",
              " 'I',\n",
              " 'am',\n",
              " 'stuck',\n",
              " 'at',\n",
              " 'home',\n",
              " 'for',\n",
              " '2',\n",
              " 'weeks',\n",
              " '.',\n",
              " '[SEP]',\n",
              " '[PAD]',\n",
              " '[PAD]',\n",
              " '[PAD]',\n",
              " '[PAD]',\n",
              " '[PAD]',\n",
              " '[PAD]',\n",
              " '[PAD]',\n",
              " '[PAD]',\n",
              " '[PAD]',\n",
              " '[PAD]',\n",
              " '[PAD]',\n",
              " '[PAD]',\n",
              " '[PAD]',\n",
              " '[PAD]',\n",
              " '[PAD]']"
            ]
          },
          "metadata": {},
          "execution_count": 28
        }
      ]
    },
    {
      "cell_type": "markdown",
      "source": [
        "# Actual process"
      ],
      "metadata": {
        "id": "j43LnpgHJmHI"
      }
    },
    {
      "cell_type": "code",
      "source": [
        "token_lens = []\n",
        "\n",
        "for txt in df.text:\n",
        "  tokens = tokenizer.encode(txt, max_length=512)\n",
        "  token_lens.append(len(tokens))"
      ],
      "metadata": {
        "colab": {
          "base_uri": "https://localhost:8080/"
        },
        "id": "RY-oUQm-aG5T",
        "outputId": "6da80d89-ed83-4796-d725-080dfa214171"
      },
      "execution_count": 29,
      "outputs": [
        {
          "output_type": "stream",
          "name": "stderr",
          "text": [
            "Truncation was not explicitly activated but `max_length` is provided a specific value, please use `truncation=True` to explicitly truncate examples to max length. Defaulting to 'longest_first' truncation strategy. If you encode pairs of sequences (GLUE-style) with the tokenizer you can select this strategy more precisely by providing a specific strategy to `truncation`.\n"
          ]
        }
      ]
    },
    {
      "cell_type": "code",
      "source": [
        "sns.distplot(token_lens)\n",
        "plt.xlim([0, 256]);\n",
        "plt.xlabel('Token count');"
      ],
      "metadata": {
        "colab": {
          "base_uri": "https://localhost:8080/",
          "height": 563
        },
        "id": "iU73W96MaKZ5",
        "outputId": "908d5a25-d2a4-45fe-c76b-50fe6530a70e"
      },
      "execution_count": 30,
      "outputs": [
        {
          "output_type": "stream",
          "name": "stderr",
          "text": [
            "/usr/local/lib/python3.7/dist-packages/seaborn/distributions.py:2619: FutureWarning: `distplot` is a deprecated function and will be removed in a future version. Please adapt your code to use either `displot` (a figure-level function with similar flexibility) or `histplot` (an axes-level function for histograms).\n",
            "  warnings.warn(msg, FutureWarning)\n"
          ]
        },
        {
          "output_type": "display_data",
          "data": {
            "text/plain": [
              "<Figure size 864x576 with 1 Axes>"
            ],
            "image/png": "[encoded data removed]"
          },
          "metadata": {
            "image/png": {
              "width": 740,
              "height": 489
            }
          }
        }
      ]
    },
    {
      "cell_type": "markdown",
      "source": [
        "As most of the text are around 100 tokens long, the maximum length we chose was a little bit bigger at 150"
      ],
      "metadata": {
        "id": "iXoqPWDS0yHi"
      }
    },
    {
      "cell_type": "code",
      "source": [
        "MAX_LEN = 150"
      ],
      "metadata": {
        "id": "EBHVXJBhaN4k"
      },
      "execution_count": 31,
      "outputs": []
    },
    {
      "cell_type": "markdown",
      "source": [
        "Here we created the Pytorch dataset. In the encoding section, it encodes each indivdual tweet, adds the special tokens and pads it to the maximum length. It also uses attention mask to emphasive the text portion of the tweets, as mentioned before"
      ],
      "metadata": {
        "id": "hX72nxmT1IJ4"
      }
    },
    {
      "cell_type": "code",
      "source": [
        "class GPTweetDataset(Dataset):\n",
        "\n",
        "  def __init__(self, tweet, targets, tokenizer, max_len):\n",
        "    self.tweet = tweet\n",
        "    self.targets = targets\n",
        "    self.tokenizer = tokenizer\n",
        "    self.max_len = max_len\n",
        "  \n",
        "  def __len__(self):\n",
        "    return len(self.tweet)\n",
        "  \n",
        "  def __getitem__(self, item):\n",
        "    tweet = str(self.tweet[item])\n",
        "    target = self.targets[item]\n",
        "\n",
        "    encoding = self.tokenizer.encode_plus(\n",
        "      tweet,\n",
        "      add_special_tokens=True,\n",
        "      max_length=self.max_len,\n",
        "      return_token_type_ids=False,\n",
        "      padding='max_length',\n",
        "      return_attention_mask=True,\n",
        "      return_tensors='pt',\n",
        "    )\n",
        "\n",
        "    return {\n",
        "      'tweet_text': tweet,\n",
        "      'input_ids': encoding['input_ids'].flatten(),\n",
        "      'attention_mask': encoding['attention_mask'].flatten(),\n",
        "      'targets': torch.tensor(target, dtype=torch.long)\n",
        "    }"
      ],
      "metadata": {
        "id": "pxYxCimIaWE-"
      },
      "execution_count": 32,
      "outputs": []
    },
    {
      "cell_type": "markdown",
      "source": [
        "Here we are splitting the train, test and validation sets, so that the training set makes up the majority of the data, with validation and testing being a small section of the rest"
      ],
      "metadata": {
        "id": "iBLabcIt1ljJ"
      }
    },
    {
      "cell_type": "code",
      "source": [
        "df_train, df_test = train_test_split(df, test_size=0.1, random_state=RANDOM_SEED)\n",
        "df_val, df_test = train_test_split(df_test, test_size=0.5, random_state=RANDOM_SEED)"
      ],
      "metadata": {
        "id": "AnYNp8j1aagM"
      },
      "execution_count": 33,
      "outputs": []
    },
    {
      "cell_type": "code",
      "source": [
        "df_train.shape, df_val.shape, df_test.shape"
      ],
      "metadata": {
        "colab": {
          "base_uri": "https://localhost:8080/"
        },
        "id": "dFty5QedacYG",
        "outputId": "ddaf209a-ccab-477c-a10f-01361de45e34"
      },
      "execution_count": 34,
      "outputs": [
        {
          "output_type": "execute_result",
          "data": {
            "text/plain": [
              "((8726, 20), (485, 20), (485, 20))"
            ]
          },
          "metadata": {},
          "execution_count": 34
        }
      ]
    },
    {
      "cell_type": "markdown",
      "source": [
        "This function is used to create some data loaders using the GPTweet class defined above, using Pytorch's built in primitives"
      ],
      "metadata": {
        "id": "bS94T51H17uJ"
      }
    },
    {
      "cell_type": "code",
      "source": [
        "def create_data_loader(df, tokenizer, max_len, batch_size):\n",
        "  ds = GPTweetDataset(\n",
        "    tweet=df.text.to_numpy(),\n",
        "    targets=df.sentiment.to_numpy(),\n",
        "    tokenizer=tokenizer,\n",
        "    max_len=max_len\n",
        "  )\n",
        "\n",
        "  return DataLoader(\n",
        "    ds,\n",
        "    batch_size=batch_size,\n",
        "    num_workers=2\n",
        "  )"
      ],
      "metadata": {
        "id": "5WVIX9I9aflL"
      },
      "execution_count": 35,
      "outputs": []
    },
    {
      "cell_type": "markdown",
      "source": [
        "We used 16 mini-batches for the dataloader"
      ],
      "metadata": {
        "id": "Ms1eHFzkCqMN"
      }
    },
    {
      "cell_type": "code",
      "source": [
        "BATCH_SIZE = 16\n",
        "\n",
        "train_data_loader = create_data_loader(df_train, tokenizer, MAX_LEN, BATCH_SIZE)\n",
        "val_data_loader = create_data_loader(df_val, tokenizer, MAX_LEN, BATCH_SIZE)\n",
        "test_data_loader = create_data_loader(df_test, tokenizer, MAX_LEN, BATCH_SIZE)"
      ],
      "metadata": {
        "id": "4U-YNKVkaifs"
      },
      "execution_count": 36,
      "outputs": []
    },
    {
      "cell_type": "markdown",
      "source": [
        "The data iterates over the data_loader and is comprised of the batch size and the sequence length "
      ],
      "metadata": {
        "id": "OBTFcBy1DhcQ"
      }
    },
    {
      "cell_type": "code",
      "source": [
        "data = next(iter(train_data_loader))\n",
        "data.keys()"
      ],
      "metadata": {
        "colab": {
          "base_uri": "https://localhost:8080/"
        },
        "id": "Aa2eYBwdakfP",
        "outputId": "56631f2c-d8d2-416c-b9d6-73dd562da042"
      },
      "execution_count": 37,
      "outputs": [
        {
          "output_type": "execute_result",
          "data": {
            "text/plain": [
              "dict_keys(['tweet_text', 'input_ids', 'attention_mask', 'targets'])"
            ]
          },
          "metadata": {},
          "execution_count": 37
        }
      ]
    },
    {
      "cell_type": "code",
      "source": [
        "print(data['input_ids'].shape)\n",
        "print(data['attention_mask'].shape)\n",
        "print(data['targets'].shape)"
      ],
      "metadata": {
        "colab": {
          "base_uri": "https://localhost:8080/"
        },
        "id": "oFJcBWBS5RXZ",
        "outputId": "c3d81cfb-262b-469b-b6cc-660e72785f53"
      },
      "execution_count": 38,
      "outputs": [
        {
          "output_type": "stream",
          "name": "stdout",
          "text": [
            "torch.Size([16, 150])\n",
            "torch.Size([16, 150])\n",
            "torch.Size([16])\n"
          ]
        }
      ]
    },
    {
      "cell_type": "markdown",
      "source": [
        "# Sentiment Classification using the BERT model"
      ],
      "metadata": {
        "id": "3aPkX1Lr2ZTf"
      }
    },
    {
      "cell_type": "markdown",
      "source": [
        "For the sentiment classification, we used the base version of the pretrained BERT model with 12 encoders, and it is also set to 'cased' to be case-sensitive, as capitalization can provide more emphasive, and can show more sentiment"
      ],
      "metadata": {
        "id": "UVGKLEI9BuK1"
      }
    },
    {
      "cell_type": "code",
      "source": [
        "bert_model = BertModel.from_pretrained(PRE_TRAINED_MODEL_NAME)\n"
      ],
      "metadata": {
        "colab": {
          "base_uri": "https://localhost:8080/",
          "height": 124,
          "referenced_widgets": [
            "6c7bbbee1d684e75a8b7f981962259e2",
            "c10fb7e24f1e49d0bdf947cfa86fc80d",
            "31ff5ef215f44c99a23596975c28e34b",
            "aef6225cee3944fea08306a3c674e08d",
            "30df42abeb7047aaabe3884a6cd50c88",
            "8cbe471db756450d90235849850b6bb0",
            "f9dfc8dfa72347628e22628d6ec5cdaf",
            "ac6adc3f31444d618482e07d075525a3",
            "dba8004b91b1439798113ff250954706",
            "d93376fd47794aebb65df6d576115e94",
            "0394cd6700e64aa7bcdd798fece34ebd"
          ]
        },
        "id": "u8DC4bTUanMs",
        "outputId": "46d0fbca-ea2a-405c-c6b9-fec7b5efd8ea"
      },
      "execution_count": 39,
      "outputs": [
        {
          "output_type": "display_data",
          "data": {
            "text/plain": [
              "Downloading pytorch_model.bin:   0%|          | 0.00/416M [00:00<?, ?B/s]"
            ],
            "application/vnd.jupyter.widget-view+json": {
              "version_major": 2,
              "version_minor": 0,
              "model_id": "6c7bbbee1d684e75a8b7f981962259e2"
            }
          },
          "metadata": {}
        },
        {
          "output_type": "stream",
          "name": "stderr",
          "text": [
            "Some weights of the model checkpoint at bert-base-cased were not used when initializing BertModel: ['cls.predictions.transform.dense.weight', 'cls.seq_relationship.weight', 'cls.predictions.bias', 'cls.predictions.transform.LayerNorm.bias', 'cls.predictions.transform.LayerNorm.weight', 'cls.predictions.transform.dense.bias', 'cls.predictions.decoder.weight', 'cls.seq_relationship.bias']\n",
            "- This IS expected if you are initializing BertModel from the checkpoint of a model trained on another task or with another architecture (e.g. initializing a BertForSequenceClassification model from a BertForPreTraining model).\n",
            "- This IS NOT expected if you are initializing BertModel from the checkpoint of a model that you expect to be exactly identical (initializing a BertForSequenceClassification model from a BertForSequenceClassification model).\n"
          ]
        }
      ]
    },
    {
      "cell_type": "code",
      "source": [
        "last_hidden_state, pooled_output = bert_model(\n",
        "  input_ids=encoding['input_ids'],\n",
        "  attention_mask=encoding['attention_mask'],\n",
        "  return_dict = False   # this is needed to get a tensor as result\n",
        ")"
      ],
      "metadata": {
        "id": "UzOu_GaebSQX"
      },
      "execution_count": 40,
      "outputs": []
    },
    {
      "cell_type": "markdown",
      "source": [
        "The last hidden state is a sequence of hidden states from the last layer of the model:"
      ],
      "metadata": {
        "id": "4dkx3rTYEVos"
      }
    },
    {
      "cell_type": "code",
      "source": [
        "last_hidden_state.shape"
      ],
      "metadata": {
        "colab": {
          "base_uri": "https://localhost:8080/"
        },
        "id": "bp4HUpa_bVxy",
        "outputId": "b0611408-17d4-4d2b-9345-dc631d0f1f4f"
      },
      "execution_count": 41,
      "outputs": [
        {
          "output_type": "execute_result",
          "data": {
            "text/plain": [
              "torch.Size([1, 32, 768])"
            ]
          },
          "metadata": {},
          "execution_count": 41
        }
      ]
    },
    {
      "cell_type": "code",
      "source": [
        "pooled_output.shape"
      ],
      "metadata": {
        "colab": {
          "base_uri": "https://localhost:8080/"
        },
        "id": "C9FPA6zXbZnd",
        "outputId": "48ff9526-2ea6-451c-94c2-a29fa7a7d0da"
      },
      "execution_count": 42,
      "outputs": [
        {
          "output_type": "execute_result",
          "data": {
            "text/plain": [
              "torch.Size([1, 768])"
            ]
          },
          "metadata": {},
          "execution_count": 42
        }
      ]
    },
    {
      "cell_type": "code",
      "source": [
        "bert_model.config.hidden_size"
      ],
      "metadata": {
        "colab": {
          "base_uri": "https://localhost:8080/"
        },
        "id": "-cwpi3hzbXcN",
        "outputId": "06375346-e493-47b5-de0c-47121a969f99"
      },
      "execution_count": 43,
      "outputs": [
        {
          "output_type": "execute_result",
          "data": {
            "text/plain": [
              "768"
            ]
          },
          "metadata": {},
          "execution_count": 43
        }
      ]
    },
    {
      "cell_type": "markdown",
      "source": [
        "This class is the Sentiment Classifer that uses the pretrained model for the classification, and the dropout layer for regulization. All of this is then put into the model, which is moved into the GPU"
      ],
      "metadata": {
        "id": "VzIuJ--2E_bJ"
      }
    },
    {
      "cell_type": "code",
      "source": [
        "class SentimentClassifier(nn.Module):\n",
        "\n",
        "  def __init__(self, n_classes):\n",
        "    super(SentimentClassifier, self).__init__()\n",
        "    self.bert = BertModel.from_pretrained(PRE_TRAINED_MODEL_NAME)\n",
        "    self.drop = nn.Dropout(p=0.3)\n",
        "    self.out = nn.Linear(self.bert.config.hidden_size, n_classes)\n",
        "  \n",
        "  def forward(self, input_ids, attention_mask,return_dict ):\n",
        "    _, pooled_output = self.bert(\n",
        "      input_ids=input_ids,\n",
        "      attention_mask=attention_mask,\n",
        "      return_dict=False\n",
        "    )\n",
        "    output = self.drop(pooled_output)\n",
        "    return self.out(output)"
      ],
      "metadata": {
        "id": "9aVYqKMgbcMK"
      },
      "execution_count": 44,
      "outputs": []
    },
    {
      "cell_type": "code",
      "source": [
        "model = SentimentClassifier(len(class_names))\n",
        "model = model.to(device)"
      ],
      "metadata": {
        "colab": {
          "base_uri": "https://localhost:8080/"
        },
        "id": "DFcBAU8sbfyw",
        "outputId": "fcba1e41-a8c0-4ee7-a752-475bd49c03bf"
      },
      "execution_count": 45,
      "outputs": [
        {
          "output_type": "stream",
          "name": "stderr",
          "text": [
            "Some weights of the model checkpoint at bert-base-cased were not used when initializing BertModel: ['cls.predictions.transform.dense.weight', 'cls.seq_relationship.weight', 'cls.predictions.bias', 'cls.predictions.transform.LayerNorm.bias', 'cls.predictions.transform.LayerNorm.weight', 'cls.predictions.transform.dense.bias', 'cls.predictions.decoder.weight', 'cls.seq_relationship.bias']\n",
            "- This IS expected if you are initializing BertModel from the checkpoint of a model trained on another task or with another architecture (e.g. initializing a BertForSequenceClassification model from a BertForPreTraining model).\n",
            "- This IS NOT expected if you are initializing BertModel from the checkpoint of a model that you expect to be exactly identical (initializing a BertForSequenceClassification model from a BertForSequenceClassification model).\n"
          ]
        }
      ]
    },
    {
      "cell_type": "markdown",
      "source": [
        "The input ids and the attention mask is also moved into the GPU for the softmax model that is applied later"
      ],
      "metadata": {
        "id": "KJDeLve-GSnM"
      }
    },
    {
      "cell_type": "code",
      "source": [
        "input_ids = data['input_ids'].to(device)\n",
        "attention_mask = data['attention_mask'].to(device)\n",
        "\n",
        "print(input_ids.shape) # batch size, seq length\n",
        "print(attention_mask.shape) # batch size, seq length"
      ],
      "metadata": {
        "colab": {
          "base_uri": "https://localhost:8080/"
        },
        "id": "jfXFaZHSbxp8",
        "outputId": "dc6a63e0-d3a0-47ea-9a7c-c865433f4153"
      },
      "execution_count": 46,
      "outputs": [
        {
          "output_type": "stream",
          "name": "stdout",
          "text": [
            "torch.Size([16, 150])\n",
            "torch.Size([16, 150])\n"
          ]
        }
      ]
    },
    {
      "cell_type": "markdown",
      "source": [
        "This shows the untrained version of the model and the probabilites of each of the three sentiments"
      ],
      "metadata": {
        "id": "e5ptaVT_Grgg"
      }
    },
    {
      "cell_type": "code",
      "source": [
        "return_dict = False\n",
        "F.softmax(model(input_ids, attention_mask=attention_mask, return_dict=return_dict) , dim=1)"
      ],
      "metadata": {
        "colab": {
          "base_uri": "https://localhost:8080/"
        },
        "id": "T3kS6qO3b0kR",
        "outputId": "173849a2-86c2-47b0-b81a-0f66e591f117"
      },
      "execution_count": 47,
      "outputs": [
        {
          "output_type": "execute_result",
          "data": {
            "text/plain": [
              "tensor([[0.2041, 0.4713, 0.3246],\n",
              "        [0.2266, 0.3523, 0.4211],\n",
              "        [0.3475, 0.2630, 0.3895],\n",
              "        [0.2090, 0.3505, 0.4405],\n",
              "        [0.5495, 0.2154, 0.2351],\n",
              "        [0.2493, 0.3771, 0.3736],\n",
              "        [0.2413, 0.3570, 0.4017],\n",
              "        [0.3785, 0.2170, 0.4044],\n",
              "        [0.4017, 0.2073, 0.3910],\n",
              "        [0.3364, 0.1839, 0.4797],\n",
              "        [0.3113, 0.1924, 0.4963],\n",
              "        [0.3354, 0.2015, 0.4630],\n",
              "        [0.2258, 0.3885, 0.3856],\n",
              "        [0.3024, 0.2685, 0.4291],\n",
              "        [0.3251, 0.2538, 0.4211],\n",
              "        [0.1409, 0.3601, 0.4990]], device='cuda:0', grad_fn=<SoftmaxBackward0>)"
            ]
          },
          "metadata": {},
          "execution_count": 47
        }
      ]
    },
    {
      "cell_type": "markdown",
      "source": [
        "# Training\n",
        "The optimizer used is the AdamW algorithm, which is based on the one used in the original BERT paper\n",
        "The number of epochs are set to 10 and is used to calculate the total number of steps. \n",
        "The loss function is also defined and the built in CrossEntropyLoss is used\n"
      ],
      "metadata": {
        "id": "ASu-wg2MKbse"
      }
    },
    {
      "cell_type": "code",
      "source": [
        "EPOCHS = 10\n",
        "\n",
        "optimizer = AdamW(model.parameters(), lr=2e-5, correct_bias=False)\n",
        "total_steps = len(train_data_loader) * EPOCHS\n",
        "\n",
        "scheduler = get_linear_schedule_with_warmup(\n",
        "  optimizer,\n",
        "  num_warmup_steps=0,\n",
        "  num_training_steps=total_steps\n",
        ")\n",
        "\n",
        "loss_fn = nn.CrossEntropyLoss().to(device)"
      ],
      "metadata": {
        "colab": {
          "base_uri": "https://localhost:8080/"
        },
        "id": "5BCd0HC5b3at",
        "outputId": "5e107809-e8e2-48ab-eaee-9e710d8085dd"
      },
      "execution_count": 48,
      "outputs": [
        {
          "output_type": "stream",
          "name": "stderr",
          "text": [
            "/usr/local/lib/python3.7/dist-packages/transformers/optimization.py:310: FutureWarning: This implementation of AdamW is deprecated and will be removed in a future version. Use the PyTorch implementation torch.optim.AdamW instead, or set `no_deprecation_warning=True` to disable this warning\n",
            "  FutureWarning,\n"
          ]
        }
      ]
    },
    {
      "cell_type": "markdown",
      "source": [
        "This is the training function, that takes in all the neccessary values. It iterates over the dataloader and takes the outputs of the model, to make a prediction on the most likely sentiment and the loss. The correct predictions are incremented, and the loss is backproporated and gradient clipping is applied to the model.\n",
        "\n",
        "The entire function returns the number of correct predictions and the mean loss "
      ],
      "metadata": {
        "id": "B13TGKg3Hxug"
      }
    },
    {
      "cell_type": "code",
      "metadata": {
        "id": "bzl9UhuNx1_Q"
      },
      "source": [
        "def train_epoch(\n",
        "  model, \n",
        "  data_loader, \n",
        "  loss_fn, \n",
        "  optimizer, \n",
        "  device, \n",
        "  scheduler, \n",
        "  n_examples\n",
        "):\n",
        "  model = model.train()\n",
        "\n",
        "  losses = []\n",
        "  correct_predictions = 0\n",
        "  \n",
        "  for d in data_loader:\n",
        "    input_ids = d[\"input_ids\"].to(device)\n",
        "    attention_mask = d[\"attention_mask\"].to(device)\n",
        "    targets = d[\"targets\"].to(device)\n",
        "\n",
        "    outputs = model(\n",
        "      input_ids=input_ids,\n",
        "      attention_mask=attention_mask,\n",
        "      return_dict=False\n",
        "    )\n",
        "\n",
        "    _, preds = torch.max(outputs, dim=1)\n",
        "    loss = loss_fn(outputs, targets)\n",
        "\n",
        "    correct_predictions += torch.sum(preds == targets).detach().cpu().numpy()\n",
        "    losses.append(loss.item())\n",
        "\n",
        "    loss.backward()\n",
        "    nn.utils.clip_grad_norm_(model.parameters(), max_norm=1.0)\n",
        "    optimizer.step()\n",
        "    scheduler.step()\n",
        "    optimizer.zero_grad()\n",
        "\n",
        "  return float(correct_predictions) / n_examples , np.mean(losses)"
      ],
      "execution_count": 49,
      "outputs": []
    },
    {
      "cell_type": "markdown",
      "source": [
        "This function evaluates the model, by disabiling the gradient function and dropout, and doing the same steps as in the train function by iterating over the dataloader, collectiong the loss and correct predictions"
      ],
      "metadata": {
        "id": "ImENIwyLJTJ_"
      }
    },
    {
      "cell_type": "code",
      "source": [
        "def eval_model(model, data_loader, loss_fn, device, n_examples):\n",
        "  model = model.eval()\n",
        "\n",
        "  losses = []\n",
        "  correct_predictions = 0\n",
        "\n",
        "  with torch.no_grad():\n",
        "    for d in data_loader:\n",
        "      input_ids = d[\"input_ids\"].to(device)\n",
        "      attention_mask = d[\"attention_mask\"].to(device)\n",
        "      targets = d[\"targets\"].to(device)\n",
        "\n",
        "      outputs = model(\n",
        "        input_ids=input_ids,\n",
        "        attention_mask=attention_mask,\n",
        "        return_dict=False\n",
        "      )\n",
        "      _, preds = torch.max(outputs, dim=1)\n",
        "\n",
        "      loss = loss_fn(outputs, targets)\n",
        "\n",
        "      correct_predictions += torch.sum(preds == targets).detach().cpu().numpy()\n",
        "      losses.append(loss.item())\n",
        "\n",
        "  return float(correct_predictions) / n_examples, np.mean(losses)"
      ],
      "metadata": {
        "id": "dg657nGub9XL"
      },
      "execution_count": 50,
      "outputs": []
    },
    {
      "cell_type": "markdown",
      "source": [
        "This section creates the training group and shows the training loss and accuracy and the validation losss and accuracy. It runs through all the epochs, and the training data goes into the train function, and the validation data goes into the evaluation function. It also saves the model with the best accuracy and improves future accuracy using that."
      ],
      "metadata": {
        "id": "GxvtnM8nKEtt"
      }
    },
    {
      "cell_type": "code",
      "source": [
        "%%time\n",
        "\n",
        "history = defaultdict(list)\n",
        "best_accuracy = 0\n",
        "\n",
        "for epoch in range(EPOCHS):\n",
        "\n",
        "  print(f'Epoch {epoch + 1}/{EPOCHS}')\n",
        "  print('-' * 10)\n",
        "\n",
        "  train_acc, train_loss = train_epoch(\n",
        "    model,\n",
        "    train_data_loader,    \n",
        "    loss_fn, \n",
        "    optimizer, \n",
        "    device, \n",
        "    scheduler, \n",
        "    len(df_train)\n",
        "  )\n",
        "\n",
        "  print(f'Train loss {train_loss} accuracy {train_acc}')\n",
        "\n",
        "  val_acc, val_loss = eval_model(\n",
        "    model,\n",
        "    val_data_loader,\n",
        "    loss_fn, \n",
        "    device, \n",
        "    len(df_val)\n",
        "  )\n",
        "\n",
        "  print(f'Val   loss {val_loss} accuracy {val_acc}')\n",
        "  print()\n",
        "\n",
        "  history['train_acc'].append(train_acc)\n",
        "  history['train_loss'].append(train_loss)\n",
        "  history['val_acc'].append(val_acc)\n",
        "  history['val_loss'].append(val_loss)\n",
        "\n",
        "  if val_acc > best_accuracy:\n",
        "    torch.save(model.state_dict(), 'best_model_state.bin')\n",
        "    best_accuracy = val_acc"
      ],
      "metadata": {
        "colab": {
          "base_uri": "https://localhost:8080/"
        },
        "id": "gXS9-yHUb_eV",
        "outputId": "ff34b46e-0220-41d4-8dc3-ecc0ff795e52"
      },
      "execution_count": 51,
      "outputs": [
        {
          "output_type": "stream",
          "name": "stdout",
          "text": [
            "Epoch 1/10\n",
            "----------\n",
            "Train loss 0.5831143081413357 accuracy 0.7591107036442815\n",
            "Val   loss 0.3607363628764306 accuracy 0.8969072164948454\n",
            "\n",
            "Epoch 2/10\n",
            "----------\n",
            "Train loss 0.2133245311362751 accuracy 0.9381159752463901\n",
            "Val   loss 0.3748740117035566 accuracy 0.9175257731958762\n",
            "\n",
            "Epoch 3/10\n",
            "----------\n",
            "Train loss 0.10615911807183896 accuracy 0.9730689892275957\n",
            "Val   loss 0.4045107796405172 accuracy 0.9175257731958762\n",
            "\n",
            "Epoch 4/10\n",
            "----------\n",
            "Train loss 0.060760382076959045 accuracy 0.9853311941324776\n",
            "Val   loss 0.4684597644569998 accuracy 0.931958762886598\n",
            "\n",
            "Epoch 5/10\n",
            "----------\n",
            "Train loss 0.03320115522037268 accuracy 0.9924363969745588\n",
            "Val   loss 0.5203199676358171 accuracy 0.9257731958762887\n",
            "\n",
            "Epoch 6/10\n",
            "----------\n",
            "Train loss 0.023091845158704504 accuracy 0.9946137978455192\n",
            "Val   loss 0.5784234679273551 accuracy 0.9237113402061856\n",
            "\n",
            "Epoch 7/10\n",
            "----------\n",
            "Train loss 0.014098489494814542 accuracy 0.9965619986247994\n",
            "Val   loss 0.6290266630341883 accuracy 0.9195876288659793\n",
            "\n",
            "Epoch 8/10\n",
            "----------\n",
            "Train loss 0.009652469520738905 accuracy 0.9975933990373597\n",
            "Val   loss 0.6572575190101259 accuracy 0.9154639175257732\n",
            "\n",
            "Epoch 9/10\n",
            "----------\n",
            "Train loss 0.006021725125823244 accuracy 0.9981663992665597\n",
            "Val   loss 0.7155212816195994 accuracy 0.9154639175257732\n",
            "\n",
            "Epoch 10/10\n",
            "----------\n",
            "Train loss 0.005282054420624243 accuracy 0.9985101994040798\n",
            "Val   loss 0.7239420522820447 accuracy 0.9154639175257732\n",
            "\n",
            "CPU times: user 26min 30s, sys: 12min 19s, total: 38min 50s\n",
            "Wall time: 39min 5s\n"
          ]
        }
      ]
    },
    {
      "cell_type": "code",
      "source": [
        "plt.plot(history['train_acc'], label='train accuracy')\n",
        "plt.plot(history['val_acc'], label='validation accuracy')\n",
        "\n",
        "plt.title('Training history')\n",
        "plt.ylabel('Accuracy')\n",
        "plt.xlabel('Epoch')\n",
        "plt.legend()\n",
        "plt.ylim([0, 1]);"
      ],
      "metadata": {
        "id": "IolFowQDcCv5",
        "colab": {
          "base_uri": "https://localhost:8080/",
          "height": 523
        },
        "outputId": "b692e3f4-bd51-47bb-b3fd-b2429f67bf61"
      },
      "execution_count": 52,
      "outputs": [
        {
          "output_type": "display_data",
          "data": {
            "text/plain": [
              "<Figure size 864x576 with 1 Axes>"
            ],
            "image/png": "[encoded data removed]"
          },
          "metadata": {
            "image/png": {
              "width": 732,
              "height": 506
            }
          }
        }
      ]
    },
    {
      "cell_type": "markdown",
      "source": [
        "The accuracy of the test data is very similar to that of the validation data:"
      ],
      "metadata": {
        "id": "mW40qg92Lxtc"
      }
    },
    {
      "cell_type": "code",
      "source": [
        "test_acc, _ = eval_model(\n",
        "  model,\n",
        "  test_data_loader,\n",
        "  loss_fn,\n",
        "  device,\n",
        "  len(df_test)\n",
        ")\n",
        "\n",
        "print(test_acc)"
      ],
      "metadata": {
        "id": "mODk4WQecH2R",
        "colab": {
          "base_uri": "https://localhost:8080/"
        },
        "outputId": "bada4d6d-5bc2-496f-da0f-3e68b8aafa85"
      },
      "execution_count": 53,
      "outputs": [
        {
          "output_type": "stream",
          "name": "stdout",
          "text": [
            "0.931958762886598\n"
          ]
        }
      ]
    },
    {
      "cell_type": "markdown",
      "source": [
        "This function evalutes the trained model on the test data to see how accurate it is "
      ],
      "metadata": {
        "id": "h_VrXs36MPxB"
      }
    },
    {
      "cell_type": "code",
      "source": [
        "def get_predictions(model, data_loader):\n",
        "  model = model.eval()\n",
        "  \n",
        "  tweet_texts = []\n",
        "  predictions = []\n",
        "  prediction_probs = []\n",
        "  real_values = []\n",
        "\n",
        "  with torch.no_grad():\n",
        "    for d in data_loader:\n",
        "\n",
        "      texts = d[\"tweet_text\"]\n",
        "      input_ids = d[\"input_ids\"].to(device)\n",
        "      attention_mask = d[\"attention_mask\"].to(device)\n",
        "      targets = d[\"targets\"].to(device)\n",
        "\n",
        "      outputs = model(\n",
        "        input_ids=input_ids,\n",
        "        attention_mask=attention_mask,\n",
        "        return_dict=False\n",
        "      )\n",
        "      _, preds = torch.max(outputs, dim=1)\n",
        "\n",
        "      probs = F.softmax(outputs, dim=1)\n",
        "\n",
        "      tweet_texts.extend(texts)\n",
        "      predictions.extend(preds)\n",
        "      prediction_probs.extend(probs)\n",
        "      real_values.extend(targets)\n",
        "\n",
        "  predictions = torch.stack(predictions).cpu()\n",
        "  prediction_probs = torch.stack(prediction_probs).cpu()\n",
        "  real_values = torch.stack(real_values).cpu()\n",
        "  return tweet_texts, predictions, prediction_probs, real_values"
      ],
      "metadata": {
        "id": "rfm08PIncJnK"
      },
      "execution_count": 54,
      "outputs": []
    },
    {
      "cell_type": "code",
      "source": [
        "y_tweet_texts, y_pred, y_pred_probs, y_test = get_predictions(\n",
        "  model,\n",
        "  test_data_loader\n",
        ")"
      ],
      "metadata": {
        "id": "ugMAhAbpcMV_"
      },
      "execution_count": 55,
      "outputs": []
    },
    {
      "cell_type": "markdown",
      "source": [
        "Here is the Classification Report"
      ],
      "metadata": {
        "id": "NalKZsjeMhZ3"
      }
    },
    {
      "cell_type": "code",
      "source": [
        "print(classification_report(y_test, y_pred, target_names=class_names))"
      ],
      "metadata": {
        "id": "gaU2hr4ecOSw",
        "colab": {
          "base_uri": "https://localhost:8080/"
        },
        "outputId": "bf903dc2-a9b6-47ed-d2a8-2d5eec15af3b"
      },
      "execution_count": 56,
      "outputs": [
        {
          "output_type": "stream",
          "name": "stdout",
          "text": [
            "              precision    recall  f1-score   support\n",
            "\n",
            "    negative       0.92      0.92      0.92       147\n",
            "     neutral       0.97      0.95      0.96       182\n",
            "    positive       0.91      0.92      0.91       156\n",
            "\n",
            "    accuracy                           0.93       485\n",
            "   macro avg       0.93      0.93      0.93       485\n",
            "weighted avg       0.93      0.93      0.93       485\n",
            "\n"
          ]
        }
      ]
    },
    {
      "cell_type": "code",
      "source": [
        "def show_confusion_matrix(confusion_matrix):\n",
        "  hmap = sns.heatmap(confusion_matrix, annot=True, fmt=\"d\", cmap=\"Blues\")\n",
        "  hmap.yaxis.set_ticklabels(hmap.yaxis.get_ticklabels(), rotation=0, ha='right')\n",
        "  hmap.xaxis.set_ticklabels(hmap.xaxis.get_ticklabels(), rotation=30, ha='right')\n",
        "  plt.ylabel('True sentiment')\n",
        "  plt.xlabel('Predicted sentiment');\n",
        "\n",
        "cm = confusion_matrix(y_test, y_pred)\n",
        "df_cm = pd.DataFrame(cm, index=class_names, columns=class_names)\n",
        "show_confusion_matrix(df_cm)"
      ],
      "metadata": {
        "id": "P9hta2UocRGD",
        "colab": {
          "base_uri": "https://localhost:8080/",
          "height": 533
        },
        "outputId": "84f6d863-1f4b-4725-91e5-bd2e13b39c9e"
      },
      "execution_count": 57,
      "outputs": [
        {
          "output_type": "display_data",
          "data": {
            "text/plain": [
              "<Figure size 864x576 with 2 Axes>"
            ],
            "image/png": "[encoded data removed]"
          },
          "metadata": {
            "image/png": {
              "width": 725,
              "height": 516
            }
          }
        }
      ]
    },
    {
      "cell_type": "code",
      "source": [
        "idx = 4\n",
        "\n",
        "tweet_text = y_tweet_texts[idx]\n",
        "true_sentiment = y_test[idx]\n",
        "pred_df = pd.DataFrame({\n",
        "  'class_names': class_names,\n",
        "  'values': y_pred_probs[idx]\n",
        "})"
      ],
      "metadata": {
        "id": "XfTnn_PKcTHM"
      },
      "execution_count": 58,
      "outputs": []
    },
    {
      "cell_type": "code",
      "source": [
        "print(\"\\n\".join(wrap(tweet_text)))\n",
        "print()\n",
        "print(f'True sentiment: {class_names[true_sentiment]}')"
      ],
      "metadata": {
        "id": "DSp71LPEcUtT",
        "colab": {
          "base_uri": "https://localhost:8080/"
        },
        "outputId": "6f4adae3-6076-4729-d370-dad813779694"
      },
      "execution_count": 59,
      "outputs": [
        {
          "output_type": "stream",
          "name": "stdout",
          "text": [
            "Long Covid Covaxin Covid19 Unvaccinated\n",
            "\n",
            "True sentiment: negative\n"
          ]
        }
      ]
    },
    {
      "cell_type": "code",
      "source": [
        "sns.barplot(x='values', y='class_names', data=pred_df, orient='h')\n",
        "plt.ylabel('sentiment')\n",
        "plt.xlabel('probability')\n",
        "plt.xlim([0, 1]);"
      ],
      "metadata": {
        "id": "3TJa9Rs9cWuB",
        "colab": {
          "base_uri": "https://localhost:8080/",
          "height": 506
        },
        "outputId": "a935b94c-9539-4320-d593-6a0eec7e2dc4"
      },
      "execution_count": 60,
      "outputs": [
        {
          "output_type": "display_data",
          "data": {
            "text/plain": [
              "<Figure size 864x576 with 1 Axes>"
            ],
            "image/png": "[encoded data removed]"
          },
          "metadata": {
            "image/png": {
              "width": 779,
              "height": 489
            }
          }
        }
      ]
    },
    {
      "cell_type": "markdown",
      "source": [
        "The model is also able to identify the sentiment of raw text such as shown below:"
      ],
      "metadata": {
        "id": "Ik3nJad9NF6B"
      }
    },
    {
      "cell_type": "code",
      "source": [
        "tweet_text = \"The vaccine was great!\""
      ],
      "metadata": {
        "id": "hKU2WPyMcYTN"
      },
      "execution_count": 61,
      "outputs": []
    },
    {
      "cell_type": "code",
      "source": [
        "encoded_tweet = tokenizer.encode_plus(\n",
        "  tweet_text,\n",
        "  max_length=MAX_LEN,\n",
        "  add_special_tokens=True,\n",
        "  return_token_type_ids=False,\n",
        "  pad_to_max_length=True,\n",
        "  return_attention_mask=True,\n",
        "  return_tensors='pt',\n",
        ")"
      ],
      "metadata": {
        "id": "2_s3AfqUcavc",
        "colab": {
          "base_uri": "https://localhost:8080/"
        },
        "outputId": "47e4f4c9-0bb0-4172-e12a-9150a9775611"
      },
      "execution_count": 62,
      "outputs": [
        {
          "output_type": "stream",
          "name": "stderr",
          "text": [
            "/usr/local/lib/python3.7/dist-packages/transformers/tokenization_utils_base.py:2329: FutureWarning: The `pad_to_max_length` argument is deprecated and will be removed in a future version, use `padding=True` or `padding='longest'` to pad to the longest sequence in the batch, or use `padding='max_length'` to pad to a max length. In this case, you can give a specific length with `max_length` (e.g. `max_length=45`) or leave max_length to None to pad to the maximal input size of the model (e.g. 512 for Bert).\n",
            "  FutureWarning,\n"
          ]
        }
      ]
    },
    {
      "cell_type": "code",
      "source": [
        "input_ids = encoded_tweet['input_ids'].to(device)\n",
        "attention_mask = encoded_tweet['attention_mask'].to(device)\n",
        "\n",
        "output = model(input_ids, attention_mask,return_dict=False)\n",
        "_, prediction = torch.max(output, dim=1)\n",
        "\n",
        "print(f'Tweet text: {tweet_text}')\n",
        "print(f'Sentiment  : {class_names[prediction]}')"
      ],
      "metadata": {
        "id": "OQO1jEhoccMO",
        "colab": {
          "base_uri": "https://localhost:8080/"
        },
        "outputId": "458465bb-71fc-47dd-a0af-056ddcc76188"
      },
      "execution_count": 63,
      "outputs": [
        {
          "output_type": "stream",
          "name": "stdout",
          "text": [
            "Tweet text: The vaccine was great!\n",
            "Sentiment  : positive\n"
          ]
        }
      ]
    },
    {
      "cell_type": "markdown",
      "source": [
        "# References:\n",
        "https://towardsdatascience.com/my-absolute-go-to-for-sentiment-analysis-textblob-3ac3a11d524\n",
        "\n",
        "\n",
        "https://textblob.readthedocs.io/en/dev/advanced_usage.html#sentiment-analyzers\n",
        "\n",
        "https://curiousily.com/posts/sentiment-analysis-with-bert-and-hugging-face-using-pytorch-and-python/\n",
        "\n",
        "https://www.nbshare.io/notebook/754493525/Tweet-Sentiment-Analysis-Using-LSTM-With-PyTorch/"
      ],
      "metadata": {
        "id": "fCYahRo88qw2"
      }
    },
    {
      "cell_type": "markdown",
      "source": [
        "# Data visualization:\n",
        "\n",
        "For the data visualization we put all the sentiment analysis and the new columns added with TextBlob into a new file"
      ],
      "metadata": {
        "id": "39m46pPzUGKA"
      }
    },
    {
      "cell_type": "code",
      "source": [
        "file = open(\"tweets_visual.csv\", \"a\")\n",
        "df.to_csv('tweets_visual.csv')"
      ],
      "metadata": {
        "id": "DeST3sI4UKdn"
      },
      "execution_count": 65,
      "outputs": []
    }
  ]
}